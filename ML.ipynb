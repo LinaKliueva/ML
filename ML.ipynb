{
 "cells": [
  {
   "cell_type": "markdown",
   "metadata": {},
   "source": [
    "**Задача**\n",
    "\n",
    "Сеть фитнес-центров «Культурист-датасаентист» разрабатывает стратегию взаимодействия с клиентами на основе аналитических данных.\n",
    "Для фитнес-центра можно считать, что клиент попал в отток, если за последний месяц ни разу не посетил спортзал. \n",
    "Чтобы бороться с оттоком, необходимо провести анализ и подготовить план действий по удержанию клиентов.\n",
    "\n",
    "А именно:\n",
    "- научиться прогнозировать вероятность оттока (на уровне следующего месяца) для каждого клиента;\n",
    "- сформировать типичные портреты клиентов: выделить несколько наиболее ярких групп и охарактеризовать их основные свойства;\n",
    "- проанализировать основные признаки, наиболее сильно влияющие на отток;\n",
    "- сформулировать основные выводы и разработать рекомендации по повышению качества работы с клиентами:\n",
    "1) выделить целевые группы клиентов;\n",
    "2) предложить меры по снижению оттока;\n",
    "3) определить другие особенности взаимодействия с клиентами.\n",
    "\n",
    "**Описание данных**\n",
    "\n",
    "- 'gender' — пол;\n",
    "- 'Near_Location' — проживание или работа в районе, где находится фитнес-центр;\n",
    "- 'Partner' — сотрудник компании-партнёра клуба (сотрудничество с компаниями, чьи сотрудники могут получать скидки на абонемент — в таком случае фитнес-центр хранит информацию о работодателе клиента);\n",
    "- 'Promo_friends' — факт первоначальной записи в рамках акции «приведи друга» (использовал промо-код от знакомого при оплате первого абонемента);\n",
    "- 'Phone' — наличие контактного телефона;\n",
    "- 'Age' — возраст;\n",
    "- 'Lifetime' — время с момента первого обращения в фитнес-центр (в месяцах).\n",
    "\n",
    "Информация на основе журнала посещений, покупок и информация о текущем статусе абонемента клиента:\n",
    "- 'Contract_period' — длительность текущего действующего абонемента (месяц, 6 месяцев, год);\n",
    "- 'Month_to_end_contract' — срок до окончания текущего действующего абонемента (в месяцах);\n",
    "- 'Group_visits' — факт посещения групповых занятий;\n",
    "- 'Avg_class_frequency_total' — средняя частота посещений в неделю за все время с начала действия абонемента;\n",
    "- 'Avg_class_frequency_current_month' — средняя частота посещений в неделю за предыдущий месяц;\n",
    "- 'Avg_additional_charges_total' — суммарная выручка от других услуг фитнес-центра: кафе, спорттовары, косметический и массажный салон.\n",
    "- 'Churn' — факт оттока в текущем месяце."
   ]
  },
  {
   "cell_type": "markdown",
   "metadata": {},
   "source": [
    "#### Изучение данных"
   ]
  },
  {
   "cell_type": "code",
   "execution_count": 1,
   "metadata": {},
   "outputs": [],
   "source": [
    "import pandas as pd\n",
    "import numpy as np\n",
    "\n",
    "from matplotlib import pyplot as plt\n",
    "import seaborn as sns\n",
    "\n",
    "from sklearn.model_selection import train_test_split\n",
    "from sklearn.linear_model import LogisticRegression\n",
    "from sklearn.preprocessing import StandardScaler\n",
    "from sklearn.metrics import accuracy_score, precision_score, recall_score, f1_score\n",
    "\n",
    "from sklearn.ensemble import RandomForestClassifier, GradientBoostingClassifier\n",
    "\n",
    "from sklearn.preprocessing import StandardScaler\n",
    "from sklearn.linear_model import Lasso, Ridge\n",
    "from sklearn.tree import DecisionTreeRegressor\n",
    "from sklearn.ensemble import RandomForestRegressor, GradientBoostingRegressor\n",
    "from sklearn.metrics import mean_absolute_error, mean_squared_error, r2_score\n",
    "from scipy.cluster.hierarchy import dendrogram, linkage\n",
    "from sklearn.cluster import KMeans\n",
    "\n",
    "import warnings \n",
    "warnings.filterwarnings('ignore')"
   ]
  },
  {
   "cell_type": "code",
   "execution_count": 2,
   "metadata": {
    "scrolled": false
   },
   "outputs": [
    {
     "data": {
      "text/html": [
       "<div>\n",
       "<style scoped>\n",
       "    .dataframe tbody tr th:only-of-type {\n",
       "        vertical-align: middle;\n",
       "    }\n",
       "\n",
       "    .dataframe tbody tr th {\n",
       "        vertical-align: top;\n",
       "    }\n",
       "\n",
       "    .dataframe thead th {\n",
       "        text-align: right;\n",
       "    }\n",
       "</style>\n",
       "<table border=\"1\" class=\"dataframe\">\n",
       "  <thead>\n",
       "    <tr style=\"text-align: right;\">\n",
       "      <th></th>\n",
       "      <th>gender</th>\n",
       "      <th>Near_Location</th>\n",
       "      <th>Partner</th>\n",
       "      <th>Promo_friends</th>\n",
       "      <th>Phone</th>\n",
       "      <th>Contract_period</th>\n",
       "      <th>Group_visits</th>\n",
       "      <th>Age</th>\n",
       "      <th>Avg_additional_charges_total</th>\n",
       "      <th>Month_to_end_contract</th>\n",
       "      <th>Lifetime</th>\n",
       "      <th>Avg_class_frequency_total</th>\n",
       "      <th>Avg_class_frequency_current_month</th>\n",
       "      <th>Churn</th>\n",
       "    </tr>\n",
       "  </thead>\n",
       "  <tbody>\n",
       "    <tr>\n",
       "      <th>0</th>\n",
       "      <td>1</td>\n",
       "      <td>1</td>\n",
       "      <td>1</td>\n",
       "      <td>1</td>\n",
       "      <td>0</td>\n",
       "      <td>6</td>\n",
       "      <td>1</td>\n",
       "      <td>29</td>\n",
       "      <td>14.227470</td>\n",
       "      <td>5.0</td>\n",
       "      <td>3</td>\n",
       "      <td>0.020398</td>\n",
       "      <td>0.000000</td>\n",
       "      <td>0</td>\n",
       "    </tr>\n",
       "    <tr>\n",
       "      <th>1</th>\n",
       "      <td>0</td>\n",
       "      <td>1</td>\n",
       "      <td>0</td>\n",
       "      <td>0</td>\n",
       "      <td>1</td>\n",
       "      <td>12</td>\n",
       "      <td>1</td>\n",
       "      <td>31</td>\n",
       "      <td>113.202938</td>\n",
       "      <td>12.0</td>\n",
       "      <td>7</td>\n",
       "      <td>1.922936</td>\n",
       "      <td>1.910244</td>\n",
       "      <td>0</td>\n",
       "    </tr>\n",
       "    <tr>\n",
       "      <th>2</th>\n",
       "      <td>0</td>\n",
       "      <td>1</td>\n",
       "      <td>1</td>\n",
       "      <td>0</td>\n",
       "      <td>1</td>\n",
       "      <td>1</td>\n",
       "      <td>0</td>\n",
       "      <td>28</td>\n",
       "      <td>129.448479</td>\n",
       "      <td>1.0</td>\n",
       "      <td>2</td>\n",
       "      <td>1.859098</td>\n",
       "      <td>1.736502</td>\n",
       "      <td>0</td>\n",
       "    </tr>\n",
       "    <tr>\n",
       "      <th>3</th>\n",
       "      <td>0</td>\n",
       "      <td>1</td>\n",
       "      <td>1</td>\n",
       "      <td>1</td>\n",
       "      <td>1</td>\n",
       "      <td>12</td>\n",
       "      <td>1</td>\n",
       "      <td>33</td>\n",
       "      <td>62.669863</td>\n",
       "      <td>12.0</td>\n",
       "      <td>2</td>\n",
       "      <td>3.205633</td>\n",
       "      <td>3.357215</td>\n",
       "      <td>0</td>\n",
       "    </tr>\n",
       "    <tr>\n",
       "      <th>4</th>\n",
       "      <td>1</td>\n",
       "      <td>1</td>\n",
       "      <td>1</td>\n",
       "      <td>1</td>\n",
       "      <td>1</td>\n",
       "      <td>1</td>\n",
       "      <td>0</td>\n",
       "      <td>26</td>\n",
       "      <td>198.362265</td>\n",
       "      <td>1.0</td>\n",
       "      <td>3</td>\n",
       "      <td>1.113884</td>\n",
       "      <td>1.120078</td>\n",
       "      <td>0</td>\n",
       "    </tr>\n",
       "  </tbody>\n",
       "</table>\n",
       "</div>"
      ],
      "text/plain": [
       "   gender  Near_Location  Partner  Promo_friends  Phone  Contract_period  \\\n",
       "0       1              1        1              1      0                6   \n",
       "1       0              1        0              0      1               12   \n",
       "2       0              1        1              0      1                1   \n",
       "3       0              1        1              1      1               12   \n",
       "4       1              1        1              1      1                1   \n",
       "\n",
       "   Group_visits  Age  Avg_additional_charges_total  Month_to_end_contract  \\\n",
       "0             1   29                     14.227470                    5.0   \n",
       "1             1   31                    113.202938                   12.0   \n",
       "2             0   28                    129.448479                    1.0   \n",
       "3             1   33                     62.669863                   12.0   \n",
       "4             0   26                    198.362265                    1.0   \n",
       "\n",
       "   Lifetime  Avg_class_frequency_total  Avg_class_frequency_current_month  \\\n",
       "0         3                   0.020398                           0.000000   \n",
       "1         7                   1.922936                           1.910244   \n",
       "2         2                   1.859098                           1.736502   \n",
       "3         2                   3.205633                           3.357215   \n",
       "4         3                   1.113884                           1.120078   \n",
       "\n",
       "   Churn  \n",
       "0      0  \n",
       "1      0  \n",
       "2      0  \n",
       "3      0  \n",
       "4      0  "
      ]
     },
     "execution_count": 2,
     "metadata": {},
     "output_type": "execute_result"
    }
   ],
   "source": [
    "df = pd.read_csv('/datasets/gym_churn.csv')\n",
    "df.head()"
   ]
  },
  {
   "cell_type": "code",
   "execution_count": 3,
   "metadata": {},
   "outputs": [],
   "source": [
    "#приведем названия столбцов к нижнему регистру\n",
    "df.columns = df.columns.str.lower()"
   ]
  },
  {
   "cell_type": "code",
   "execution_count": 4,
   "metadata": {},
   "outputs": [
    {
     "data": {
      "text/plain": [
       "0"
      ]
     },
     "execution_count": 4,
     "metadata": {},
     "output_type": "execute_result"
    }
   ],
   "source": [
    "df.duplicated().sum()"
   ]
  },
  {
   "cell_type": "code",
   "execution_count": 5,
   "metadata": {},
   "outputs": [
    {
     "name": "stdout",
     "output_type": "stream",
     "text": [
      "<class 'pandas.core.frame.DataFrame'>\n",
      "RangeIndex: 4000 entries, 0 to 3999\n",
      "Data columns (total 14 columns):\n",
      " #   Column                             Non-Null Count  Dtype  \n",
      "---  ------                             --------------  -----  \n",
      " 0   gender                             4000 non-null   int64  \n",
      " 1   near_location                      4000 non-null   int64  \n",
      " 2   partner                            4000 non-null   int64  \n",
      " 3   promo_friends                      4000 non-null   int64  \n",
      " 4   phone                              4000 non-null   int64  \n",
      " 5   contract_period                    4000 non-null   int64  \n",
      " 6   group_visits                       4000 non-null   int64  \n",
      " 7   age                                4000 non-null   int64  \n",
      " 8   avg_additional_charges_total       4000 non-null   float64\n",
      " 9   month_to_end_contract              4000 non-null   float64\n",
      " 10  lifetime                           4000 non-null   int64  \n",
      " 11  avg_class_frequency_total          4000 non-null   float64\n",
      " 12  avg_class_frequency_current_month  4000 non-null   float64\n",
      " 13  churn                              4000 non-null   int64  \n",
      "dtypes: float64(4), int64(10)\n",
      "memory usage: 437.6 KB\n"
     ]
    }
   ],
   "source": [
    "df.info()"
   ]
  },
  {
   "cell_type": "markdown",
   "metadata": {},
   "source": [
    "**Вывод**\n",
    "\n",
    "Пропусков и дубликатов в данных нет, типы корректны."
   ]
  },
  {
   "cell_type": "markdown",
   "metadata": {},
   "source": [
    "#### Исследовательский анализ данных"
   ]
  },
  {
   "cell_type": "code",
   "execution_count": 6,
   "metadata": {},
   "outputs": [
    {
     "data": {
      "text/html": [
       "<div>\n",
       "<style scoped>\n",
       "    .dataframe tbody tr th:only-of-type {\n",
       "        vertical-align: middle;\n",
       "    }\n",
       "\n",
       "    .dataframe tbody tr th {\n",
       "        vertical-align: top;\n",
       "    }\n",
       "\n",
       "    .dataframe thead th {\n",
       "        text-align: right;\n",
       "    }\n",
       "</style>\n",
       "<table border=\"1\" class=\"dataframe\">\n",
       "  <thead>\n",
       "    <tr style=\"text-align: right;\">\n",
       "      <th></th>\n",
       "      <th>count</th>\n",
       "      <th>mean</th>\n",
       "      <th>std</th>\n",
       "      <th>min</th>\n",
       "      <th>25%</th>\n",
       "      <th>50%</th>\n",
       "      <th>75%</th>\n",
       "      <th>max</th>\n",
       "    </tr>\n",
       "  </thead>\n",
       "  <tbody>\n",
       "    <tr>\n",
       "      <th>gender</th>\n",
       "      <td>4000.0</td>\n",
       "      <td>0.510250</td>\n",
       "      <td>0.499957</td>\n",
       "      <td>0.000000</td>\n",
       "      <td>0.000000</td>\n",
       "      <td>1.000000</td>\n",
       "      <td>1.000000</td>\n",
       "      <td>1.000000</td>\n",
       "    </tr>\n",
       "    <tr>\n",
       "      <th>near_location</th>\n",
       "      <td>4000.0</td>\n",
       "      <td>0.845250</td>\n",
       "      <td>0.361711</td>\n",
       "      <td>0.000000</td>\n",
       "      <td>1.000000</td>\n",
       "      <td>1.000000</td>\n",
       "      <td>1.000000</td>\n",
       "      <td>1.000000</td>\n",
       "    </tr>\n",
       "    <tr>\n",
       "      <th>partner</th>\n",
       "      <td>4000.0</td>\n",
       "      <td>0.486750</td>\n",
       "      <td>0.499887</td>\n",
       "      <td>0.000000</td>\n",
       "      <td>0.000000</td>\n",
       "      <td>0.000000</td>\n",
       "      <td>1.000000</td>\n",
       "      <td>1.000000</td>\n",
       "    </tr>\n",
       "    <tr>\n",
       "      <th>promo_friends</th>\n",
       "      <td>4000.0</td>\n",
       "      <td>0.308500</td>\n",
       "      <td>0.461932</td>\n",
       "      <td>0.000000</td>\n",
       "      <td>0.000000</td>\n",
       "      <td>0.000000</td>\n",
       "      <td>1.000000</td>\n",
       "      <td>1.000000</td>\n",
       "    </tr>\n",
       "    <tr>\n",
       "      <th>phone</th>\n",
       "      <td>4000.0</td>\n",
       "      <td>0.903500</td>\n",
       "      <td>0.295313</td>\n",
       "      <td>0.000000</td>\n",
       "      <td>1.000000</td>\n",
       "      <td>1.000000</td>\n",
       "      <td>1.000000</td>\n",
       "      <td>1.000000</td>\n",
       "    </tr>\n",
       "    <tr>\n",
       "      <th>contract_period</th>\n",
       "      <td>4000.0</td>\n",
       "      <td>4.681250</td>\n",
       "      <td>4.549706</td>\n",
       "      <td>1.000000</td>\n",
       "      <td>1.000000</td>\n",
       "      <td>1.000000</td>\n",
       "      <td>6.000000</td>\n",
       "      <td>12.000000</td>\n",
       "    </tr>\n",
       "    <tr>\n",
       "      <th>group_visits</th>\n",
       "      <td>4000.0</td>\n",
       "      <td>0.412250</td>\n",
       "      <td>0.492301</td>\n",
       "      <td>0.000000</td>\n",
       "      <td>0.000000</td>\n",
       "      <td>0.000000</td>\n",
       "      <td>1.000000</td>\n",
       "      <td>1.000000</td>\n",
       "    </tr>\n",
       "    <tr>\n",
       "      <th>age</th>\n",
       "      <td>4000.0</td>\n",
       "      <td>29.184250</td>\n",
       "      <td>3.258367</td>\n",
       "      <td>18.000000</td>\n",
       "      <td>27.000000</td>\n",
       "      <td>29.000000</td>\n",
       "      <td>31.000000</td>\n",
       "      <td>41.000000</td>\n",
       "    </tr>\n",
       "    <tr>\n",
       "      <th>avg_additional_charges_total</th>\n",
       "      <td>4000.0</td>\n",
       "      <td>146.943728</td>\n",
       "      <td>96.355602</td>\n",
       "      <td>0.148205</td>\n",
       "      <td>68.868830</td>\n",
       "      <td>136.220159</td>\n",
       "      <td>210.949625</td>\n",
       "      <td>552.590740</td>\n",
       "    </tr>\n",
       "    <tr>\n",
       "      <th>month_to_end_contract</th>\n",
       "      <td>4000.0</td>\n",
       "      <td>4.322750</td>\n",
       "      <td>4.191297</td>\n",
       "      <td>1.000000</td>\n",
       "      <td>1.000000</td>\n",
       "      <td>1.000000</td>\n",
       "      <td>6.000000</td>\n",
       "      <td>12.000000</td>\n",
       "    </tr>\n",
       "    <tr>\n",
       "      <th>lifetime</th>\n",
       "      <td>4000.0</td>\n",
       "      <td>3.724750</td>\n",
       "      <td>3.749267</td>\n",
       "      <td>0.000000</td>\n",
       "      <td>1.000000</td>\n",
       "      <td>3.000000</td>\n",
       "      <td>5.000000</td>\n",
       "      <td>31.000000</td>\n",
       "    </tr>\n",
       "    <tr>\n",
       "      <th>avg_class_frequency_total</th>\n",
       "      <td>4000.0</td>\n",
       "      <td>1.879020</td>\n",
       "      <td>0.972245</td>\n",
       "      <td>0.000000</td>\n",
       "      <td>1.180875</td>\n",
       "      <td>1.832768</td>\n",
       "      <td>2.536078</td>\n",
       "      <td>6.023668</td>\n",
       "    </tr>\n",
       "    <tr>\n",
       "      <th>avg_class_frequency_current_month</th>\n",
       "      <td>4000.0</td>\n",
       "      <td>1.767052</td>\n",
       "      <td>1.052906</td>\n",
       "      <td>0.000000</td>\n",
       "      <td>0.963003</td>\n",
       "      <td>1.719574</td>\n",
       "      <td>2.510336</td>\n",
       "      <td>6.146783</td>\n",
       "    </tr>\n",
       "    <tr>\n",
       "      <th>churn</th>\n",
       "      <td>4000.0</td>\n",
       "      <td>0.265250</td>\n",
       "      <td>0.441521</td>\n",
       "      <td>0.000000</td>\n",
       "      <td>0.000000</td>\n",
       "      <td>0.000000</td>\n",
       "      <td>1.000000</td>\n",
       "      <td>1.000000</td>\n",
       "    </tr>\n",
       "  </tbody>\n",
       "</table>\n",
       "</div>"
      ],
      "text/plain": [
       "                                    count        mean        std        min  \\\n",
       "gender                             4000.0    0.510250   0.499957   0.000000   \n",
       "near_location                      4000.0    0.845250   0.361711   0.000000   \n",
       "partner                            4000.0    0.486750   0.499887   0.000000   \n",
       "promo_friends                      4000.0    0.308500   0.461932   0.000000   \n",
       "phone                              4000.0    0.903500   0.295313   0.000000   \n",
       "contract_period                    4000.0    4.681250   4.549706   1.000000   \n",
       "group_visits                       4000.0    0.412250   0.492301   0.000000   \n",
       "age                                4000.0   29.184250   3.258367  18.000000   \n",
       "avg_additional_charges_total       4000.0  146.943728  96.355602   0.148205   \n",
       "month_to_end_contract              4000.0    4.322750   4.191297   1.000000   \n",
       "lifetime                           4000.0    3.724750   3.749267   0.000000   \n",
       "avg_class_frequency_total          4000.0    1.879020   0.972245   0.000000   \n",
       "avg_class_frequency_current_month  4000.0    1.767052   1.052906   0.000000   \n",
       "churn                              4000.0    0.265250   0.441521   0.000000   \n",
       "\n",
       "                                         25%         50%         75%  \\\n",
       "gender                              0.000000    1.000000    1.000000   \n",
       "near_location                       1.000000    1.000000    1.000000   \n",
       "partner                             0.000000    0.000000    1.000000   \n",
       "promo_friends                       0.000000    0.000000    1.000000   \n",
       "phone                               1.000000    1.000000    1.000000   \n",
       "contract_period                     1.000000    1.000000    6.000000   \n",
       "group_visits                        0.000000    0.000000    1.000000   \n",
       "age                                27.000000   29.000000   31.000000   \n",
       "avg_additional_charges_total       68.868830  136.220159  210.949625   \n",
       "month_to_end_contract               1.000000    1.000000    6.000000   \n",
       "lifetime                            1.000000    3.000000    5.000000   \n",
       "avg_class_frequency_total           1.180875    1.832768    2.536078   \n",
       "avg_class_frequency_current_month   0.963003    1.719574    2.510336   \n",
       "churn                               0.000000    0.000000    1.000000   \n",
       "\n",
       "                                          max  \n",
       "gender                               1.000000  \n",
       "near_location                        1.000000  \n",
       "partner                              1.000000  \n",
       "promo_friends                        1.000000  \n",
       "phone                                1.000000  \n",
       "contract_period                     12.000000  \n",
       "group_visits                         1.000000  \n",
       "age                                 41.000000  \n",
       "avg_additional_charges_total       552.590740  \n",
       "month_to_end_contract               12.000000  \n",
       "lifetime                            31.000000  \n",
       "avg_class_frequency_total            6.023668  \n",
       "avg_class_frequency_current_month    6.146783  \n",
       "churn                                1.000000  "
      ]
     },
     "execution_count": 6,
     "metadata": {},
     "output_type": "execute_result"
    }
   ],
   "source": [
    "df.describe().T"
   ]
  },
  {
   "cell_type": "markdown",
   "metadata": {},
   "source": [
    "По данным таблицы видим, что большое стандартное отклоение есть в признаках 'contract_period', 'avg_additional_charges_total', 'lifetime', 'avg_class_frequency_current_month'. Это говорит о том, что в данных показателях есть выбросы."
   ]
  },
  {
   "cell_type": "code",
   "execution_count": 7,
   "metadata": {
    "scrolled": false
   },
   "outputs": [
    {
     "data": {
      "text/html": [
       "<div>\n",
       "<style scoped>\n",
       "    .dataframe tbody tr th:only-of-type {\n",
       "        vertical-align: middle;\n",
       "    }\n",
       "\n",
       "    .dataframe tbody tr th {\n",
       "        vertical-align: top;\n",
       "    }\n",
       "\n",
       "    .dataframe thead th {\n",
       "        text-align: right;\n",
       "    }\n",
       "</style>\n",
       "<table border=\"1\" class=\"dataframe\">\n",
       "  <thead>\n",
       "    <tr style=\"text-align: right;\">\n",
       "      <th>churn</th>\n",
       "      <th>0</th>\n",
       "      <th>1</th>\n",
       "    </tr>\n",
       "  </thead>\n",
       "  <tbody>\n",
       "    <tr>\n",
       "      <th>gender</th>\n",
       "      <td>0.510037</td>\n",
       "      <td>0.510839</td>\n",
       "    </tr>\n",
       "    <tr>\n",
       "      <th>near_location</th>\n",
       "      <td>0.873086</td>\n",
       "      <td>0.768143</td>\n",
       "    </tr>\n",
       "    <tr>\n",
       "      <th>partner</th>\n",
       "      <td>0.534195</td>\n",
       "      <td>0.355325</td>\n",
       "    </tr>\n",
       "    <tr>\n",
       "      <th>promo_friends</th>\n",
       "      <td>0.353522</td>\n",
       "      <td>0.183789</td>\n",
       "    </tr>\n",
       "    <tr>\n",
       "      <th>phone</th>\n",
       "      <td>0.903709</td>\n",
       "      <td>0.902922</td>\n",
       "    </tr>\n",
       "    <tr>\n",
       "      <th>contract_period</th>\n",
       "      <td>5.747193</td>\n",
       "      <td>1.728558</td>\n",
       "    </tr>\n",
       "    <tr>\n",
       "      <th>group_visits</th>\n",
       "      <td>0.464103</td>\n",
       "      <td>0.268615</td>\n",
       "    </tr>\n",
       "    <tr>\n",
       "      <th>age</th>\n",
       "      <td>29.976523</td>\n",
       "      <td>26.989632</td>\n",
       "    </tr>\n",
       "    <tr>\n",
       "      <th>avg_additional_charges_total</th>\n",
       "      <td>158.445715</td>\n",
       "      <td>115.082899</td>\n",
       "    </tr>\n",
       "    <tr>\n",
       "      <th>month_to_end_contract</th>\n",
       "      <td>5.283089</td>\n",
       "      <td>1.662582</td>\n",
       "    </tr>\n",
       "    <tr>\n",
       "      <th>lifetime</th>\n",
       "      <td>4.711807</td>\n",
       "      <td>0.990575</td>\n",
       "    </tr>\n",
       "    <tr>\n",
       "      <th>avg_class_frequency_total</th>\n",
       "      <td>2.024876</td>\n",
       "      <td>1.474995</td>\n",
       "    </tr>\n",
       "    <tr>\n",
       "      <th>avg_class_frequency_current_month</th>\n",
       "      <td>2.027882</td>\n",
       "      <td>1.044546</td>\n",
       "    </tr>\n",
       "  </tbody>\n",
       "</table>\n",
       "</div>"
      ],
      "text/plain": [
       "churn                                       0           1\n",
       "gender                               0.510037    0.510839\n",
       "near_location                        0.873086    0.768143\n",
       "partner                              0.534195    0.355325\n",
       "promo_friends                        0.353522    0.183789\n",
       "phone                                0.903709    0.902922\n",
       "contract_period                      5.747193    1.728558\n",
       "group_visits                         0.464103    0.268615\n",
       "age                                 29.976523   26.989632\n",
       "avg_additional_charges_total       158.445715  115.082899\n",
       "month_to_end_contract                5.283089    1.662582\n",
       "lifetime                             4.711807    0.990575\n",
       "avg_class_frequency_total            2.024876    1.474995\n",
       "avg_class_frequency_current_month    2.027882    1.044546"
      ]
     },
     "execution_count": 7,
     "metadata": {},
     "output_type": "execute_result"
    }
   ],
   "source": [
    "df.groupby('churn').agg('mean').T"
   ]
  },
  {
   "cell_type": "markdown",
   "metadata": {},
   "source": [
    "По средним значениям признаков видим, что в отток чаще попадают следубщие категории клиентов: \n",
    "- те, кто живет дальше от Фитнес-клуба;\n",
    "- кто не явяляется сотрудником компании-партнёр;\n",
    "- кто не был записан в рамках акции «приведи друга»;\n",
    "- с небольшой длительность текущего действующего абонемента;\n",
    "- кто реже ходит на групповые занятия;\n",
    "- кто меньше тратит на доп.услуги;\n",
    "- кто ходит в клуб меньше времени с момента первого обращения;\n",
    "- кто реже ходит в Фитнес-клуб."
   ]
  },
  {
   "cell_type": "code",
   "execution_count": 8,
   "metadata": {},
   "outputs": [],
   "source": [
    "# разделим признакки на бинарные и небинарные 'phone' не включаем, т.к. этот показетель не особо информативен\n",
    "bi = ['gender', 'near_location', 'partner', 'promo_friends', 'group_visits', 'churn']\n",
    "non_bi = ['contract_period', 'age', 'avg_additional_charges_total', 'lifetime', 'avg_class_frequency_current_month']"
   ]
  },
  {
   "cell_type": "code",
   "execution_count": 9,
   "metadata": {
    "scrolled": true
   },
   "outputs": [
    {
     "data": {
      "image/png": "[encoded data removed]",
      "text/plain": [
       "<Figure size 432x288 with 1 Axes>"
      ]
     },
     "metadata": {},
     "output_type": "display_data"
    },
    {
     "data": {
      "image/png": "[encoded data removed]",
      "text/plain": [
       "<Figure size 432x288 with 1 Axes>"
      ]
     },
     "metadata": {},
     "output_type": "display_data"
    },
    {
     "data": {
      "image/png": "[encoded data removed]",
      "text/plain": [
       "<Figure size 432x288 with 1 Axes>"
      ]
     },
     "metadata": {},
     "output_type": "display_data"
    },
    {
     "data": {
      "image/png": "[encoded data removed]",
      "text/plain": [
       "<Figure size 432x288 with 1 Axes>"
      ]
     },
     "metadata": {},
     "output_type": "display_data"
    },
    {
     "data": {
      "image/png": "[encoded data removed]",
      "text/plain": [
       "<Figure size 432x288 with 1 Axes>"
      ]
     },
     "metadata": {},
     "output_type": "display_data"
    }
   ],
   "source": [
    "# построим столбчатые гистограммы и распределения признаков для тех, кто ушёл и тех, кто остался\n",
    "churn_1 = df[df['churn'] == 1]\n",
    "churn_0 = df[df['churn'] == 0]\n",
    "indicators_1 = non_bi\n",
    "indicators_2 = bi\n",
    "\n",
    "%matplotlib inline\n",
    "for i in indicators_1:\n",
    "    sns.set(style=\"darkgrid\")\n",
    "    ax = sns.distplot(churn_1[i], kde=False)\n",
    "    ax = sns.distplot(churn_0[i], kde=False)\n",
    "    plt.title(i)\n",
    "    plt.legend(labels=['Отток', 'Остались'])\n",
    "    plt.show()"
   ]
  },
  {
   "cell_type": "code",
   "execution_count": 10,
   "metadata": {
    "scrolled": true
   },
   "outputs": [
    {
     "data": {
      "image/png": "[encoded data removed]",
      "text/plain": [
       "<Figure size 432x288 with 1 Axes>"
      ]
     },
     "metadata": {},
     "output_type": "display_data"
    },
    {
     "data": {
      "image/png": "[encoded data removed]",
      "text/plain": [
       "<Figure size 432x288 with 1 Axes>"
      ]
     },
     "metadata": {},
     "output_type": "display_data"
    },
    {
     "data": {
      "image/png": "[encoded data removed]",
      "text/plain": [
       "<Figure size 432x288 with 1 Axes>"
      ]
     },
     "metadata": {},
     "output_type": "display_data"
    },
    {
     "data": {
      "image/png": "[encoded data removed]",
      "text/plain": [
       "<Figure size 432x288 with 1 Axes>"
      ]
     },
     "metadata": {},
     "output_type": "display_data"
    },
    {
     "data": {
      "image/png": "[encoded data removed]",
      "text/plain": [
       "<Figure size 432x288 with 1 Axes>"
      ]
     },
     "metadata": {},
     "output_type": "display_data"
    },
    {
     "data": {
      "image/png": "[encoded data removed]",
      "text/plain": [
       "<Figure size 432x288 with 1 Axes>"
      ]
     },
     "metadata": {},
     "output_type": "display_data"
    }
   ],
   "source": [
    "%matplotlib inline\n",
    "for i in indicators_2:\n",
    "    sns.set(style=\"darkgrid\")\n",
    "    ax = sns.countplot(x=i, data=df, hue='churn')\n",
    "    plt.show()"
   ]
  },
  {
   "cell_type": "markdown",
   "metadata": {},
   "source": [
    "По графикам видим, что в отток чаще попадают:\n",
    "- Клиенты с меньшей длительностью абонимента;\n",
    "- Более молодые клиенты;\n",
    "- Те, кто меньше тратит на доп.услуги;\n",
    "- Те, кто занимается в клубе недавно;\n",
    "- Те, кто реже ходил за последний месяц.\n",
    "- Живущие далеко от Фитнес-центра;\n",
    "- Пришедшие не от организации партнера;\n",
    "- Пришедшие не по рекомендации друга;\n",
    "- Те, кто реже посещает групповые занятия."
   ]
  },
  {
   "cell_type": "code",
   "execution_count": 11,
   "metadata": {},
   "outputs": [
    {
     "data": {
      "text/html": [
       "<div>\n",
       "<style scoped>\n",
       "    .dataframe tbody tr th:only-of-type {\n",
       "        vertical-align: middle;\n",
       "    }\n",
       "\n",
       "    .dataframe tbody tr th {\n",
       "        vertical-align: top;\n",
       "    }\n",
       "\n",
       "    .dataframe thead th {\n",
       "        text-align: right;\n",
       "    }\n",
       "</style>\n",
       "<table border=\"1\" class=\"dataframe\">\n",
       "  <thead>\n",
       "    <tr style=\"text-align: right;\">\n",
       "      <th></th>\n",
       "      <th>gender</th>\n",
       "      <th>near_location</th>\n",
       "      <th>partner</th>\n",
       "      <th>promo_friends</th>\n",
       "      <th>phone</th>\n",
       "      <th>contract_period</th>\n",
       "      <th>group_visits</th>\n",
       "      <th>age</th>\n",
       "      <th>avg_additional_charges_total</th>\n",
       "      <th>month_to_end_contract</th>\n",
       "      <th>lifetime</th>\n",
       "      <th>avg_class_frequency_total</th>\n",
       "      <th>avg_class_frequency_current_month</th>\n",
       "      <th>churn</th>\n",
       "    </tr>\n",
       "  </thead>\n",
       "  <tbody>\n",
       "    <tr>\n",
       "      <th>gender</th>\n",
       "      <td>1.000000</td>\n",
       "      <td>0.006699</td>\n",
       "      <td>-0.010463</td>\n",
       "      <td>-0.005033</td>\n",
       "      <td>-0.008542</td>\n",
       "      <td>0.000502</td>\n",
       "      <td>0.017879</td>\n",
       "      <td>0.013807</td>\n",
       "      <td>-0.009334</td>\n",
       "      <td>-0.001281</td>\n",
       "      <td>0.013579</td>\n",
       "      <td>0.014620</td>\n",
       "      <td>0.009156</td>\n",
       "      <td>0.000708</td>\n",
       "    </tr>\n",
       "    <tr>\n",
       "      <th>near_location</th>\n",
       "      <td>0.006699</td>\n",
       "      <td>1.000000</td>\n",
       "      <td>-0.005119</td>\n",
       "      <td>0.210964</td>\n",
       "      <td>-0.015763</td>\n",
       "      <td>0.150233</td>\n",
       "      <td>0.154728</td>\n",
       "      <td>0.058358</td>\n",
       "      <td>0.040761</td>\n",
       "      <td>0.143961</td>\n",
       "      <td>0.070921</td>\n",
       "      <td>0.043127</td>\n",
       "      <td>0.062664</td>\n",
       "      <td>-0.128098</td>\n",
       "    </tr>\n",
       "    <tr>\n",
       "      <th>partner</th>\n",
       "      <td>-0.010463</td>\n",
       "      <td>-0.005119</td>\n",
       "      <td>1.000000</td>\n",
       "      <td>0.451960</td>\n",
       "      <td>0.009970</td>\n",
       "      <td>0.306166</td>\n",
       "      <td>0.022710</td>\n",
       "      <td>0.047480</td>\n",
       "      <td>0.022941</td>\n",
       "      <td>0.294632</td>\n",
       "      <td>0.061229</td>\n",
       "      <td>0.024938</td>\n",
       "      <td>0.045561</td>\n",
       "      <td>-0.157986</td>\n",
       "    </tr>\n",
       "    <tr>\n",
       "      <th>promo_friends</th>\n",
       "      <td>-0.005033</td>\n",
       "      <td>0.210964</td>\n",
       "      <td>0.451960</td>\n",
       "      <td>1.000000</td>\n",
       "      <td>0.001982</td>\n",
       "      <td>0.244552</td>\n",
       "      <td>0.120170</td>\n",
       "      <td>0.050113</td>\n",
       "      <td>0.036898</td>\n",
       "      <td>0.239553</td>\n",
       "      <td>0.072721</td>\n",
       "      <td>0.028063</td>\n",
       "      <td>0.053768</td>\n",
       "      <td>-0.162233</td>\n",
       "    </tr>\n",
       "    <tr>\n",
       "      <th>phone</th>\n",
       "      <td>-0.008542</td>\n",
       "      <td>-0.015763</td>\n",
       "      <td>0.009970</td>\n",
       "      <td>0.001982</td>\n",
       "      <td>1.000000</td>\n",
       "      <td>-0.006893</td>\n",
       "      <td>-0.010099</td>\n",
       "      <td>-0.011403</td>\n",
       "      <td>0.009279</td>\n",
       "      <td>-0.011196</td>\n",
       "      <td>-0.018801</td>\n",
       "      <td>0.008340</td>\n",
       "      <td>0.013375</td>\n",
       "      <td>-0.001177</td>\n",
       "    </tr>\n",
       "    <tr>\n",
       "      <th>contract_period</th>\n",
       "      <td>0.000502</td>\n",
       "      <td>0.150233</td>\n",
       "      <td>0.306166</td>\n",
       "      <td>0.244552</td>\n",
       "      <td>-0.006893</td>\n",
       "      <td>1.000000</td>\n",
       "      <td>0.169991</td>\n",
       "      <td>0.138249</td>\n",
       "      <td>0.111445</td>\n",
       "      <td>0.973064</td>\n",
       "      <td>0.170725</td>\n",
       "      <td>0.096211</td>\n",
       "      <td>0.159407</td>\n",
       "      <td>-0.389984</td>\n",
       "    </tr>\n",
       "    <tr>\n",
       "      <th>group_visits</th>\n",
       "      <td>0.017879</td>\n",
       "      <td>0.154728</td>\n",
       "      <td>0.022710</td>\n",
       "      <td>0.120170</td>\n",
       "      <td>-0.010099</td>\n",
       "      <td>0.169991</td>\n",
       "      <td>1.000000</td>\n",
       "      <td>0.080934</td>\n",
       "      <td>0.032079</td>\n",
       "      <td>0.163703</td>\n",
       "      <td>0.075853</td>\n",
       "      <td>0.056695</td>\n",
       "      <td>0.075923</td>\n",
       "      <td>-0.175325</td>\n",
       "    </tr>\n",
       "    <tr>\n",
       "      <th>age</th>\n",
       "      <td>0.013807</td>\n",
       "      <td>0.058358</td>\n",
       "      <td>0.047480</td>\n",
       "      <td>0.050113</td>\n",
       "      <td>-0.011403</td>\n",
       "      <td>0.138249</td>\n",
       "      <td>0.080934</td>\n",
       "      <td>1.000000</td>\n",
       "      <td>0.080240</td>\n",
       "      <td>0.134511</td>\n",
       "      <td>0.164693</td>\n",
       "      <td>0.119953</td>\n",
       "      <td>0.183095</td>\n",
       "      <td>-0.404735</td>\n",
       "    </tr>\n",
       "    <tr>\n",
       "      <th>avg_additional_charges_total</th>\n",
       "      <td>-0.009334</td>\n",
       "      <td>0.040761</td>\n",
       "      <td>0.022941</td>\n",
       "      <td>0.036898</td>\n",
       "      <td>0.009279</td>\n",
       "      <td>0.111445</td>\n",
       "      <td>0.032079</td>\n",
       "      <td>0.080240</td>\n",
       "      <td>1.000000</td>\n",
       "      <td>0.113958</td>\n",
       "      <td>0.079028</td>\n",
       "      <td>0.044426</td>\n",
       "      <td>0.079570</td>\n",
       "      <td>-0.198697</td>\n",
       "    </tr>\n",
       "    <tr>\n",
       "      <th>month_to_end_contract</th>\n",
       "      <td>-0.001281</td>\n",
       "      <td>0.143961</td>\n",
       "      <td>0.294632</td>\n",
       "      <td>0.239553</td>\n",
       "      <td>-0.011196</td>\n",
       "      <td>0.973064</td>\n",
       "      <td>0.163703</td>\n",
       "      <td>0.134511</td>\n",
       "      <td>0.113958</td>\n",
       "      <td>1.000000</td>\n",
       "      <td>0.161078</td>\n",
       "      <td>0.085387</td>\n",
       "      <td>0.147605</td>\n",
       "      <td>-0.381393</td>\n",
       "    </tr>\n",
       "    <tr>\n",
       "      <th>lifetime</th>\n",
       "      <td>0.013579</td>\n",
       "      <td>0.070921</td>\n",
       "      <td>0.061229</td>\n",
       "      <td>0.072721</td>\n",
       "      <td>-0.018801</td>\n",
       "      <td>0.170725</td>\n",
       "      <td>0.075853</td>\n",
       "      <td>0.164693</td>\n",
       "      <td>0.079028</td>\n",
       "      <td>0.161078</td>\n",
       "      <td>1.000000</td>\n",
       "      <td>0.112338</td>\n",
       "      <td>0.181975</td>\n",
       "      <td>-0.438220</td>\n",
       "    </tr>\n",
       "    <tr>\n",
       "      <th>avg_class_frequency_total</th>\n",
       "      <td>0.014620</td>\n",
       "      <td>0.043127</td>\n",
       "      <td>0.024938</td>\n",
       "      <td>0.028063</td>\n",
       "      <td>0.008340</td>\n",
       "      <td>0.096211</td>\n",
       "      <td>0.056695</td>\n",
       "      <td>0.119953</td>\n",
       "      <td>0.044426</td>\n",
       "      <td>0.085387</td>\n",
       "      <td>0.112338</td>\n",
       "      <td>1.000000</td>\n",
       "      <td>0.952739</td>\n",
       "      <td>-0.249715</td>\n",
       "    </tr>\n",
       "    <tr>\n",
       "      <th>avg_class_frequency_current_month</th>\n",
       "      <td>0.009156</td>\n",
       "      <td>0.062664</td>\n",
       "      <td>0.045561</td>\n",
       "      <td>0.053768</td>\n",
       "      <td>0.013375</td>\n",
       "      <td>0.159407</td>\n",
       "      <td>0.075923</td>\n",
       "      <td>0.183095</td>\n",
       "      <td>0.079570</td>\n",
       "      <td>0.147605</td>\n",
       "      <td>0.181975</td>\n",
       "      <td>0.952739</td>\n",
       "      <td>1.000000</td>\n",
       "      <td>-0.412348</td>\n",
       "    </tr>\n",
       "    <tr>\n",
       "      <th>churn</th>\n",
       "      <td>0.000708</td>\n",
       "      <td>-0.128098</td>\n",
       "      <td>-0.157986</td>\n",
       "      <td>-0.162233</td>\n",
       "      <td>-0.001177</td>\n",
       "      <td>-0.389984</td>\n",
       "      <td>-0.175325</td>\n",
       "      <td>-0.404735</td>\n",
       "      <td>-0.198697</td>\n",
       "      <td>-0.381393</td>\n",
       "      <td>-0.438220</td>\n",
       "      <td>-0.249715</td>\n",
       "      <td>-0.412348</td>\n",
       "      <td>1.000000</td>\n",
       "    </tr>\n",
       "  </tbody>\n",
       "</table>\n",
       "</div>"
      ],
      "text/plain": [
       "                                     gender  near_location   partner  \\\n",
       "gender                             1.000000       0.006699 -0.010463   \n",
       "near_location                      0.006699       1.000000 -0.005119   \n",
       "partner                           -0.010463      -0.005119  1.000000   \n",
       "promo_friends                     -0.005033       0.210964  0.451960   \n",
       "phone                             -0.008542      -0.015763  0.009970   \n",
       "contract_period                    0.000502       0.150233  0.306166   \n",
       "group_visits                       0.017879       0.154728  0.022710   \n",
       "age                                0.013807       0.058358  0.047480   \n",
       "avg_additional_charges_total      -0.009334       0.040761  0.022941   \n",
       "month_to_end_contract             -0.001281       0.143961  0.294632   \n",
       "lifetime                           0.013579       0.070921  0.061229   \n",
       "avg_class_frequency_total          0.014620       0.043127  0.024938   \n",
       "avg_class_frequency_current_month  0.009156       0.062664  0.045561   \n",
       "churn                              0.000708      -0.128098 -0.157986   \n",
       "\n",
       "                                   promo_friends     phone  contract_period  \\\n",
       "gender                                 -0.005033 -0.008542         0.000502   \n",
       "near_location                           0.210964 -0.015763         0.150233   \n",
       "partner                                 0.451960  0.009970         0.306166   \n",
       "promo_friends                           1.000000  0.001982         0.244552   \n",
       "phone                                   0.001982  1.000000        -0.006893   \n",
       "contract_period                         0.244552 -0.006893         1.000000   \n",
       "group_visits                            0.120170 -0.010099         0.169991   \n",
       "age                                     0.050113 -0.011403         0.138249   \n",
       "avg_additional_charges_total            0.036898  0.009279         0.111445   \n",
       "month_to_end_contract                   0.239553 -0.011196         0.973064   \n",
       "lifetime                                0.072721 -0.018801         0.170725   \n",
       "avg_class_frequency_total               0.028063  0.008340         0.096211   \n",
       "avg_class_frequency_current_month       0.053768  0.013375         0.159407   \n",
       "churn                                  -0.162233 -0.001177        -0.389984   \n",
       "\n",
       "                                   group_visits       age  \\\n",
       "gender                                 0.017879  0.013807   \n",
       "near_location                          0.154728  0.058358   \n",
       "partner                                0.022710  0.047480   \n",
       "promo_friends                          0.120170  0.050113   \n",
       "phone                                 -0.010099 -0.011403   \n",
       "contract_period                        0.169991  0.138249   \n",
       "group_visits                           1.000000  0.080934   \n",
       "age                                    0.080934  1.000000   \n",
       "avg_additional_charges_total           0.032079  0.080240   \n",
       "month_to_end_contract                  0.163703  0.134511   \n",
       "lifetime                               0.075853  0.164693   \n",
       "avg_class_frequency_total              0.056695  0.119953   \n",
       "avg_class_frequency_current_month      0.075923  0.183095   \n",
       "churn                                 -0.175325 -0.404735   \n",
       "\n",
       "                                   avg_additional_charges_total  \\\n",
       "gender                                                -0.009334   \n",
       "near_location                                          0.040761   \n",
       "partner                                                0.022941   \n",
       "promo_friends                                          0.036898   \n",
       "phone                                                  0.009279   \n",
       "contract_period                                        0.111445   \n",
       "group_visits                                           0.032079   \n",
       "age                                                    0.080240   \n",
       "avg_additional_charges_total                           1.000000   \n",
       "month_to_end_contract                                  0.113958   \n",
       "lifetime                                               0.079028   \n",
       "avg_class_frequency_total                              0.044426   \n",
       "avg_class_frequency_current_month                      0.079570   \n",
       "churn                                                 -0.198697   \n",
       "\n",
       "                                   month_to_end_contract  lifetime  \\\n",
       "gender                                         -0.001281  0.013579   \n",
       "near_location                                   0.143961  0.070921   \n",
       "partner                                         0.294632  0.061229   \n",
       "promo_friends                                   0.239553  0.072721   \n",
       "phone                                          -0.011196 -0.018801   \n",
       "contract_period                                 0.973064  0.170725   \n",
       "group_visits                                    0.163703  0.075853   \n",
       "age                                             0.134511  0.164693   \n",
       "avg_additional_charges_total                    0.113958  0.079028   \n",
       "month_to_end_contract                           1.000000  0.161078   \n",
       "lifetime                                        0.161078  1.000000   \n",
       "avg_class_frequency_total                       0.085387  0.112338   \n",
       "avg_class_frequency_current_month               0.147605  0.181975   \n",
       "churn                                          -0.381393 -0.438220   \n",
       "\n",
       "                                   avg_class_frequency_total  \\\n",
       "gender                                              0.014620   \n",
       "near_location                                       0.043127   \n",
       "partner                                             0.024938   \n",
       "promo_friends                                       0.028063   \n",
       "phone                                               0.008340   \n",
       "contract_period                                     0.096211   \n",
       "group_visits                                        0.056695   \n",
       "age                                                 0.119953   \n",
       "avg_additional_charges_total                        0.044426   \n",
       "month_to_end_contract                               0.085387   \n",
       "lifetime                                            0.112338   \n",
       "avg_class_frequency_total                           1.000000   \n",
       "avg_class_frequency_current_month                   0.952739   \n",
       "churn                                              -0.249715   \n",
       "\n",
       "                                   avg_class_frequency_current_month     churn  \n",
       "gender                                                      0.009156  0.000708  \n",
       "near_location                                               0.062664 -0.128098  \n",
       "partner                                                     0.045561 -0.157986  \n",
       "promo_friends                                               0.053768 -0.162233  \n",
       "phone                                                       0.013375 -0.001177  \n",
       "contract_period                                             0.159407 -0.389984  \n",
       "group_visits                                                0.075923 -0.175325  \n",
       "age                                                         0.183095 -0.404735  \n",
       "avg_additional_charges_total                                0.079570 -0.198697  \n",
       "month_to_end_contract                                       0.147605 -0.381393  \n",
       "lifetime                                                    0.181975 -0.438220  \n",
       "avg_class_frequency_total                                   0.952739 -0.249715  \n",
       "avg_class_frequency_current_month                           1.000000 -0.412348  \n",
       "churn                                                      -0.412348  1.000000  "
      ]
     },
     "execution_count": 11,
     "metadata": {},
     "output_type": "execute_result"
    }
   ],
   "source": [
    "# построим матрицу корреляций и отобразим ее\n",
    "cm = df.corr()\n",
    "cm"
   ]
  },
  {
   "cell_type": "code",
   "execution_count": 12,
   "metadata": {},
   "outputs": [
    {
     "data": {
      "image/png": "[encoded data removed]",
      "text/plain": [
       "<Figure size 864x864 with 2 Axes>"
      ]
     },
     "metadata": {},
     "output_type": "display_data"
    }
   ],
   "source": [
    "# построим heatmap для матрицы корреляций\n",
    "plt.subplots(figsize=(12,12))\n",
    "sns.heatmap(cm, annot=True, square=True, fmt='.1g')\n",
    "plt.show()"
   ]
  },
  {
   "cell_type": "markdown",
   "metadata": {},
   "source": [
    "По матрице корреляций видим, что у нас есть 2 пары признаков, которые сильно коррелируют внутри пары и при обучении модели создадут мультиколлинераность. Это 'month_to_end_contract' и 'contract_period' с коэффицентом корреляции 0.97, а также 'avg_class_frequency_total' и 'avg_class_frequency_current_month' с коэффицентом корреляции 0.95. Из графиков выше также уберем анализ этих показателей, чтобы не дублировать выводы."
   ]
  },
  {
   "cell_type": "markdown",
   "metadata": {},
   "source": [
    "**Вывод**\n",
    "\n",
    "По средним значениям признаков видим и графикам мы видим похожую картину и можем сделать вывод, что в отток чаще попадают следующие клиенты: \n",
    "- те, кто живет дальше от Фитнес-клуба;\n",
    "- кто не явяляется сотрудником компании-партнёр;\n",
    "- кто не был записан в рамках акции «приведи друга»;\n",
    "- с небольшой длительность текущего действующего абонемента;\n",
    "- кто реже ходит на групповые занятия;\n",
    "- кто меньше тратит на доп.услуги;\n",
    "- кто ходит в клуб меньше времени с момента первого обращения;\n",
    "- кто реже ходит в Фитнес-клуб.\n",
    "\n",
    "Здесь можно заметить, что дольше остаются клиенты, у которых изначально высокая лояльность, например, за счет того, что они пришли по приглащению друга или имеют скидки от компании-партнера. \n",
    "\n",
    "Также высокая лояльность у клиентов, которые тратят много на доп.услуги, например, им нравятся коктейли в фитнесс-баре, конкретный тренер или специалист по массажу.\n",
    "\n",
    "Часто остаются надолго и клиенты, которые регуляно ходят на групповые занятия, возможно за счет того, что формируется круг общения, нравится тренер и т.п.\n",
    "\n",
    "Клиенты реже уходят в отток, когда много лет ходят в один и тот же клуб, у них уже сформирована сильная привычка и чувство принадлежности.\n",
    "\n",
    "Также очевиден более редкий уход в отток клиентов, которые живут или работают рядом с фитнес-центром."
   ]
  },
  {
   "cell_type": "markdown",
   "metadata": {},
   "source": [
    "####  Модель прогнозирования оттока клиентов"
   ]
  },
  {
   "cell_type": "markdown",
   "metadata": {},
   "source": [
    "В данном пункте обучим модель на train-выборке двумя способами: логистической регрессией и случайным лесом."
   ]
  },
  {
   "cell_type": "markdown",
   "metadata": {},
   "source": [
    "По матрице корреляций мы определили, что есть 2 признака, которые создают мультиколлинеарность модели. Наличие данных признаков может стать причиной переобучаемости модели и привести к неверному результату. Оставим по одному из коррелирующих признаков."
   ]
  },
  {
   "cell_type": "code",
   "execution_count": 13,
   "metadata": {},
   "outputs": [],
   "source": [
    "df.drop('month_to_end_contract', axis = 1, inplace = True)\n",
    "df.drop('avg_class_frequency_total', axis = 1, inplace = True)"
   ]
  },
  {
   "cell_type": "code",
   "execution_count": 14,
   "metadata": {},
   "outputs": [],
   "source": [
    "# разделим данные на признаки (матрица X) и целевую переменную (y)\n",
    "X = df.drop(columns=['churn'])\n",
    "y = df['churn']\n",
    "\n",
    "# разделяем модель на обучающую и валидационную выборку\n",
    "X_train, X_test, y_train, y_test = train_test_split(X, y, test_size=0.2, random_state = 0)\n",
    "\n",
    "# стандартизируем тестовую выборку\n",
    "scaler = StandardScaler()\n",
    "X_train_st = scaler.fit_transform(X_train)\n",
    "\n",
    "# применяем стандартизацию к матрице признаков для тестовой выборки\n",
    "X_test_st = scaler.fit_transform(X_test)"
   ]
  },
  {
   "cell_type": "code",
   "execution_count": 15,
   "metadata": {},
   "outputs": [],
   "source": [
    "# объявим функцию, которая будет обучать модель на тренировочной выборке и делать прогноз на валидационной\n",
    "# оценим метрики accuracy, precision и recall модели на валидационной выборке\n",
    "def make_prediction(m, X_train_st, y_train, X_test_st, y_test):\n",
    "    model = m\n",
    "    model.fit(X_train, y_train)\n",
    "    predictions = model.predict(X_test) \n",
    "    print('Accuracy: {:.2f}'.format(accuracy_score(y_test, predictions)))\n",
    "    print('Precision: {:.2f}'.format(precision_score(y_test, predictions)))\n",
    "    print('Recall: {:.2f}'.format(recall_score(y_test, predictions)))\n",
    "    print('F1-мера: {:.2f}'.format(f1_score(y_test, predictions)))"
   ]
  },
  {
   "cell_type": "code",
   "execution_count": 16,
   "metadata": {},
   "outputs": [
    {
     "name": "stdout",
     "output_type": "stream",
     "text": [
      "LogisticRegression(solver='liblinear')\n",
      "Accuracy: 0.90\n",
      "Precision: 0.79\n",
      "Recall: 0.79\n",
      "F1-мера: 0.79\n",
      "RandomForestClassifier(random_state=0)\n",
      "Accuracy: 0.90\n",
      "Precision: 0.81\n",
      "Recall: 0.75\n",
      "F1-мера: 0.78\n"
     ]
    }
   ],
   "source": [
    "# необходимые модели обучения поместим в список\n",
    "models = [\n",
    "    LogisticRegression(solver='liblinear'),\n",
    "    RandomForestClassifier(n_estimators = 100, random_state = 0)\n",
    "]\n",
    "# с помощью цикла применим функцию к списку моделей\n",
    "for i in models:\n",
    "    print(i)\n",
    "    make_prediction(i, X_train_st, y_train, X_test_st, y_test)"
   ]
  },
  {
   "cell_type": "markdown",
   "metadata": {},
   "source": [
    "**Вывод**\n",
    "\n",
    "Доля верно угаданных ответов из всех прогнозов (Accuracy) в обоих случаях равная и достаточно высокая, здесь обе модели сработали хорошо.\n",
    "\n",
    "Доля правильных ответов только среди целевого класса (Precision) у LogisticRegression немного ниже, чем у RandomForestClassifier.\n",
    "\n",
    "А вот показатель количества реальных объектов оттока (Recall), которые мы смогли обнаружить с помощью модели LogisticRegression выше, чем в случае применения модели RandomForestClassifier.\n",
    "\n",
    "Получаем, что метрика Accuracy одинаковая, а две другие метрики отличаются в разные стороны.\n",
    "\n",
    "Так как precision и recall направлены на избежание противоположных рисков, я также рассчитала F1, которая учитывает баланс между этими метриками. \n",
    "\n",
    "Ключевыми параметрами для прогнозирования оттока является параметр Recall. За счет более высокого Recall и F1 делаем выбор в пользу модели LogisticRegression."
   ]
  },
  {
   "cell_type": "markdown",
   "metadata": {},
   "source": [
    "####  Кластеризация клиентов"
   ]
  },
  {
   "cell_type": "code",
   "execution_count": 17,
   "metadata": {},
   "outputs": [],
   "source": [
    "# отложим в сторону столбец с оттоком и стандартизируем данные\n",
    "df_1 = df.drop('churn', axis=1)\n",
    "X_sc = scaler.fit_transform(df_1)"
   ]
  },
  {
   "cell_type": "code",
   "execution_count": 18,
   "metadata": {
    "scrolled": false
   },
   "outputs": [
    {
     "data": {
      "image/png": "[encoded data removed]",
      "text/plain": [
       "<Figure size 1080x720 with 1 Axes>"
      ]
     },
     "metadata": {},
     "output_type": "display_data"
    }
   ],
   "source": [
    "# построим матрицу расстояний и отрисуем дендрограмму\n",
    "linked = linkage(X_sc, method = 'ward')\n",
    "\n",
    "plt.figure(figsize=(15, 10))  \n",
    "dendrogram(linked, orientation='top')\n",
    "plt.title('Кластеризация клиентов')\n",
    "plt.show() "
   ]
  },
  {
   "cell_type": "markdown",
   "metadata": {},
   "source": [
    "На основании полученного графика можно выделить 5 кластеров (если провети горизонтальную линию на уровне 59 по оси Y)."
   ]
  },
  {
   "cell_type": "code",
   "execution_count": 19,
   "metadata": {},
   "outputs": [],
   "source": [
    "# обучим модель кластеризации на основании алгоритма K-Means и спрогнозируем кластеры клиентов\n",
    "km = KMeans(n_clusters=5, random_state=0) # задаём число кластеров, равное 5 (по заданию и согласно выводу выше) и фиксируем значение random_state\n",
    "labels = km.fit_predict(X_sc) # применяем алгоритм к данным и формируем вектор кластеров "
   ]
  },
  {
   "cell_type": "code",
   "execution_count": 20,
   "metadata": {},
   "outputs": [
    {
     "data": {
      "text/html": [
       "<div>\n",
       "<style scoped>\n",
       "    .dataframe tbody tr th:only-of-type {\n",
       "        vertical-align: middle;\n",
       "    }\n",
       "\n",
       "    .dataframe tbody tr th {\n",
       "        vertical-align: top;\n",
       "    }\n",
       "\n",
       "    .dataframe thead th {\n",
       "        text-align: right;\n",
       "    }\n",
       "</style>\n",
       "<table border=\"1\" class=\"dataframe\">\n",
       "  <thead>\n",
       "    <tr style=\"text-align: right;\">\n",
       "      <th></th>\n",
       "      <th>gender</th>\n",
       "      <th>near_location</th>\n",
       "      <th>partner</th>\n",
       "      <th>promo_friends</th>\n",
       "      <th>phone</th>\n",
       "      <th>contract_period</th>\n",
       "      <th>group_visits</th>\n",
       "      <th>age</th>\n",
       "      <th>avg_additional_charges_total</th>\n",
       "      <th>lifetime</th>\n",
       "      <th>avg_class_frequency_current_month</th>\n",
       "    </tr>\n",
       "    <tr>\n",
       "      <th>cluster</th>\n",
       "      <th></th>\n",
       "      <th></th>\n",
       "      <th></th>\n",
       "      <th></th>\n",
       "      <th></th>\n",
       "      <th></th>\n",
       "      <th></th>\n",
       "      <th></th>\n",
       "      <th></th>\n",
       "      <th></th>\n",
       "      <th></th>\n",
       "    </tr>\n",
       "  </thead>\n",
       "  <tbody>\n",
       "    <tr>\n",
       "      <th>0</th>\n",
       "      <td>0.496447</td>\n",
       "      <td>0.995939</td>\n",
       "      <td>0.892386</td>\n",
       "      <td>1.000000</td>\n",
       "      <td>1.0</td>\n",
       "      <td>6.922843</td>\n",
       "      <td>0.524873</td>\n",
       "      <td>29.606091</td>\n",
       "      <td>153.424651</td>\n",
       "      <td>4.283249</td>\n",
       "      <td>1.919520</td>\n",
       "    </tr>\n",
       "    <tr>\n",
       "      <th>1</th>\n",
       "      <td>0.500000</td>\n",
       "      <td>0.000000</td>\n",
       "      <td>0.489247</td>\n",
       "      <td>0.078853</td>\n",
       "      <td>1.0</td>\n",
       "      <td>2.994624</td>\n",
       "      <td>0.232975</td>\n",
       "      <td>28.679211</td>\n",
       "      <td>137.125763</td>\n",
       "      <td>2.974910</td>\n",
       "      <td>1.597146</td>\n",
       "    </tr>\n",
       "    <tr>\n",
       "      <th>2</th>\n",
       "      <td>0.500940</td>\n",
       "      <td>1.000000</td>\n",
       "      <td>0.217105</td>\n",
       "      <td>0.072368</td>\n",
       "      <td>1.0</td>\n",
       "      <td>2.010338</td>\n",
       "      <td>0.277256</td>\n",
       "      <td>27.583647</td>\n",
       "      <td>119.339956</td>\n",
       "      <td>1.922932</td>\n",
       "      <td>1.203319</td>\n",
       "    </tr>\n",
       "    <tr>\n",
       "      <th>3</th>\n",
       "      <td>0.534260</td>\n",
       "      <td>0.996028</td>\n",
       "      <td>0.379345</td>\n",
       "      <td>0.009930</td>\n",
       "      <td>1.0</td>\n",
       "      <td>6.208540</td>\n",
       "      <td>0.538232</td>\n",
       "      <td>30.699106</td>\n",
       "      <td>176.259567</td>\n",
       "      <td>5.415094</td>\n",
       "      <td>2.324220</td>\n",
       "    </tr>\n",
       "    <tr>\n",
       "      <th>4</th>\n",
       "      <td>0.523316</td>\n",
       "      <td>0.862694</td>\n",
       "      <td>0.471503</td>\n",
       "      <td>0.305699</td>\n",
       "      <td>0.0</td>\n",
       "      <td>4.777202</td>\n",
       "      <td>0.427461</td>\n",
       "      <td>29.297927</td>\n",
       "      <td>144.208179</td>\n",
       "      <td>3.940415</td>\n",
       "      <td>1.723967</td>\n",
       "    </tr>\n",
       "  </tbody>\n",
       "</table>\n",
       "</div>"
      ],
      "text/plain": [
       "           gender  near_location   partner  promo_friends  phone  \\\n",
       "cluster                                                            \n",
       "0        0.496447       0.995939  0.892386       1.000000    1.0   \n",
       "1        0.500000       0.000000  0.489247       0.078853    1.0   \n",
       "2        0.500940       1.000000  0.217105       0.072368    1.0   \n",
       "3        0.534260       0.996028  0.379345       0.009930    1.0   \n",
       "4        0.523316       0.862694  0.471503       0.305699    0.0   \n",
       "\n",
       "         contract_period  group_visits        age  \\\n",
       "cluster                                             \n",
       "0               6.922843      0.524873  29.606091   \n",
       "1               2.994624      0.232975  28.679211   \n",
       "2               2.010338      0.277256  27.583647   \n",
       "3               6.208540      0.538232  30.699106   \n",
       "4               4.777202      0.427461  29.297927   \n",
       "\n",
       "         avg_additional_charges_total  lifetime  \\\n",
       "cluster                                           \n",
       "0                          153.424651  4.283249   \n",
       "1                          137.125763  2.974910   \n",
       "2                          119.339956  1.922932   \n",
       "3                          176.259567  5.415094   \n",
       "4                          144.208179  3.940415   \n",
       "\n",
       "         avg_class_frequency_current_month  \n",
       "cluster                                     \n",
       "0                                 1.919520  \n",
       "1                                 1.597146  \n",
       "2                                 1.203319  \n",
       "3                                 2.324220  \n",
       "4                                 1.723967  "
      ]
     },
     "execution_count": 20,
     "metadata": {},
     "output_type": "execute_result"
    }
   ],
   "source": [
    "# сохраняем метки кластера в поле датасетов (исходного и измененного)\n",
    "df_1['cluster'] = labels\n",
    "df['cluster'] = labels\n",
    "\n",
    "# выводим статистику по средним значениям наших признаков по кластеру\n",
    "clusters = df_1.groupby('cluster').mean()\n",
    "clusters"
   ]
  },
  {
   "cell_type": "markdown",
   "metadata": {},
   "source": [
    "Средние значения выделенных кластеров нам говорят о том, что для каждого выделяются определенные признаки:\n",
    "\n",
    "0 кластер - живут или работают рядом, пришли от компании-партнера или по приглашению друга;\n",
    "\n",
    "1 кластер - не живут и не работают рядом, некоторые пришли от компании-партнера, занимаются в фитнес-центре недавно, редко ходят на групповые;\n",
    "\n",
    "2 кластер - живут или работают рядом, занимаются в фитнес-центре недавно, редко ходят на групповые;\n",
    "\n",
    "3 кластер - живут или работают рядом, давно занимаются в фитнес-центре, много тратят на доп.услуги;\n",
    "\n",
    "4 кластер - живут или работают рядом, давно занимаются в фитнес-центре (но меньше, чем 3 кластер), много тратят на доп.услуги но меньше, чем 3 кластер).\n",
    "\n",
    "Здесь можно сделать вывод, что 1 кластер \"залетные\" клиенты, по кластеру 2 тоже есть сомнения. В этих кластерах наименее лояльные клиенты по входным признакам."
   ]
  },
  {
   "cell_type": "code",
   "execution_count": 21,
   "metadata": {
    "scrolled": true
   },
   "outputs": [
    {
     "data": {
      "image/png": "[encoded data removed]",
      "text/plain": [
       "<Figure size 432x288 with 1 Axes>"
      ]
     },
     "metadata": {},
     "output_type": "display_data"
    },
    {
     "data": {
      "image/png": "[encoded data removed]",
      "text/plain": [
       "<Figure size 432x288 with 1 Axes>"
      ]
     },
     "metadata": {},
     "output_type": "display_data"
    },
    {
     "data": {
      "image/png": "[encoded data removed]",
      "text/plain": [
       "<Figure size 432x288 with 1 Axes>"
      ]
     },
     "metadata": {},
     "output_type": "display_data"
    },
    {
     "data": {
      "image/png": "[encoded data removed]",
      "text/plain": [
       "<Figure size 432x288 with 1 Axes>"
      ]
     },
     "metadata": {},
     "output_type": "display_data"
    },
    {
     "data": {
      "image/png": "[encoded data removed]",
      "text/plain": [
       "<Figure size 432x288 with 1 Axes>"
      ]
     },
     "metadata": {},
     "output_type": "display_data"
    }
   ],
   "source": [
    "# построим распределения не бинарных признаков для кластеров\n",
    "    \n",
    "clusterss = clusters.reset_index()['cluster']\n",
    "for i in indicators_1:\n",
    "    for j in clusterss:\n",
    "        sns.kdeplot(df_1[df_1['cluster']==j][i], label=j, shade=True)\n",
    "        plt.title(i)\n",
    "        plt.legend()\n",
    "    plt.show()"
   ]
  },
  {
   "cell_type": "code",
   "execution_count": 22,
   "metadata": {
    "scrolled": true
   },
   "outputs": [
    {
     "data": {
      "image/png": "[encoded data removed]",
      "text/plain": [
       "<Figure size 432x288 with 1 Axes>"
      ]
     },
     "metadata": {},
     "output_type": "display_data"
    },
    {
     "data": {
      "image/png": "[encoded data removed]",
      "text/plain": [
       "<Figure size 432x288 with 1 Axes>"
      ]
     },
     "metadata": {},
     "output_type": "display_data"
    },
    {
     "data": {
      "image/png": "[encoded data removed]",
      "text/plain": [
       "<Figure size 432x288 with 1 Axes>"
      ]
     },
     "metadata": {},
     "output_type": "display_data"
    },
    {
     "data": {
      "image/png": "[encoded data removed]",
      "text/plain": [
       "<Figure size 432x288 with 1 Axes>"
      ]
     },
     "metadata": {},
     "output_type": "display_data"
    },
    {
     "data": {
      "image/png": "[encoded data removed]",
      "text/plain": [
       "<Figure size 432x288 with 1 Axes>"
      ]
     },
     "metadata": {},
     "output_type": "display_data"
    },
    {
     "data": {
      "image/png": "[encoded data removed]",
      "text/plain": [
       "<Figure size 432x288 with 1 Axes>"
      ]
     },
     "metadata": {},
     "output_type": "display_data"
    }
   ],
   "source": [
    "# построим распределения бинарных признаков для кластеров\n",
    "    \n",
    "clusterss = clusters.reset_index()['cluster']\n",
    "for i in indicators_2:\n",
    "    sns.countplot(data=df_1, x=df[i], hue='cluster')\n",
    "    plt.title(i)\n",
    "    plt.show()"
   ]
  },
  {
   "cell_type": "markdown",
   "metadata": {},
   "source": [
    "По графикам также можно сделать вывод, что 1 и 2 кластеры это наименее \"лояльные\" клиенты:\n",
    "\n",
    "1 кластер - не живут и не работают рядом, ходят совсем недавно, \n",
    "\n",
    "2 кластер - живут или работают рядом, но пришли не по приглашению компании партера или друга, ходят совсем недавно, ходят редко, мало ходят на групповые."
   ]
  },
  {
   "cell_type": "code",
   "execution_count": 23,
   "metadata": {},
   "outputs": [
    {
     "data": {
      "text/html": [
       "<div>\n",
       "<style scoped>\n",
       "    .dataframe tbody tr th:only-of-type {\n",
       "        vertical-align: middle;\n",
       "    }\n",
       "\n",
       "    .dataframe tbody tr th {\n",
       "        vertical-align: top;\n",
       "    }\n",
       "\n",
       "    .dataframe thead th {\n",
       "        text-align: right;\n",
       "    }\n",
       "</style>\n",
       "<table border=\"1\" class=\"dataframe\">\n",
       "  <thead>\n",
       "    <tr style=\"text-align: right;\">\n",
       "      <th></th>\n",
       "      <th>churn</th>\n",
       "    </tr>\n",
       "    <tr>\n",
       "      <th>cluster</th>\n",
       "      <th></th>\n",
       "    </tr>\n",
       "  </thead>\n",
       "  <tbody>\n",
       "    <tr>\n",
       "      <th>0</th>\n",
       "      <td>0.119797</td>\n",
       "    </tr>\n",
       "    <tr>\n",
       "      <th>1</th>\n",
       "      <td>0.403226</td>\n",
       "    </tr>\n",
       "    <tr>\n",
       "      <th>2</th>\n",
       "      <td>0.563910</td>\n",
       "    </tr>\n",
       "    <tr>\n",
       "      <th>3</th>\n",
       "      <td>0.014896</td>\n",
       "    </tr>\n",
       "    <tr>\n",
       "      <th>4</th>\n",
       "      <td>0.266839</td>\n",
       "    </tr>\n",
       "  </tbody>\n",
       "</table>\n",
       "</div>"
      ],
      "text/plain": [
       "            churn\n",
       "cluster          \n",
       "0        0.119797\n",
       "1        0.403226\n",
       "2        0.563910\n",
       "3        0.014896\n",
       "4        0.266839"
      ]
     },
     "execution_count": 23,
     "metadata": {},
     "output_type": "execute_result"
    }
   ],
   "source": [
    "# для каждого полученного кластера посчитаем долю оттока\n",
    "df.groupby('cluster').agg({'churn':'mean'})"
   ]
  },
  {
   "cell_type": "markdown",
   "metadata": {},
   "source": [
    "Исходя из доли оттока в каждом кластере можем сделать вывод, что надежными кластерами являются 0,3,4. Кластеры 1 и 2 более склонны к оттоку. В кластере 2 более половины людей уходит в отток. В 4 кластере также есть небольшая вероятность оттока, хоть, в целом, кластер является надежным."
   ]
  },
  {
   "cell_type": "markdown",
   "metadata": {},
   "source": [
    "**Вывод**\n",
    "\n",
    "Исходя из анализа, проведенного в данном пункте можно сделать вывод о том, что кластеры 1 и 2 более склонны к оттоку, а кластеры 0, 3, 4 более надежны, при чем, наиболее надежным является 3 кластер, в который входят самые преданные и лояльные клиенты (живут или работают рядом, давно занимаются в фитнес-центре, много тратят на доп.услуги)."
   ]
  },
  {
   "cell_type": "markdown",
   "metadata": {},
   "source": [
    "####  Выводы и рекомендации"
   ]
  },
  {
   "cell_type": "markdown",
   "metadata": {},
   "source": [
    "В результате проведенного исследования было выделено 5 кластеров клиентов, которые можно разделить на 2 группы: склонные к оттоку и надежные.\n",
    "\n",
    "К оттоку склонные наименее лояльные клиенты:\n",
    "- 1 кластер - не живут и не работают рядом, ходят совсем недавно;\n",
    "- 2 кластер - живут или работают рядом, но пришли не по приглашению компании партера или друга, ходят совсем недавно, ходят редко, мало ходят на групповые.\n",
    "\n",
    "У этих групп клиентов слабо сформирована привязанность к конкретному фитнес-центру.\n",
    "\n",
    "Надежными клиентами являются: \n",
    "- 0 кластер - живут или работают рядом, пришли от компании-партнера или по приглашению друга;\n",
    "- 3 кластер - живут или работают рядом, давно занимаются в фитнес-центре, много тратят на доп.услуги;\n",
    "- 4 кластер - живут или работают рядом, давно занимаются в фитнес-центре (но меньше, чем 3 кластер), много тратят на доп.услуги но меньше, чем 3 кластер).\n",
    "\n",
    "При чем, наиболее надежным является 3 кластер, в который входят самые преданные и лояльные клиенты.\n",
    "В 4 кластере также есть небольшая вероятность оттока, хоть, в целом, кластер является надежным.\n",
    "\n",
    "Таким образом, нам следует обратить внимание на клиентов 1 и 2 кластера. Переместить их в другие кластеры поможет повышение лояльности. Также нам необходимо следить за 4 кластером и не давать клиентам уходить из него в отток.\n",
    "\n",
    "Исходя из этого, можно дать следующие рекомендации:\n",
    "1. Введение скидки для новых клиентов (изначальное повышение лояльности);\n",
    "2. Работа по продвижению групповых занятий (формирование круг общения, чувства принадлежности), здесь может быть просто рассказ менеджера клиенту о занятиях, вывеска на ресепшн, размещение информации в приложении клуба;\n",
    "3. Введение системы скидок за преданность, а именно неоднократное продление абонимента;\n",
    "4. Система скидок на первое использование доп.услуг: первый коктейль в фитнес-баре, первый сеанс массажа или занятие с тренером."
   ]
  }
 ],
 "metadata": {
  "ExecuteTimeLog": [
   {
    "duration": 1500,
    "start_time": "2022-04-04T14:25:15.351Z"
   },
   {
    "duration": 34,
    "start_time": "2022-04-04T14:25:18.367Z"
   },
   {
    "duration": 41,
    "start_time": "2022-04-04T14:25:24.596Z"
   },
   {
    "duration": 31,
    "start_time": "2022-04-04T14:27:48.389Z"
   },
   {
    "duration": 103,
    "start_time": "2022-04-04T14:29:41.253Z"
   },
   {
    "duration": 11,
    "start_time": "2022-04-04T14:29:48.162Z"
   },
   {
    "duration": 10,
    "start_time": "2022-04-04T14:30:55.349Z"
   },
   {
    "duration": 5,
    "start_time": "2022-04-04T14:31:09.048Z"
   },
   {
    "duration": 19,
    "start_time": "2022-04-04T14:31:19.483Z"
   },
   {
    "duration": 3,
    "start_time": "2022-04-04T14:31:28.327Z"
   },
   {
    "duration": 19,
    "start_time": "2022-04-04T14:31:30.741Z"
   },
   {
    "duration": 4,
    "start_time": "2022-04-04T14:31:56.030Z"
   },
   {
    "duration": 1431,
    "start_time": "2022-04-04T18:40:06.194Z"
   },
   {
    "duration": 45,
    "start_time": "2022-04-04T18:40:08.171Z"
   },
   {
    "duration": 3,
    "start_time": "2022-04-04T18:40:10.109Z"
   },
   {
    "duration": 42,
    "start_time": "2022-04-04T18:41:26.959Z"
   },
   {
    "duration": 1481,
    "start_time": "2022-04-05T05:43:20.351Z"
   },
   {
    "duration": 37,
    "start_time": "2022-04-05T05:43:21.835Z"
   },
   {
    "duration": 125,
    "start_time": "2022-04-05T05:43:21.875Z"
   },
   {
    "duration": 51,
    "start_time": "2022-04-05T05:43:22.003Z"
   },
   {
    "duration": 13,
    "start_time": "2022-04-05T05:43:51.189Z"
   },
   {
    "duration": 45,
    "start_time": "2022-04-05T05:51:52.981Z"
   },
   {
    "duration": 13,
    "start_time": "2022-04-05T05:53:34.961Z"
   },
   {
    "duration": 4,
    "start_time": "2022-04-05T05:54:01.905Z"
   },
   {
    "duration": 101,
    "start_time": "2022-04-05T05:54:21.036Z"
   },
   {
    "duration": 13,
    "start_time": "2022-04-05T05:54:50.114Z"
   },
   {
    "duration": 19,
    "start_time": "2022-04-05T05:55:35.769Z"
   },
   {
    "duration": 13,
    "start_time": "2022-04-05T05:55:41.657Z"
   },
   {
    "duration": 17,
    "start_time": "2022-04-05T05:57:00.531Z"
   },
   {
    "duration": 14,
    "start_time": "2022-04-05T05:57:31.398Z"
   },
   {
    "duration": 2263,
    "start_time": "2022-04-05T06:01:37.137Z"
   },
   {
    "duration": 11,
    "start_time": "2022-04-05T06:01:43.618Z"
   },
   {
    "duration": 2319,
    "start_time": "2022-04-05T06:02:08.503Z"
   },
   {
    "duration": 7,
    "start_time": "2022-04-05T06:02:24.455Z"
   },
   {
    "duration": 6,
    "start_time": "2022-04-05T06:02:40.312Z"
   },
   {
    "duration": 5,
    "start_time": "2022-04-05T06:03:51.587Z"
   },
   {
    "duration": 133,
    "start_time": "2022-04-05T06:11:41.307Z"
   },
   {
    "duration": 12,
    "start_time": "2022-04-05T06:11:56.573Z"
   },
   {
    "duration": 348,
    "start_time": "2022-04-05T06:13:29.111Z"
   },
   {
    "duration": 878,
    "start_time": "2022-04-05T06:18:09.284Z"
   },
   {
    "duration": 896,
    "start_time": "2022-04-05T06:18:33.394Z"
   },
   {
    "duration": 5,
    "start_time": "2022-04-05T06:18:56.199Z"
   },
   {
    "duration": 173,
    "start_time": "2022-04-05T06:19:21.327Z"
   },
   {
    "duration": 2370,
    "start_time": "2022-04-05T06:19:35.105Z"
   },
   {
    "duration": 809,
    "start_time": "2022-04-05T06:19:41.120Z"
   },
   {
    "duration": 155,
    "start_time": "2022-04-05T06:20:02.446Z"
   },
   {
    "duration": 937,
    "start_time": "2022-04-05T06:20:34.910Z"
   },
   {
    "duration": 288,
    "start_time": "2022-04-05T06:21:34.273Z"
   },
   {
    "duration": 1760,
    "start_time": "2022-04-05T06:22:31.714Z"
   },
   {
    "duration": 2117,
    "start_time": "2022-04-05T06:23:31.237Z"
   },
   {
    "duration": 138,
    "start_time": "2022-04-05T06:24:22.513Z"
   },
   {
    "duration": 3069,
    "start_time": "2022-04-05T06:24:31.128Z"
   },
   {
    "duration": 3623,
    "start_time": "2022-04-05T06:25:58.741Z"
   },
   {
    "duration": 6050,
    "start_time": "2022-04-05T06:26:31.394Z"
   },
   {
    "duration": 4062,
    "start_time": "2022-04-05T06:27:11.862Z"
   },
   {
    "duration": 3788,
    "start_time": "2022-04-05T06:27:52.581Z"
   },
   {
    "duration": 5818,
    "start_time": "2022-04-05T06:28:41.788Z"
   },
   {
    "duration": 3815,
    "start_time": "2022-04-05T06:29:04.315Z"
   },
   {
    "duration": 244,
    "start_time": "2022-04-05T06:31:57.008Z"
   },
   {
    "duration": 4133,
    "start_time": "2022-04-05T06:32:06.957Z"
   },
   {
    "duration": 3983,
    "start_time": "2022-04-05T06:34:22.653Z"
   },
   {
    "duration": 1482,
    "start_time": "2022-04-05T10:00:33.862Z"
   },
   {
    "duration": 37,
    "start_time": "2022-04-05T10:00:35.346Z"
   },
   {
    "duration": 4,
    "start_time": "2022-04-05T10:00:35.385Z"
   },
   {
    "duration": 15,
    "start_time": "2022-04-05T10:00:35.390Z"
   },
   {
    "duration": 63,
    "start_time": "2022-04-05T10:00:35.408Z"
   },
   {
    "duration": 13,
    "start_time": "2022-04-05T10:00:35.473Z"
   },
   {
    "duration": 15,
    "start_time": "2022-04-05T10:00:35.488Z"
   },
   {
    "duration": 3919,
    "start_time": "2022-04-05T10:00:35.506Z"
   },
   {
    "duration": 105,
    "start_time": "2022-04-05T10:01:42.903Z"
   },
   {
    "duration": 9,
    "start_time": "2022-04-05T10:01:46.443Z"
   },
   {
    "duration": 13,
    "start_time": "2022-04-05T10:01:54.210Z"
   },
   {
    "duration": 9,
    "start_time": "2022-04-05T10:02:58.543Z"
   },
   {
    "duration": 3820,
    "start_time": "2022-04-05T10:10:21.949Z"
   },
   {
    "duration": 1317,
    "start_time": "2022-04-05T10:23:13.935Z"
   },
   {
    "duration": 36,
    "start_time": "2022-04-05T10:23:15.254Z"
   },
   {
    "duration": 4,
    "start_time": "2022-04-05T10:23:15.292Z"
   },
   {
    "duration": 14,
    "start_time": "2022-04-05T10:23:15.298Z"
   },
   {
    "duration": 24,
    "start_time": "2022-04-05T10:23:15.314Z"
   },
   {
    "duration": 47,
    "start_time": "2022-04-05T10:23:15.340Z"
   },
   {
    "duration": 12,
    "start_time": "2022-04-05T10:23:15.388Z"
   },
   {
    "duration": 36,
    "start_time": "2022-04-05T10:23:15.402Z"
   },
   {
    "duration": 3885,
    "start_time": "2022-04-05T10:23:15.440Z"
   },
   {
    "duration": 5,
    "start_time": "2022-04-05T10:31:18.416Z"
   },
   {
    "duration": 23,
    "start_time": "2022-04-05T10:31:22.939Z"
   },
   {
    "duration": 1449,
    "start_time": "2022-04-05T10:35:08.719Z"
   },
   {
    "duration": 1494,
    "start_time": "2022-04-05T10:36:54.034Z"
   },
   {
    "duration": 1618,
    "start_time": "2022-04-05T10:48:45.417Z"
   },
   {
    "duration": 1463,
    "start_time": "2022-04-05T14:11:06.929Z"
   },
   {
    "duration": 32,
    "start_time": "2022-04-05T14:11:08.395Z"
   },
   {
    "duration": 3,
    "start_time": "2022-04-05T14:11:08.429Z"
   },
   {
    "duration": 11,
    "start_time": "2022-04-05T14:11:08.433Z"
   },
   {
    "duration": 23,
    "start_time": "2022-04-05T14:11:08.446Z"
   },
   {
    "duration": 38,
    "start_time": "2022-04-05T14:11:08.470Z"
   },
   {
    "duration": 10,
    "start_time": "2022-04-05T14:11:08.509Z"
   },
   {
    "duration": 15,
    "start_time": "2022-04-05T14:11:08.521Z"
   },
   {
    "duration": 3481,
    "start_time": "2022-04-05T14:11:08.538Z"
   },
   {
    "duration": 1378,
    "start_time": "2022-04-05T14:11:12.021Z"
   },
   {
    "duration": 97,
    "start_time": "2022-04-05T14:20:07.587Z"
   },
   {
    "duration": 876,
    "start_time": "2022-04-05T14:24:16.967Z"
   },
   {
    "duration": 23,
    "start_time": "2022-04-05T14:24:21.495Z"
   },
   {
    "duration": 9,
    "start_time": "2022-04-05T14:27:26.774Z"
   },
   {
    "duration": 11,
    "start_time": "2022-04-05T14:28:56.987Z"
   },
   {
    "duration": 14,
    "start_time": "2022-04-05T14:29:31.325Z"
   },
   {
    "duration": 14,
    "start_time": "2022-04-05T14:32:34.188Z"
   },
   {
    "duration": 28,
    "start_time": "2022-04-05T14:32:47.465Z"
   },
   {
    "duration": 5,
    "start_time": "2022-04-05T14:34:05.339Z"
   },
   {
    "duration": 30,
    "start_time": "2022-04-05T14:35:15.918Z"
   },
   {
    "duration": 8,
    "start_time": "2022-04-05T14:35:22.032Z"
   },
   {
    "duration": 9,
    "start_time": "2022-04-05T14:36:35.919Z"
   },
   {
    "duration": 12,
    "start_time": "2022-04-05T14:40:41.544Z"
   },
   {
    "duration": 29,
    "start_time": "2022-04-05T14:41:44.475Z"
   },
   {
    "duration": 8,
    "start_time": "2022-04-05T14:41:45.144Z"
   },
   {
    "duration": 4,
    "start_time": "2022-04-05T14:43:49.650Z"
   },
   {
    "duration": 816,
    "start_time": "2022-04-05T14:43:53.900Z"
   },
   {
    "duration": 4,
    "start_time": "2022-04-05T14:44:31.176Z"
   },
   {
    "duration": 856,
    "start_time": "2022-04-05T14:44:33.646Z"
   },
   {
    "duration": 10,
    "start_time": "2022-04-05T14:44:52.751Z"
   },
   {
    "duration": 5,
    "start_time": "2022-04-05T14:50:14.453Z"
   },
   {
    "duration": 497,
    "start_time": "2022-04-05T14:50:21.707Z"
   },
   {
    "duration": 348,
    "start_time": "2022-04-05T14:50:42.475Z"
   },
   {
    "duration": 495,
    "start_time": "2022-04-05T14:50:50.908Z"
   },
   {
    "duration": 498,
    "start_time": "2022-04-05T14:55:24.808Z"
   },
   {
    "duration": 7,
    "start_time": "2022-04-05T14:55:46.235Z"
   },
   {
    "duration": 4,
    "start_time": "2022-04-05T14:55:46.811Z"
   },
   {
    "duration": 524,
    "start_time": "2022-04-05T14:55:47.831Z"
   },
   {
    "duration": 1768,
    "start_time": "2022-04-06T07:32:37.526Z"
   },
   {
    "duration": 36,
    "start_time": "2022-04-06T07:32:39.296Z"
   },
   {
    "duration": 4,
    "start_time": "2022-04-06T07:32:39.333Z"
   },
   {
    "duration": 17,
    "start_time": "2022-04-06T07:32:39.339Z"
   },
   {
    "duration": 13,
    "start_time": "2022-04-06T07:32:39.357Z"
   },
   {
    "duration": 61,
    "start_time": "2022-04-06T07:32:39.372Z"
   },
   {
    "duration": 13,
    "start_time": "2022-04-06T07:32:39.435Z"
   },
   {
    "duration": 3654,
    "start_time": "2022-04-06T07:32:39.450Z"
   },
   {
    "duration": 1516,
    "start_time": "2022-04-06T07:32:43.106Z"
   },
   {
    "duration": 8,
    "start_time": "2022-04-06T07:32:44.625Z"
   },
   {
    "duration": 10,
    "start_time": "2022-04-06T07:32:44.634Z"
   },
   {
    "duration": 684,
    "start_time": "2022-04-06T07:32:44.646Z"
   },
   {
    "duration": 14,
    "start_time": "2022-04-06T07:42:43.045Z"
   },
   {
    "duration": 4,
    "start_time": "2022-04-06T07:43:12.731Z"
   },
   {
    "duration": 541,
    "start_time": "2022-04-06T07:43:21.034Z"
   },
   {
    "duration": 14,
    "start_time": "2022-04-06T07:46:22.102Z"
   },
   {
    "duration": 4,
    "start_time": "2022-04-06T07:46:22.708Z"
   },
   {
    "duration": 541,
    "start_time": "2022-04-06T07:46:23.913Z"
   },
   {
    "duration": 4,
    "start_time": "2022-04-06T07:49:54.357Z"
   },
   {
    "duration": 521,
    "start_time": "2022-04-06T07:49:55.325Z"
   },
   {
    "duration": 14,
    "start_time": "2022-04-06T07:50:08.543Z"
   },
   {
    "duration": 4,
    "start_time": "2022-04-06T07:50:09.112Z"
   },
   {
    "duration": 557,
    "start_time": "2022-04-06T07:50:09.624Z"
   },
   {
    "duration": 117,
    "start_time": "2022-04-06T07:57:46.986Z"
   },
   {
    "duration": 240,
    "start_time": "2022-04-06T07:57:58.070Z"
   },
   {
    "duration": 6,
    "start_time": "2022-04-06T07:59:09.798Z"
   },
   {
    "duration": 13,
    "start_time": "2022-04-06T07:59:16.500Z"
   },
   {
    "duration": 4,
    "start_time": "2022-04-06T07:59:17.345Z"
   },
   {
    "duration": 154,
    "start_time": "2022-04-06T07:59:21.349Z"
   },
   {
    "duration": 169,
    "start_time": "2022-04-06T08:01:34.336Z"
   },
   {
    "duration": 45,
    "start_time": "2022-04-06T08:07:16.866Z"
   },
   {
    "duration": 593,
    "start_time": "2022-04-06T08:08:01.374Z"
   },
   {
    "duration": 6,
    "start_time": "2022-04-06T08:09:11.750Z"
   },
   {
    "duration": 982,
    "start_time": "2022-04-06T08:09:18.234Z"
   },
   {
    "duration": 6,
    "start_time": "2022-04-06T08:09:33.884Z"
   },
   {
    "duration": 6,
    "start_time": "2022-04-06T08:10:13.852Z"
   },
   {
    "duration": 178,
    "start_time": "2022-04-06T08:10:42.123Z"
   },
   {
    "duration": 255,
    "start_time": "2022-04-06T08:10:49.646Z"
   },
   {
    "duration": 592,
    "start_time": "2022-04-06T08:12:56.754Z"
   },
   {
    "duration": 199,
    "start_time": "2022-04-06T08:13:08.809Z"
   },
   {
    "duration": 562,
    "start_time": "2022-04-06T08:13:23.481Z"
   },
   {
    "duration": 169,
    "start_time": "2022-04-06T08:16:30.450Z"
   },
   {
    "duration": 155,
    "start_time": "2022-04-06T08:16:34.762Z"
   },
   {
    "duration": 184,
    "start_time": "2022-04-06T08:17:46.983Z"
   },
   {
    "duration": 148,
    "start_time": "2022-04-06T08:18:09.713Z"
   },
   {
    "duration": 137,
    "start_time": "2022-04-06T08:18:20.725Z"
   },
   {
    "duration": 140,
    "start_time": "2022-04-06T08:18:33.367Z"
   },
   {
    "duration": 137,
    "start_time": "2022-04-06T08:18:48.225Z"
   },
   {
    "duration": 150,
    "start_time": "2022-04-06T08:18:53.765Z"
   },
   {
    "duration": 144,
    "start_time": "2022-04-06T08:19:07.841Z"
   },
   {
    "duration": 120,
    "start_time": "2022-04-06T08:19:15.882Z"
   },
   {
    "duration": 521,
    "start_time": "2022-04-06T08:19:52.358Z"
   },
   {
    "duration": 186,
    "start_time": "2022-04-06T08:22:13.924Z"
   },
   {
    "duration": 547,
    "start_time": "2022-04-06T08:24:35.507Z"
   },
   {
    "duration": 1671,
    "start_time": "2022-04-06T09:05:41.733Z"
   },
   {
    "duration": 34,
    "start_time": "2022-04-06T09:05:43.406Z"
   },
   {
    "duration": 4,
    "start_time": "2022-04-06T09:05:43.442Z"
   },
   {
    "duration": 13,
    "start_time": "2022-04-06T09:05:43.448Z"
   },
   {
    "duration": 12,
    "start_time": "2022-04-06T09:05:43.463Z"
   },
   {
    "duration": 55,
    "start_time": "2022-04-06T09:05:43.476Z"
   },
   {
    "duration": 12,
    "start_time": "2022-04-06T09:05:43.533Z"
   },
   {
    "duration": 3669,
    "start_time": "2022-04-06T09:05:43.547Z"
   },
   {
    "duration": 1380,
    "start_time": "2022-04-06T09:05:47.218Z"
   },
   {
    "duration": 14,
    "start_time": "2022-04-06T09:05:48.601Z"
   },
   {
    "duration": 4,
    "start_time": "2022-04-06T09:05:48.617Z"
   },
   {
    "duration": 628,
    "start_time": "2022-04-06T09:05:48.623Z"
   },
   {
    "duration": 424,
    "start_time": "2022-04-06T09:06:42.506Z"
   },
   {
    "duration": 5,
    "start_time": "2022-04-06T09:09:33.415Z"
   },
   {
    "duration": 4,
    "start_time": "2022-04-06T09:15:15.701Z"
   },
   {
    "duration": 337,
    "start_time": "2022-04-06T09:15:18.165Z"
   },
   {
    "duration": 377,
    "start_time": "2022-04-06T09:15:44.957Z"
   },
   {
    "duration": 257,
    "start_time": "2022-04-06T09:15:53.446Z"
   },
   {
    "duration": 392,
    "start_time": "2022-04-06T09:16:59.718Z"
   },
   {
    "duration": 45,
    "start_time": "2022-04-06T15:49:25.679Z"
   },
   {
    "duration": 1976,
    "start_time": "2022-04-06T15:49:34.791Z"
   },
   {
    "duration": 56,
    "start_time": "2022-04-06T15:49:36.769Z"
   },
   {
    "duration": 3,
    "start_time": "2022-04-06T15:49:36.827Z"
   },
   {
    "duration": 12,
    "start_time": "2022-04-06T15:49:36.832Z"
   },
   {
    "duration": 12,
    "start_time": "2022-04-06T15:49:36.845Z"
   },
   {
    "duration": 63,
    "start_time": "2022-04-06T15:49:36.859Z"
   },
   {
    "duration": 11,
    "start_time": "2022-04-06T15:49:36.923Z"
   },
   {
    "duration": 3435,
    "start_time": "2022-04-06T15:49:36.935Z"
   },
   {
    "duration": 1610,
    "start_time": "2022-04-06T15:49:40.371Z"
   },
   {
    "duration": 12,
    "start_time": "2022-04-06T15:49:41.984Z"
   },
   {
    "duration": 4,
    "start_time": "2022-04-06T15:49:41.997Z"
   },
   {
    "duration": 104,
    "start_time": "2022-04-06T15:49:42.002Z"
   },
   {
    "duration": 12,
    "start_time": "2022-04-06T15:50:21.854Z"
   },
   {
    "duration": 805,
    "start_time": "2022-04-06T15:50:40.558Z"
   },
   {
    "duration": 4,
    "start_time": "2022-04-06T15:50:51.167Z"
   },
   {
    "duration": 576,
    "start_time": "2022-04-06T15:50:51.558Z"
   },
   {
    "duration": 15,
    "start_time": "2022-04-06T15:56:22.793Z"
   },
   {
    "duration": 5,
    "start_time": "2022-04-06T15:57:17.149Z"
   },
   {
    "duration": 14,
    "start_time": "2022-04-06T15:57:25.647Z"
   },
   {
    "duration": 10,
    "start_time": "2022-04-06T15:58:24.278Z"
   },
   {
    "duration": 16,
    "start_time": "2022-04-06T15:58:48.267Z"
   },
   {
    "duration": 1675,
    "start_time": "2022-04-06T15:59:03.527Z"
   },
   {
    "duration": 45,
    "start_time": "2022-04-06T15:59:05.204Z"
   },
   {
    "duration": 4,
    "start_time": "2022-04-06T15:59:05.250Z"
   },
   {
    "duration": 10,
    "start_time": "2022-04-06T15:59:05.255Z"
   },
   {
    "duration": 11,
    "start_time": "2022-04-06T15:59:05.267Z"
   },
   {
    "duration": 50,
    "start_time": "2022-04-06T15:59:05.279Z"
   },
   {
    "duration": 10,
    "start_time": "2022-04-06T15:59:05.331Z"
   },
   {
    "duration": 3631,
    "start_time": "2022-04-06T15:59:05.343Z"
   },
   {
    "duration": 1358,
    "start_time": "2022-04-06T15:59:08.976Z"
   },
   {
    "duration": 13,
    "start_time": "2022-04-06T15:59:10.336Z"
   },
   {
    "duration": 6,
    "start_time": "2022-04-06T15:59:10.351Z"
   },
   {
    "duration": 12,
    "start_time": "2022-04-06T15:59:10.359Z"
   },
   {
    "duration": 14,
    "start_time": "2022-04-06T15:59:10.373Z"
   },
   {
    "duration": 4,
    "start_time": "2022-04-06T15:59:10.388Z"
   },
   {
    "duration": 479,
    "start_time": "2022-04-06T15:59:10.394Z"
   },
   {
    "duration": 4,
    "start_time": "2022-04-06T16:29:19.696Z"
   },
   {
    "duration": 343,
    "start_time": "2022-04-06T16:29:20.929Z"
   },
   {
    "duration": 3,
    "start_time": "2022-04-06T16:29:42.428Z"
   },
   {
    "duration": 413,
    "start_time": "2022-04-06T16:29:43.238Z"
   },
   {
    "duration": 13,
    "start_time": "2022-04-06T16:40:38.488Z"
   },
   {
    "duration": 48,
    "start_time": "2022-04-06T16:47:24.264Z"
   },
   {
    "duration": 1712,
    "start_time": "2022-04-06T16:47:46.027Z"
   },
   {
    "duration": 34,
    "start_time": "2022-04-06T16:47:47.741Z"
   },
   {
    "duration": 4,
    "start_time": "2022-04-06T16:47:47.776Z"
   },
   {
    "duration": 11,
    "start_time": "2022-04-06T16:47:47.782Z"
   },
   {
    "duration": 12,
    "start_time": "2022-04-06T16:47:47.794Z"
   },
   {
    "duration": 63,
    "start_time": "2022-04-06T16:47:47.808Z"
   },
   {
    "duration": 12,
    "start_time": "2022-04-06T16:47:47.873Z"
   },
   {
    "duration": 3512,
    "start_time": "2022-04-06T16:47:47.887Z"
   },
   {
    "duration": 1410,
    "start_time": "2022-04-06T16:47:51.400Z"
   },
   {
    "duration": 5,
    "start_time": "2022-04-06T16:47:52.812Z"
   },
   {
    "duration": 18,
    "start_time": "2022-04-06T16:47:52.818Z"
   },
   {
    "duration": 3,
    "start_time": "2022-04-06T16:47:52.838Z"
   },
   {
    "duration": 462,
    "start_time": "2022-04-06T16:47:52.842Z"
   },
   {
    "duration": 3,
    "start_time": "2022-04-06T16:47:53.306Z"
   },
   {
    "duration": 15,
    "start_time": "2022-04-06T16:48:28.856Z"
   },
   {
    "duration": 4,
    "start_time": "2022-04-06T16:48:31.618Z"
   },
   {
    "duration": 319,
    "start_time": "2022-04-06T16:48:32.662Z"
   },
   {
    "duration": 9,
    "start_time": "2022-04-06T16:54:04.730Z"
   },
   {
    "duration": 114,
    "start_time": "2022-04-06T16:54:50.622Z"
   },
   {
    "duration": 101480,
    "start_time": "2022-04-06T16:56:32.236Z"
   },
   {
    "duration": 1886,
    "start_time": "2022-04-07T07:53:41.216Z"
   },
   {
    "duration": 30,
    "start_time": "2022-04-07T07:53:43.104Z"
   },
   {
    "duration": 4,
    "start_time": "2022-04-07T07:53:43.136Z"
   },
   {
    "duration": 12,
    "start_time": "2022-04-07T07:53:43.142Z"
   },
   {
    "duration": 13,
    "start_time": "2022-04-07T07:53:43.156Z"
   },
   {
    "duration": 65,
    "start_time": "2022-04-07T07:53:43.170Z"
   },
   {
    "duration": 13,
    "start_time": "2022-04-07T07:53:43.237Z"
   },
   {
    "duration": 3949,
    "start_time": "2022-04-07T07:53:43.252Z"
   },
   {
    "duration": 1555,
    "start_time": "2022-04-07T07:53:47.203Z"
   },
   {
    "duration": 6,
    "start_time": "2022-04-07T07:53:48.761Z"
   },
   {
    "duration": 42,
    "start_time": "2022-04-07T07:53:48.769Z"
   },
   {
    "duration": 5,
    "start_time": "2022-04-07T07:53:48.813Z"
   },
   {
    "duration": 502,
    "start_time": "2022-04-07T07:53:48.820Z"
   },
   {
    "duration": 10,
    "start_time": "2022-04-07T07:53:49.324Z"
   },
   {
    "duration": 535,
    "start_time": "2022-04-07T07:53:49.336Z"
   },
   {
    "duration": 1503,
    "start_time": "2022-04-07T08:12:33.099Z"
   },
   {
    "duration": 1731,
    "start_time": "2022-04-07T08:45:57.147Z"
   },
   {
    "duration": 30,
    "start_time": "2022-04-07T08:45:58.881Z"
   },
   {
    "duration": 3,
    "start_time": "2022-04-07T08:45:58.916Z"
   },
   {
    "duration": 17,
    "start_time": "2022-04-07T08:45:58.921Z"
   },
   {
    "duration": 13,
    "start_time": "2022-04-07T08:45:58.939Z"
   },
   {
    "duration": 65,
    "start_time": "2022-04-07T08:45:58.954Z"
   },
   {
    "duration": 11,
    "start_time": "2022-04-07T08:45:59.021Z"
   },
   {
    "duration": 3617,
    "start_time": "2022-04-07T08:45:59.034Z"
   },
   {
    "duration": 1464,
    "start_time": "2022-04-07T08:46:02.654Z"
   },
   {
    "duration": 5,
    "start_time": "2022-04-07T08:46:04.120Z"
   },
   {
    "duration": 19,
    "start_time": "2022-04-07T08:46:04.127Z"
   },
   {
    "duration": 4,
    "start_time": "2022-04-07T08:46:04.148Z"
   },
   {
    "duration": 475,
    "start_time": "2022-04-07T08:46:04.154Z"
   },
   {
    "duration": 9,
    "start_time": "2022-04-07T08:46:04.631Z"
   },
   {
    "duration": 543,
    "start_time": "2022-04-07T08:46:04.642Z"
   },
   {
    "duration": 1415,
    "start_time": "2022-04-07T08:46:05.186Z"
   },
   {
    "duration": 1676,
    "start_time": "2022-04-07T09:16:27.430Z"
   },
   {
    "duration": 34,
    "start_time": "2022-04-07T09:16:29.109Z"
   },
   {
    "duration": 3,
    "start_time": "2022-04-07T09:16:29.144Z"
   },
   {
    "duration": 18,
    "start_time": "2022-04-07T09:16:29.149Z"
   },
   {
    "duration": 12,
    "start_time": "2022-04-07T09:16:29.169Z"
   },
   {
    "duration": 52,
    "start_time": "2022-04-07T09:16:29.183Z"
   },
   {
    "duration": 12,
    "start_time": "2022-04-07T09:16:29.237Z"
   },
   {
    "duration": 3805,
    "start_time": "2022-04-07T09:16:29.251Z"
   },
   {
    "duration": 1580,
    "start_time": "2022-04-07T09:16:33.058Z"
   },
   {
    "duration": 5,
    "start_time": "2022-04-07T09:16:34.641Z"
   },
   {
    "duration": 23,
    "start_time": "2022-04-07T09:16:34.648Z"
   },
   {
    "duration": 4,
    "start_time": "2022-04-07T09:16:34.673Z"
   },
   {
    "duration": 476,
    "start_time": "2022-04-07T09:16:34.679Z"
   },
   {
    "duration": 9,
    "start_time": "2022-04-07T09:16:35.157Z"
   },
   {
    "duration": 572,
    "start_time": "2022-04-07T09:16:35.168Z"
   },
   {
    "duration": 1363,
    "start_time": "2022-04-07T09:16:35.742Z"
   },
   {
    "duration": 96,
    "start_time": "2022-04-07T09:16:37.107Z"
   },
   {
    "duration": 121,
    "start_time": "2022-04-07T09:17:02.452Z"
   },
   {
    "duration": 11,
    "start_time": "2022-04-07T09:17:08.813Z"
   },
   {
    "duration": 9,
    "start_time": "2022-04-07T09:17:13.412Z"
   },
   {
    "duration": 9,
    "start_time": "2022-04-07T09:17:30.464Z"
   },
   {
    "duration": 10,
    "start_time": "2022-04-07T09:18:30.700Z"
   },
   {
    "duration": 4,
    "start_time": "2022-04-07T09:18:37.439Z"
   },
   {
    "duration": 4,
    "start_time": "2022-04-07T09:18:44.301Z"
   },
   {
    "duration": 5,
    "start_time": "2022-04-07T09:18:58.355Z"
   },
   {
    "duration": 4,
    "start_time": "2022-04-07T09:19:33.123Z"
   },
   {
    "duration": 13,
    "start_time": "2022-04-07T09:20:52.316Z"
   },
   {
    "duration": 18,
    "start_time": "2022-04-07T09:20:57.874Z"
   },
   {
    "duration": 19,
    "start_time": "2022-04-07T09:21:05.536Z"
   },
   {
    "duration": 19,
    "start_time": "2022-04-07T09:21:33.473Z"
   },
   {
    "duration": 3,
    "start_time": "2022-04-07T09:37:41.817Z"
   },
   {
    "duration": 3,
    "start_time": "2022-04-07T09:38:16.605Z"
   },
   {
    "duration": 12,
    "start_time": "2022-04-07T09:49:51.678Z"
   },
   {
    "duration": 8,
    "start_time": "2022-04-07T09:50:07.038Z"
   },
   {
    "duration": 743,
    "start_time": "2022-04-07T09:52:28.064Z"
   },
   {
    "duration": 19,
    "start_time": "2022-04-07T09:53:12.575Z"
   },
   {
    "duration": 2351,
    "start_time": "2022-04-07T09:54:00.406Z"
   },
   {
    "duration": 2395,
    "start_time": "2022-04-07T09:55:15.083Z"
   },
   {
    "duration": 8,
    "start_time": "2022-04-07T09:56:25.871Z"
   },
   {
    "duration": 10,
    "start_time": "2022-04-07T09:58:29.657Z"
   },
   {
    "duration": 15,
    "start_time": "2022-04-07T09:58:45.527Z"
   },
   {
    "duration": 18,
    "start_time": "2022-04-07T09:59:03.106Z"
   },
   {
    "duration": 18,
    "start_time": "2022-04-07T09:59:55.299Z"
   },
   {
    "duration": 518,
    "start_time": "2022-04-07T10:00:21.883Z"
   },
   {
    "duration": 878,
    "start_time": "2022-04-07T10:00:54.896Z"
   },
   {
    "duration": 3374,
    "start_time": "2022-04-07T10:03:48.153Z"
   },
   {
    "duration": 3918,
    "start_time": "2022-04-07T10:04:33.333Z"
   },
   {
    "duration": 1748,
    "start_time": "2022-04-07T10:25:18.260Z"
   },
   {
    "duration": 35,
    "start_time": "2022-04-07T10:25:20.011Z"
   },
   {
    "duration": 4,
    "start_time": "2022-04-07T10:25:20.047Z"
   },
   {
    "duration": 20,
    "start_time": "2022-04-07T10:25:20.053Z"
   },
   {
    "duration": 12,
    "start_time": "2022-04-07T10:25:20.075Z"
   },
   {
    "duration": 53,
    "start_time": "2022-04-07T10:25:20.089Z"
   },
   {
    "duration": 12,
    "start_time": "2022-04-07T10:25:20.143Z"
   },
   {
    "duration": 3677,
    "start_time": "2022-04-07T10:25:20.157Z"
   },
   {
    "duration": 1409,
    "start_time": "2022-04-07T10:25:23.837Z"
   },
   {
    "duration": 6,
    "start_time": "2022-04-07T10:25:25.250Z"
   },
   {
    "duration": 17,
    "start_time": "2022-04-07T10:25:25.258Z"
   },
   {
    "duration": 5,
    "start_time": "2022-04-07T10:25:25.277Z"
   },
   {
    "duration": 481,
    "start_time": "2022-04-07T10:25:25.284Z"
   },
   {
    "duration": 11,
    "start_time": "2022-04-07T10:25:25.767Z"
   },
   {
    "duration": 546,
    "start_time": "2022-04-07T10:25:25.780Z"
   },
   {
    "duration": 1373,
    "start_time": "2022-04-07T10:25:26.328Z"
   },
   {
    "duration": 18,
    "start_time": "2022-04-07T10:25:27.704Z"
   },
   {
    "duration": 15,
    "start_time": "2022-04-07T10:25:27.724Z"
   },
   {
    "duration": 20,
    "start_time": "2022-04-07T10:25:27.741Z"
   },
   {
    "duration": 145,
    "start_time": "2022-04-07T10:25:27.763Z"
   },
   {
    "duration": 0,
    "start_time": "2022-04-07T10:25:27.910Z"
   },
   {
    "duration": 4,
    "start_time": "2022-04-07T10:26:52.482Z"
   },
   {
    "duration": 2409,
    "start_time": "2022-04-07T10:27:10.891Z"
   },
   {
    "duration": 23,
    "start_time": "2022-04-07T10:27:37.018Z"
   },
   {
    "duration": 1088,
    "start_time": "2022-04-07T10:27:57.518Z"
   },
   {
    "duration": 12,
    "start_time": "2022-04-07T10:28:22.891Z"
   },
   {
    "duration": 7,
    "start_time": "2022-04-07T10:28:27.593Z"
   },
   {
    "duration": 2285,
    "start_time": "2022-04-07T10:28:57.032Z"
   },
   {
    "duration": 639,
    "start_time": "2022-04-07T10:29:11.484Z"
   },
   {
    "duration": 2332,
    "start_time": "2022-04-07T10:29:15.832Z"
   },
   {
    "duration": 2060,
    "start_time": "2022-04-07T10:29:45.087Z"
   },
   {
    "duration": 10881,
    "start_time": "2022-04-07T10:32:03.333Z"
   },
   {
    "duration": 202,
    "start_time": "2022-04-07T10:32:26.803Z"
   },
   {
    "duration": 2580,
    "start_time": "2022-04-07T10:33:00.761Z"
   },
   {
    "duration": 5,
    "start_time": "2022-04-07T10:33:38.458Z"
   },
   {
    "duration": 7,
    "start_time": "2022-04-07T10:34:54.949Z"
   },
   {
    "duration": 10741,
    "start_time": "2022-04-07T10:35:33.947Z"
   },
   {
    "duration": 2486,
    "start_time": "2022-04-07T10:36:38.881Z"
   },
   {
    "duration": 4333,
    "start_time": "2022-04-07T10:36:45.686Z"
   },
   {
    "duration": 4828,
    "start_time": "2022-04-07T10:37:02.865Z"
   },
   {
    "duration": 153,
    "start_time": "2022-04-07T10:37:12.758Z"
   },
   {
    "duration": 5030,
    "start_time": "2022-04-07T10:37:19.431Z"
   },
   {
    "duration": 5074,
    "start_time": "2022-04-07T10:37:30.651Z"
   },
   {
    "duration": 4576,
    "start_time": "2022-04-07T10:38:16.954Z"
   },
   {
    "duration": 5378,
    "start_time": "2022-04-07T10:39:12.231Z"
   },
   {
    "duration": 2826,
    "start_time": "2022-04-07T10:43:28.273Z"
   },
   {
    "duration": 1747,
    "start_time": "2022-04-07T13:14:47.075Z"
   },
   {
    "duration": 32,
    "start_time": "2022-04-07T13:14:48.825Z"
   },
   {
    "duration": 4,
    "start_time": "2022-04-07T13:14:48.862Z"
   },
   {
    "duration": 12,
    "start_time": "2022-04-07T13:14:48.869Z"
   },
   {
    "duration": 13,
    "start_time": "2022-04-07T13:14:48.902Z"
   },
   {
    "duration": 47,
    "start_time": "2022-04-07T13:14:48.918Z"
   },
   {
    "duration": 39,
    "start_time": "2022-04-07T13:14:48.968Z"
   },
   {
    "duration": 3814,
    "start_time": "2022-04-07T13:14:49.009Z"
   },
   {
    "duration": 1404,
    "start_time": "2022-04-07T13:14:52.826Z"
   },
   {
    "duration": 5,
    "start_time": "2022-04-07T13:14:54.232Z"
   },
   {
    "duration": 36,
    "start_time": "2022-04-07T13:14:54.239Z"
   },
   {
    "duration": 9,
    "start_time": "2022-04-07T13:14:54.277Z"
   },
   {
    "duration": 514,
    "start_time": "2022-04-07T13:14:54.290Z"
   },
   {
    "duration": 11,
    "start_time": "2022-04-07T13:14:54.807Z"
   },
   {
    "duration": 558,
    "start_time": "2022-04-07T13:14:54.820Z"
   },
   {
    "duration": 1521,
    "start_time": "2022-04-07T13:14:55.380Z"
   },
   {
    "duration": 18,
    "start_time": "2022-04-07T13:14:56.904Z"
   },
   {
    "duration": 15,
    "start_time": "2022-04-07T13:14:56.924Z"
   },
   {
    "duration": 27,
    "start_time": "2022-04-07T13:14:56.941Z"
   },
   {
    "duration": 37,
    "start_time": "2022-04-07T13:14:56.970Z"
   },
   {
    "duration": 2855,
    "start_time": "2022-04-07T13:14:57.009Z"
   },
   {
    "duration": 6,
    "start_time": "2022-04-07T13:14:59.866Z"
   },
   {
    "duration": 27,
    "start_time": "2022-04-07T13:14:59.874Z"
   },
   {
    "duration": 3,
    "start_time": "2022-04-07T13:14:59.904Z"
   },
   {
    "duration": 1264,
    "start_time": "2022-04-07T13:17:38.098Z"
   },
   {
    "duration": 449,
    "start_time": "2022-04-07T13:19:39.047Z"
   },
   {
    "duration": 133,
    "start_time": "2022-04-07T13:19:48.701Z"
   },
   {
    "duration": 137,
    "start_time": "2022-04-07T13:19:59.096Z"
   },
   {
    "duration": 247,
    "start_time": "2022-04-07T13:20:08.687Z"
   },
   {
    "duration": 519,
    "start_time": "2022-04-07T13:20:20.290Z"
   },
   {
    "duration": 1957,
    "start_time": "2022-04-07T13:20:51.626Z"
   },
   {
    "duration": 1749,
    "start_time": "2022-04-07T13:21:00.638Z"
   },
   {
    "duration": 34,
    "start_time": "2022-04-07T13:21:02.390Z"
   },
   {
    "duration": 4,
    "start_time": "2022-04-07T13:21:02.426Z"
   },
   {
    "duration": 37,
    "start_time": "2022-04-07T13:21:02.431Z"
   },
   {
    "duration": 19,
    "start_time": "2022-04-07T13:21:02.471Z"
   },
   {
    "duration": 102,
    "start_time": "2022-04-07T13:21:02.492Z"
   },
   {
    "duration": 18,
    "start_time": "2022-04-07T13:21:02.597Z"
   },
   {
    "duration": 4369,
    "start_time": "2022-04-07T13:21:02.617Z"
   },
   {
    "duration": 1630,
    "start_time": "2022-04-07T13:21:06.988Z"
   },
   {
    "duration": 7,
    "start_time": "2022-04-07T13:21:08.620Z"
   },
   {
    "duration": 19,
    "start_time": "2022-04-07T13:21:08.628Z"
   },
   {
    "duration": 8,
    "start_time": "2022-04-07T13:21:08.649Z"
   },
   {
    "duration": 493,
    "start_time": "2022-04-07T13:21:08.659Z"
   },
   {
    "duration": 9,
    "start_time": "2022-04-07T13:21:09.156Z"
   },
   {
    "duration": 538,
    "start_time": "2022-04-07T13:21:09.166Z"
   },
   {
    "duration": 1102,
    "start_time": "2022-04-07T13:21:09.706Z"
   },
   {
    "duration": 104,
    "start_time": "2022-04-07T13:21:10.811Z"
   },
   {
    "duration": 17,
    "start_time": "2022-04-07T13:21:10.917Z"
   },
   {
    "duration": 39,
    "start_time": "2022-04-07T13:21:10.935Z"
   },
   {
    "duration": 31,
    "start_time": "2022-04-07T13:21:10.975Z"
   },
   {
    "duration": 5179,
    "start_time": "2022-04-07T13:21:11.008Z"
   },
   {
    "duration": 383,
    "start_time": "2022-04-07T13:21:16.189Z"
   },
   {
    "duration": 5,
    "start_time": "2022-04-07T13:21:16.574Z"
   },
   {
    "duration": 20,
    "start_time": "2022-04-07T13:21:16.582Z"
   },
   {
    "duration": 4,
    "start_time": "2022-04-07T13:21:16.605Z"
   },
   {
    "duration": 1840,
    "start_time": "2022-04-07T13:21:39.375Z"
   },
   {
    "duration": 1680,
    "start_time": "2022-04-07T13:22:10.324Z"
   },
   {
    "duration": 31,
    "start_time": "2022-04-07T13:22:12.006Z"
   },
   {
    "duration": 3,
    "start_time": "2022-04-07T13:22:12.039Z"
   },
   {
    "duration": 11,
    "start_time": "2022-04-07T13:22:12.045Z"
   },
   {
    "duration": 12,
    "start_time": "2022-04-07T13:22:12.058Z"
   },
   {
    "duration": 60,
    "start_time": "2022-04-07T13:22:12.072Z"
   },
   {
    "duration": 12,
    "start_time": "2022-04-07T13:22:12.134Z"
   },
   {
    "duration": 3874,
    "start_time": "2022-04-07T13:22:12.148Z"
   },
   {
    "duration": 1551,
    "start_time": "2022-04-07T13:22:16.023Z"
   },
   {
    "duration": 6,
    "start_time": "2022-04-07T13:22:17.577Z"
   },
   {
    "duration": 22,
    "start_time": "2022-04-07T13:22:17.585Z"
   },
   {
    "duration": 4,
    "start_time": "2022-04-07T13:22:17.609Z"
   },
   {
    "duration": 505,
    "start_time": "2022-04-07T13:22:17.615Z"
   },
   {
    "duration": 9,
    "start_time": "2022-04-07T13:22:18.122Z"
   },
   {
    "duration": 527,
    "start_time": "2022-04-07T13:22:18.133Z"
   },
   {
    "duration": 1340,
    "start_time": "2022-04-07T13:22:18.662Z"
   },
   {
    "duration": 105,
    "start_time": "2022-04-07T13:22:20.005Z"
   },
   {
    "duration": 16,
    "start_time": "2022-04-07T13:22:20.112Z"
   },
   {
    "duration": 36,
    "start_time": "2022-04-07T13:22:20.130Z"
   },
   {
    "duration": 17,
    "start_time": "2022-04-07T13:22:20.168Z"
   },
   {
    "duration": 4316,
    "start_time": "2022-04-07T13:22:20.187Z"
   },
   {
    "duration": 3,
    "start_time": "2022-04-07T13:22:24.506Z"
   },
   {
    "duration": 9,
    "start_time": "2022-04-07T13:22:24.510Z"
   },
   {
    "duration": 17,
    "start_time": "2022-04-07T13:22:24.521Z"
   },
   {
    "duration": 6,
    "start_time": "2022-04-07T13:22:24.540Z"
   },
   {
    "duration": 2851,
    "start_time": "2022-04-07T13:22:46.978Z"
   },
   {
    "duration": 1856,
    "start_time": "2022-04-07T13:26:23.461Z"
   },
   {
    "duration": 31,
    "start_time": "2022-04-07T13:26:25.320Z"
   },
   {
    "duration": 3,
    "start_time": "2022-04-07T13:26:25.354Z"
   },
   {
    "duration": 19,
    "start_time": "2022-04-07T13:26:25.361Z"
   },
   {
    "duration": 26,
    "start_time": "2022-04-07T13:26:25.383Z"
   },
   {
    "duration": 60,
    "start_time": "2022-04-07T13:26:25.411Z"
   },
   {
    "duration": 29,
    "start_time": "2022-04-07T13:26:25.473Z"
   },
   {
    "duration": 4672,
    "start_time": "2022-04-07T13:26:25.505Z"
   },
   {
    "duration": 1507,
    "start_time": "2022-04-07T13:26:30.179Z"
   },
   {
    "duration": 6,
    "start_time": "2022-04-07T13:26:31.689Z"
   },
   {
    "duration": 23,
    "start_time": "2022-04-07T13:26:31.697Z"
   },
   {
    "duration": 9,
    "start_time": "2022-04-07T13:26:31.722Z"
   },
   {
    "duration": 512,
    "start_time": "2022-04-07T13:26:31.733Z"
   },
   {
    "duration": 10,
    "start_time": "2022-04-07T13:26:32.247Z"
   },
   {
    "duration": 539,
    "start_time": "2022-04-07T13:26:32.259Z"
   },
   {
    "duration": 1308,
    "start_time": "2022-04-07T13:26:32.799Z"
   },
   {
    "duration": 105,
    "start_time": "2022-04-07T13:26:34.109Z"
   },
   {
    "duration": 12,
    "start_time": "2022-04-07T13:26:34.215Z"
   },
   {
    "duration": 2726,
    "start_time": "2022-04-07T13:26:34.229Z"
   },
   {
    "duration": 0,
    "start_time": "2022-04-07T13:26:36.957Z"
   },
   {
    "duration": 0,
    "start_time": "2022-04-07T13:26:36.959Z"
   },
   {
    "duration": 0,
    "start_time": "2022-04-07T13:26:36.961Z"
   },
   {
    "duration": 2627,
    "start_time": "2022-04-07T13:27:05.458Z"
   },
   {
    "duration": 3930,
    "start_time": "2022-04-07T13:27:36.087Z"
   },
   {
    "duration": 3236,
    "start_time": "2022-04-07T13:30:16.157Z"
   },
   {
    "duration": 1750,
    "start_time": "2022-04-07T15:55:05.718Z"
   },
   {
    "duration": 30,
    "start_time": "2022-04-07T15:55:07.470Z"
   },
   {
    "duration": 3,
    "start_time": "2022-04-07T15:55:07.502Z"
   },
   {
    "duration": 33,
    "start_time": "2022-04-07T15:55:07.508Z"
   },
   {
    "duration": 12,
    "start_time": "2022-04-07T15:55:07.543Z"
   },
   {
    "duration": 46,
    "start_time": "2022-04-07T15:55:07.557Z"
   },
   {
    "duration": 12,
    "start_time": "2022-04-07T15:55:07.608Z"
   },
   {
    "duration": 3832,
    "start_time": "2022-04-07T15:55:07.621Z"
   },
   {
    "duration": 1615,
    "start_time": "2022-04-07T15:55:11.454Z"
   },
   {
    "duration": 5,
    "start_time": "2022-04-07T15:55:13.071Z"
   },
   {
    "duration": 16,
    "start_time": "2022-04-07T15:55:13.077Z"
   },
   {
    "duration": 4,
    "start_time": "2022-04-07T15:55:13.095Z"
   },
   {
    "duration": 463,
    "start_time": "2022-04-07T15:55:13.100Z"
   },
   {
    "duration": 9,
    "start_time": "2022-04-07T15:55:13.566Z"
   },
   {
    "duration": 555,
    "start_time": "2022-04-07T15:55:13.577Z"
   },
   {
    "duration": 1476,
    "start_time": "2022-04-07T15:55:14.133Z"
   },
   {
    "duration": 109,
    "start_time": "2022-04-07T15:55:15.612Z"
   },
   {
    "duration": 2930,
    "start_time": "2022-04-07T15:55:15.723Z"
   },
   {
    "duration": 3,
    "start_time": "2022-04-07T15:55:18.655Z"
   },
   {
    "duration": 5,
    "start_time": "2022-04-07T15:55:18.660Z"
   },
   {
    "duration": 2440,
    "start_time": "2022-04-08T07:06:54.077Z"
   },
   {
    "duration": 59,
    "start_time": "2022-04-08T07:06:56.521Z"
   },
   {
    "duration": 4,
    "start_time": "2022-04-08T07:06:56.582Z"
   },
   {
    "duration": 20,
    "start_time": "2022-04-08T07:06:56.589Z"
   },
   {
    "duration": 16,
    "start_time": "2022-04-08T07:06:56.611Z"
   },
   {
    "duration": 91,
    "start_time": "2022-04-08T07:06:56.630Z"
   },
   {
    "duration": 19,
    "start_time": "2022-04-08T07:06:56.724Z"
   },
   {
    "duration": 5643,
    "start_time": "2022-04-08T07:06:56.745Z"
   },
   {
    "duration": 2119,
    "start_time": "2022-04-08T07:07:02.390Z"
   },
   {
    "duration": 7,
    "start_time": "2022-04-08T07:07:04.512Z"
   },
   {
    "duration": 26,
    "start_time": "2022-04-08T07:07:04.521Z"
   },
   {
    "duration": 5,
    "start_time": "2022-04-08T07:07:04.550Z"
   },
   {
    "duration": 654,
    "start_time": "2022-04-08T07:07:04.559Z"
   },
   {
    "duration": 15,
    "start_time": "2022-04-08T07:07:05.215Z"
   },
   {
    "duration": 908,
    "start_time": "2022-04-08T07:07:05.232Z"
   },
   {
    "duration": 1944,
    "start_time": "2022-04-08T07:07:06.142Z"
   },
   {
    "duration": 27,
    "start_time": "2022-04-08T07:07:08.089Z"
   },
   {
    "duration": 4221,
    "start_time": "2022-04-08T07:07:08.119Z"
   },
   {
    "duration": 4,
    "start_time": "2022-04-08T07:07:12.343Z"
   },
   {
    "duration": 7,
    "start_time": "2022-04-08T07:07:12.349Z"
   },
   {
    "duration": 15,
    "start_time": "2022-04-08T07:10:12.754Z"
   },
   {
    "duration": 8,
    "start_time": "2022-04-08T07:10:49.862Z"
   },
   {
    "duration": 6,
    "start_time": "2022-04-08T07:11:19.796Z"
   },
   {
    "duration": 5,
    "start_time": "2022-04-08T07:11:58.313Z"
   },
   {
    "duration": 7,
    "start_time": "2022-04-08T07:13:00.692Z"
   },
   {
    "duration": 7,
    "start_time": "2022-04-08T07:13:14.337Z"
   },
   {
    "duration": 6,
    "start_time": "2022-04-08T07:13:35.145Z"
   },
   {
    "duration": 14,
    "start_time": "2022-04-08T07:18:57.861Z"
   },
   {
    "duration": 4549,
    "start_time": "2022-04-08T07:52:25.367Z"
   },
   {
    "duration": 270,
    "start_time": "2022-04-08T07:54:05.673Z"
   },
   {
    "duration": 25,
    "start_time": "2022-04-08T08:22:02.240Z"
   },
   {
    "duration": 2323,
    "start_time": "2022-04-08T08:22:08.211Z"
   },
   {
    "duration": 40,
    "start_time": "2022-04-08T08:22:10.537Z"
   },
   {
    "duration": 5,
    "start_time": "2022-04-08T08:22:10.579Z"
   },
   {
    "duration": 15,
    "start_time": "2022-04-08T08:22:10.588Z"
   },
   {
    "duration": 16,
    "start_time": "2022-04-08T08:22:10.605Z"
   },
   {
    "duration": 96,
    "start_time": "2022-04-08T08:22:10.623Z"
   },
   {
    "duration": 16,
    "start_time": "2022-04-08T08:22:10.721Z"
   },
   {
    "duration": 5637,
    "start_time": "2022-04-08T08:22:10.739Z"
   },
   {
    "duration": 2051,
    "start_time": "2022-04-08T08:22:16.378Z"
   },
   {
    "duration": 8,
    "start_time": "2022-04-08T08:22:18.433Z"
   },
   {
    "duration": 24,
    "start_time": "2022-04-08T08:22:18.444Z"
   },
   {
    "duration": 6,
    "start_time": "2022-04-08T08:22:18.470Z"
   },
   {
    "duration": 657,
    "start_time": "2022-04-08T08:22:18.478Z"
   },
   {
    "duration": 193,
    "start_time": "2022-04-08T08:22:19.137Z"
   },
   {
    "duration": 0,
    "start_time": "2022-04-08T08:22:19.333Z"
   },
   {
    "duration": 0,
    "start_time": "2022-04-08T08:22:19.335Z"
   },
   {
    "duration": 0,
    "start_time": "2022-04-08T08:22:19.337Z"
   },
   {
    "duration": 0,
    "start_time": "2022-04-08T08:22:19.339Z"
   },
   {
    "duration": 0,
    "start_time": "2022-04-08T08:22:19.341Z"
   },
   {
    "duration": 0,
    "start_time": "2022-04-08T08:22:19.343Z"
   },
   {
    "duration": 24,
    "start_time": "2022-04-08T08:23:59.694Z"
   },
   {
    "duration": 19,
    "start_time": "2022-04-08T08:24:05.782Z"
   },
   {
    "duration": 21,
    "start_time": "2022-04-08T08:24:23.981Z"
   },
   {
    "duration": 20,
    "start_time": "2022-04-08T08:24:41.179Z"
   },
   {
    "duration": 2121,
    "start_time": "2022-04-08T08:24:58.201Z"
   },
   {
    "duration": 39,
    "start_time": "2022-04-08T08:25:00.325Z"
   },
   {
    "duration": 4,
    "start_time": "2022-04-08T08:25:00.367Z"
   },
   {
    "duration": 37,
    "start_time": "2022-04-08T08:25:00.374Z"
   },
   {
    "duration": 23,
    "start_time": "2022-04-08T08:25:00.413Z"
   },
   {
    "duration": 73,
    "start_time": "2022-04-08T08:25:00.438Z"
   },
   {
    "duration": 19,
    "start_time": "2022-04-08T08:25:00.514Z"
   },
   {
    "duration": 5862,
    "start_time": "2022-04-08T08:25:00.536Z"
   },
   {
    "duration": 2108,
    "start_time": "2022-04-08T08:25:06.401Z"
   },
   {
    "duration": 7,
    "start_time": "2022-04-08T08:25:08.513Z"
   },
   {
    "duration": 28,
    "start_time": "2022-04-08T08:25:08.523Z"
   },
   {
    "duration": 5,
    "start_time": "2022-04-08T08:25:08.554Z"
   },
   {
    "duration": 858,
    "start_time": "2022-04-08T08:25:08.562Z"
   },
   {
    "duration": 15,
    "start_time": "2022-04-08T08:25:09.423Z"
   },
   {
    "duration": 1312,
    "start_time": "2022-04-08T08:25:09.440Z"
   },
   {
    "duration": 1531,
    "start_time": "2022-04-08T08:25:10.755Z"
   },
   {
    "duration": 121,
    "start_time": "2022-04-08T08:25:12.289Z"
   },
   {
    "duration": 12,
    "start_time": "2022-04-08T08:25:12.413Z"
   },
   {
    "duration": 4375,
    "start_time": "2022-04-08T08:25:12.427Z"
   },
   {
    "duration": 14,
    "start_time": "2022-04-08T08:25:16.804Z"
   },
   {
    "duration": 7,
    "start_time": "2022-04-08T08:25:30.573Z"
   },
   {
    "duration": 27,
    "start_time": "2022-04-08T08:26:14.197Z"
   },
   {
    "duration": 26,
    "start_time": "2022-04-08T08:26:21.627Z"
   },
   {
    "duration": 2318,
    "start_time": "2022-04-08T08:26:36.069Z"
   },
   {
    "duration": 53,
    "start_time": "2022-04-08T08:26:38.390Z"
   },
   {
    "duration": 6,
    "start_time": "2022-04-08T08:26:38.445Z"
   },
   {
    "duration": 39,
    "start_time": "2022-04-08T08:26:38.454Z"
   },
   {
    "duration": 20,
    "start_time": "2022-04-08T08:26:38.496Z"
   },
   {
    "duration": 105,
    "start_time": "2022-04-08T08:26:38.518Z"
   },
   {
    "duration": 21,
    "start_time": "2022-04-08T08:26:38.625Z"
   },
   {
    "duration": 8339,
    "start_time": "2022-04-08T08:26:38.649Z"
   },
   {
    "duration": 2822,
    "start_time": "2022-04-08T08:26:46.991Z"
   },
   {
    "duration": 9,
    "start_time": "2022-04-08T08:26:49.817Z"
   },
   {
    "duration": 26,
    "start_time": "2022-04-08T08:26:49.828Z"
   },
   {
    "duration": 8,
    "start_time": "2022-04-08T08:26:49.856Z"
   },
   {
    "duration": 674,
    "start_time": "2022-04-08T08:26:49.866Z"
   },
   {
    "duration": 12,
    "start_time": "2022-04-08T08:26:50.542Z"
   },
   {
    "duration": 6,
    "start_time": "2022-04-08T08:26:50.556Z"
   },
   {
    "duration": 801,
    "start_time": "2022-04-08T08:26:50.564Z"
   },
   {
    "duration": 2024,
    "start_time": "2022-04-08T08:26:51.367Z"
   },
   {
    "duration": 26,
    "start_time": "2022-04-08T08:26:53.393Z"
   },
   {
    "duration": 6,
    "start_time": "2022-04-08T08:26:53.421Z"
   },
   {
    "duration": 3761,
    "start_time": "2022-04-08T08:26:53.429Z"
   },
   {
    "duration": 183,
    "start_time": "2022-04-08T08:26:57.192Z"
   },
   {
    "duration": 6,
    "start_time": "2022-04-08T08:27:18.328Z"
   },
   {
    "duration": 2346,
    "start_time": "2022-04-08T08:28:23.882Z"
   },
   {
    "duration": 40,
    "start_time": "2022-04-08T08:28:26.231Z"
   },
   {
    "duration": 4,
    "start_time": "2022-04-08T08:28:26.273Z"
   },
   {
    "duration": 14,
    "start_time": "2022-04-08T08:28:26.283Z"
   },
   {
    "duration": 19,
    "start_time": "2022-04-08T08:28:26.299Z"
   },
   {
    "duration": 113,
    "start_time": "2022-04-08T08:28:26.320Z"
   },
   {
    "duration": 17,
    "start_time": "2022-04-08T08:28:26.436Z"
   },
   {
    "duration": 5731,
    "start_time": "2022-04-08T08:28:26.455Z"
   },
   {
    "duration": 2084,
    "start_time": "2022-04-08T08:28:32.189Z"
   },
   {
    "duration": 7,
    "start_time": "2022-04-08T08:28:34.276Z"
   },
   {
    "duration": 29,
    "start_time": "2022-04-08T08:28:34.285Z"
   },
   {
    "duration": 6,
    "start_time": "2022-04-08T08:28:34.316Z"
   },
   {
    "duration": 644,
    "start_time": "2022-04-08T08:28:34.324Z"
   },
   {
    "duration": 21,
    "start_time": "2022-04-08T08:28:34.970Z"
   },
   {
    "duration": 5,
    "start_time": "2022-04-08T08:28:34.994Z"
   },
   {
    "duration": 800,
    "start_time": "2022-04-08T08:28:35.001Z"
   },
   {
    "duration": 1689,
    "start_time": "2022-04-08T08:28:35.803Z"
   },
   {
    "duration": 27,
    "start_time": "2022-04-08T08:28:37.585Z"
   },
   {
    "duration": 6,
    "start_time": "2022-04-08T08:28:37.614Z"
   },
   {
    "duration": 11,
    "start_time": "2022-04-08T08:28:37.622Z"
   },
   {
    "duration": 4251,
    "start_time": "2022-04-08T08:28:37.635Z"
   },
   {
    "duration": 13,
    "start_time": "2022-04-08T08:28:41.888Z"
   },
   {
    "duration": 6,
    "start_time": "2022-04-08T08:29:02.000Z"
   },
   {
    "duration": 782,
    "start_time": "2022-04-08T08:29:02.576Z"
   },
   {
    "duration": 1667,
    "start_time": "2022-04-08T08:29:04.717Z"
   },
   {
    "duration": 25,
    "start_time": "2022-04-08T08:29:06.387Z"
   },
   {
    "duration": 7,
    "start_time": "2022-04-08T08:29:10.952Z"
   },
   {
    "duration": 7,
    "start_time": "2022-04-08T08:29:11.658Z"
   },
   {
    "duration": 2743,
    "start_time": "2022-04-08T08:29:26.078Z"
   },
   {
    "duration": 51,
    "start_time": "2022-04-08T08:29:28.824Z"
   },
   {
    "duration": 9,
    "start_time": "2022-04-08T08:29:28.877Z"
   },
   {
    "duration": 23,
    "start_time": "2022-04-08T08:29:28.888Z"
   },
   {
    "duration": 16,
    "start_time": "2022-04-08T08:29:28.915Z"
   },
   {
    "duration": 97,
    "start_time": "2022-04-08T08:29:28.934Z"
   },
   {
    "duration": 18,
    "start_time": "2022-04-08T08:29:29.034Z"
   },
   {
    "duration": 5747,
    "start_time": "2022-04-08T08:29:29.055Z"
   },
   {
    "duration": 2069,
    "start_time": "2022-04-08T08:29:34.804Z"
   },
   {
    "duration": 22,
    "start_time": "2022-04-08T08:29:36.876Z"
   },
   {
    "duration": 25,
    "start_time": "2022-04-08T08:29:36.900Z"
   },
   {
    "duration": 7,
    "start_time": "2022-04-08T08:29:36.928Z"
   },
   {
    "duration": 779,
    "start_time": "2022-04-08T08:29:36.937Z"
   },
   {
    "duration": 14,
    "start_time": "2022-04-08T08:29:37.722Z"
   },
   {
    "duration": 7,
    "start_time": "2022-04-08T08:29:37.738Z"
   },
   {
    "duration": 820,
    "start_time": "2022-04-08T08:29:37.748Z"
   },
   {
    "duration": 2017,
    "start_time": "2022-04-08T08:29:38.570Z"
   },
   {
    "duration": 26,
    "start_time": "2022-04-08T08:29:40.589Z"
   },
   {
    "duration": 6,
    "start_time": "2022-04-08T08:29:40.618Z"
   },
   {
    "duration": 8,
    "start_time": "2022-04-08T08:29:40.626Z"
   },
   {
    "duration": 4146,
    "start_time": "2022-04-08T08:29:40.637Z"
   },
   {
    "duration": 185,
    "start_time": "2022-04-08T08:29:44.786Z"
   },
   {
    "duration": 33,
    "start_time": "2022-04-08T08:30:03.421Z"
   },
   {
    "duration": 32,
    "start_time": "2022-04-08T08:30:28.312Z"
   },
   {
    "duration": 7,
    "start_time": "2022-04-08T08:30:43.458Z"
   },
   {
    "duration": 6,
    "start_time": "2022-04-08T08:30:56.146Z"
   },
   {
    "duration": 3872,
    "start_time": "2022-04-08T08:30:59.720Z"
   },
   {
    "duration": 2196,
    "start_time": "2022-04-08T08:31:36.230Z"
   },
   {
    "duration": 41,
    "start_time": "2022-04-08T08:31:38.430Z"
   },
   {
    "duration": 4,
    "start_time": "2022-04-08T08:31:38.474Z"
   },
   {
    "duration": 47,
    "start_time": "2022-04-08T08:31:38.485Z"
   },
   {
    "duration": 36,
    "start_time": "2022-04-08T08:31:38.535Z"
   },
   {
    "duration": 74,
    "start_time": "2022-04-08T08:31:38.573Z"
   },
   {
    "duration": 17,
    "start_time": "2022-04-08T08:31:38.649Z"
   },
   {
    "duration": 5898,
    "start_time": "2022-04-08T08:31:38.685Z"
   },
   {
    "duration": 2150,
    "start_time": "2022-04-08T08:31:44.586Z"
   },
   {
    "duration": 6,
    "start_time": "2022-04-08T08:31:46.740Z"
   },
   {
    "duration": 20,
    "start_time": "2022-04-08T08:31:46.748Z"
   },
   {
    "duration": 13,
    "start_time": "2022-04-08T08:31:46.771Z"
   },
   {
    "duration": 659,
    "start_time": "2022-04-08T08:31:46.786Z"
   },
   {
    "duration": 12,
    "start_time": "2022-04-08T08:31:47.448Z"
   },
   {
    "duration": 22,
    "start_time": "2022-04-08T08:31:47.462Z"
   },
   {
    "duration": 796,
    "start_time": "2022-04-08T08:31:47.487Z"
   },
   {
    "duration": 2001,
    "start_time": "2022-04-08T08:31:48.286Z"
   },
   {
    "duration": 27,
    "start_time": "2022-04-08T08:31:50.289Z"
   },
   {
    "duration": 7,
    "start_time": "2022-04-08T08:31:50.319Z"
   },
   {
    "duration": 8,
    "start_time": "2022-04-08T08:31:50.329Z"
   },
   {
    "duration": 3984,
    "start_time": "2022-04-08T08:31:50.340Z"
   },
   {
    "duration": 188,
    "start_time": "2022-04-08T08:31:54.326Z"
   },
   {
    "duration": 6,
    "start_time": "2022-04-08T08:32:04.557Z"
   },
   {
    "duration": 2212,
    "start_time": "2022-04-08T08:33:04.292Z"
   },
   {
    "duration": 41,
    "start_time": "2022-04-08T08:33:06.507Z"
   },
   {
    "duration": 4,
    "start_time": "2022-04-08T08:33:06.551Z"
   },
   {
    "duration": 32,
    "start_time": "2022-04-08T08:33:06.558Z"
   },
   {
    "duration": 16,
    "start_time": "2022-04-08T08:33:06.593Z"
   },
   {
    "duration": 84,
    "start_time": "2022-04-08T08:33:06.611Z"
   },
   {
    "duration": 19,
    "start_time": "2022-04-08T08:33:06.697Z"
   },
   {
    "duration": 5807,
    "start_time": "2022-04-08T08:33:06.718Z"
   },
   {
    "duration": 2077,
    "start_time": "2022-04-08T08:33:12.527Z"
   },
   {
    "duration": 7,
    "start_time": "2022-04-08T08:33:14.608Z"
   },
   {
    "duration": 23,
    "start_time": "2022-04-08T08:33:14.617Z"
   },
   {
    "duration": 6,
    "start_time": "2022-04-08T08:33:14.642Z"
   },
   {
    "duration": 672,
    "start_time": "2022-04-08T08:33:14.650Z"
   },
   {
    "duration": 124,
    "start_time": "2022-04-08T08:33:15.324Z"
   },
   {
    "duration": 0,
    "start_time": "2022-04-08T08:33:15.451Z"
   },
   {
    "duration": 0,
    "start_time": "2022-04-08T08:33:15.452Z"
   },
   {
    "duration": 0,
    "start_time": "2022-04-08T08:33:15.455Z"
   },
   {
    "duration": 0,
    "start_time": "2022-04-08T08:33:15.456Z"
   },
   {
    "duration": 0,
    "start_time": "2022-04-08T08:33:15.458Z"
   },
   {
    "duration": 0,
    "start_time": "2022-04-08T08:33:15.459Z"
   },
   {
    "duration": 0,
    "start_time": "2022-04-08T08:33:15.461Z"
   },
   {
    "duration": 0,
    "start_time": "2022-04-08T08:33:15.462Z"
   },
   {
    "duration": 6,
    "start_time": "2022-04-08T08:33:24.089Z"
   },
   {
    "duration": 12,
    "start_time": "2022-04-08T08:33:26.134Z"
   },
   {
    "duration": 775,
    "start_time": "2022-04-08T08:33:28.415Z"
   },
   {
    "duration": 1963,
    "start_time": "2022-04-08T08:33:34.521Z"
   },
   {
    "duration": 168,
    "start_time": "2022-04-08T08:33:41.804Z"
   },
   {
    "duration": 23,
    "start_time": "2022-04-08T08:33:46.884Z"
   },
   {
    "duration": 1643,
    "start_time": "2022-04-08T08:34:22.283Z"
   },
   {
    "duration": 6,
    "start_time": "2022-04-08T08:34:27.160Z"
   },
   {
    "duration": 5,
    "start_time": "2022-04-08T08:34:29.719Z"
   },
   {
    "duration": 2239,
    "start_time": "2022-04-08T08:35:19.820Z"
   },
   {
    "duration": 3792,
    "start_time": "2022-04-08T08:36:00.983Z"
   },
   {
    "duration": 7,
    "start_time": "2022-04-08T08:36:10.630Z"
   },
   {
    "duration": 20,
    "start_time": "2022-04-08T08:36:14.567Z"
   },
   {
    "duration": 28,
    "start_time": "2022-04-08T08:37:03.820Z"
   },
   {
    "duration": 14,
    "start_time": "2022-04-08T08:37:11.821Z"
   },
   {
    "duration": 156923,
    "start_time": "2022-04-08T09:12:13.306Z"
   },
   {
    "duration": 68,
    "start_time": "2022-04-08T10:52:23.158Z"
   },
   {
    "duration": 2315,
    "start_time": "2022-04-08T10:52:40.565Z"
   },
   {
    "duration": 40,
    "start_time": "2022-04-08T10:52:42.882Z"
   },
   {
    "duration": 4,
    "start_time": "2022-04-08T10:52:42.925Z"
   },
   {
    "duration": 16,
    "start_time": "2022-04-08T10:52:42.931Z"
   },
   {
    "duration": 34,
    "start_time": "2022-04-08T10:52:42.950Z"
   },
   {
    "duration": 83,
    "start_time": "2022-04-08T10:52:42.986Z"
   },
   {
    "duration": 16,
    "start_time": "2022-04-08T10:52:43.071Z"
   },
   {
    "duration": 5462,
    "start_time": "2022-04-08T10:52:43.089Z"
   },
   {
    "duration": 2042,
    "start_time": "2022-04-08T10:52:48.554Z"
   },
   {
    "duration": 8,
    "start_time": "2022-04-08T10:52:50.599Z"
   },
   {
    "duration": 24,
    "start_time": "2022-04-08T10:52:50.609Z"
   },
   {
    "duration": 6,
    "start_time": "2022-04-08T10:52:50.635Z"
   },
   {
    "duration": 606,
    "start_time": "2022-04-08T10:52:50.643Z"
   },
   {
    "duration": 6,
    "start_time": "2022-04-08T10:52:51.252Z"
   },
   {
    "duration": 18,
    "start_time": "2022-04-08T10:52:51.259Z"
   },
   {
    "duration": 761,
    "start_time": "2022-04-08T10:52:51.279Z"
   },
   {
    "duration": 1733,
    "start_time": "2022-04-08T10:52:52.042Z"
   },
   {
    "duration": 111,
    "start_time": "2022-04-08T10:52:53.777Z"
   },
   {
    "duration": 6,
    "start_time": "2022-04-08T10:52:53.891Z"
   },
   {
    "duration": 3352,
    "start_time": "2022-04-08T10:52:53.899Z"
   },
   {
    "duration": 16,
    "start_time": "2022-04-08T10:52:57.254Z"
   },
   {
    "duration": 14,
    "start_time": "2022-04-08T10:52:57.273Z"
   },
   {
    "duration": 330,
    "start_time": "2022-04-08T10:53:29.825Z"
   },
   {
    "duration": 3383,
    "start_time": "2022-04-08T10:53:33.384Z"
   },
   {
    "duration": 126,
    "start_time": "2022-04-08T10:54:32.177Z"
   },
   {
    "duration": 3203,
    "start_time": "2022-04-08T10:54:35.550Z"
   },
   {
    "duration": 190,
    "start_time": "2022-04-08T10:55:44.349Z"
   },
   {
    "duration": 3403,
    "start_time": "2022-04-08T10:55:48.502Z"
   },
   {
    "duration": 1771,
    "start_time": "2022-04-08T10:55:59.991Z"
   },
   {
    "duration": 3280,
    "start_time": "2022-04-08T10:56:34.888Z"
   },
   {
    "duration": 3157,
    "start_time": "2022-04-08T10:57:23.377Z"
   },
   {
    "duration": 3257,
    "start_time": "2022-04-08T10:57:40.355Z"
   },
   {
    "duration": 3463,
    "start_time": "2022-04-08T11:00:03.995Z"
   },
   {
    "duration": 12611,
    "start_time": "2022-04-08T11:00:24.719Z"
   },
   {
    "duration": 3290,
    "start_time": "2022-04-08T11:00:42.146Z"
   },
   {
    "duration": 3258,
    "start_time": "2022-04-08T11:00:51.540Z"
   },
   {
    "duration": 3827,
    "start_time": "2022-04-08T11:01:06.241Z"
   },
   {
    "duration": 328,
    "start_time": "2022-04-08T11:01:15.249Z"
   },
   {
    "duration": 232,
    "start_time": "2022-04-08T11:01:31.511Z"
   },
   {
    "duration": 227,
    "start_time": "2022-04-08T11:01:36.803Z"
   },
   {
    "duration": 3380,
    "start_time": "2022-04-08T11:01:48.910Z"
   },
   {
    "duration": 3379,
    "start_time": "2022-04-08T11:01:57.029Z"
   },
   {
    "duration": 3443,
    "start_time": "2022-04-08T11:02:02.345Z"
   },
   {
    "duration": 3881,
    "start_time": "2022-04-08T11:04:09.122Z"
   },
   {
    "duration": 6,
    "start_time": "2022-04-08T11:05:01.139Z"
   },
   {
    "duration": 8,
    "start_time": "2022-04-08T11:05:28.344Z"
   },
   {
    "duration": 8,
    "start_time": "2022-04-08T11:06:04.232Z"
   },
   {
    "duration": 7,
    "start_time": "2022-04-08T11:06:19.893Z"
   },
   {
    "duration": 8,
    "start_time": "2022-04-08T11:06:33.331Z"
   },
   {
    "duration": 8,
    "start_time": "2022-04-08T11:06:40.173Z"
   },
   {
    "duration": 8,
    "start_time": "2022-04-08T11:06:45.161Z"
   },
   {
    "duration": 6,
    "start_time": "2022-04-08T11:07:17.793Z"
   },
   {
    "duration": 26,
    "start_time": "2022-04-08T11:08:15.382Z"
   },
   {
    "duration": 14,
    "start_time": "2022-04-08T11:08:36.540Z"
   },
   {
    "duration": 9,
    "start_time": "2022-04-08T11:08:42.567Z"
   },
   {
    "duration": 1895,
    "start_time": "2022-04-08T11:08:52.662Z"
   },
   {
    "duration": 3786,
    "start_time": "2022-04-08T11:09:00.915Z"
   },
   {
    "duration": 3923,
    "start_time": "2022-04-08T11:09:11.339Z"
   },
   {
    "duration": 4108,
    "start_time": "2022-04-08T11:09:25.890Z"
   },
   {
    "duration": 3437,
    "start_time": "2022-04-08T11:09:32.863Z"
   },
   {
    "duration": 3416,
    "start_time": "2022-04-08T11:09:47.029Z"
   },
   {
    "duration": 3362,
    "start_time": "2022-04-08T11:13:54.487Z"
   },
   {
    "duration": 5399,
    "start_time": "2022-04-08T11:14:30.282Z"
   },
   {
    "duration": 4934,
    "start_time": "2022-04-08T11:14:42.443Z"
   },
   {
    "duration": 4086,
    "start_time": "2022-04-08T11:14:53.384Z"
   },
   {
    "duration": 24,
    "start_time": "2022-04-08T11:17:37.452Z"
   },
   {
    "duration": 157369,
    "start_time": "2022-04-08T11:17:57.124Z"
   },
   {
    "duration": 2160,
    "start_time": "2022-04-08T11:34:02.529Z"
   },
   {
    "duration": 46,
    "start_time": "2022-04-08T11:34:04.693Z"
   },
   {
    "duration": 5,
    "start_time": "2022-04-08T11:34:04.742Z"
   },
   {
    "duration": 29,
    "start_time": "2022-04-08T11:34:04.750Z"
   },
   {
    "duration": 16,
    "start_time": "2022-04-08T11:34:04.783Z"
   },
   {
    "duration": 97,
    "start_time": "2022-04-08T11:34:04.801Z"
   },
   {
    "duration": 19,
    "start_time": "2022-04-08T11:34:04.901Z"
   },
   {
    "duration": 7149,
    "start_time": "2022-04-08T11:34:04.923Z"
   },
   {
    "duration": 2002,
    "start_time": "2022-04-08T11:34:12.074Z"
   },
   {
    "duration": 6,
    "start_time": "2022-04-08T11:34:14.079Z"
   },
   {
    "duration": 24,
    "start_time": "2022-04-08T11:34:14.088Z"
   },
   {
    "duration": 5,
    "start_time": "2022-04-08T11:34:14.114Z"
   },
   {
    "duration": 852,
    "start_time": "2022-04-08T11:34:14.121Z"
   },
   {
    "duration": 5,
    "start_time": "2022-04-08T11:34:14.977Z"
   },
   {
    "duration": 15,
    "start_time": "2022-04-08T11:34:14.984Z"
   },
   {
    "duration": 159936,
    "start_time": "2022-04-08T11:34:15.002Z"
   },
   {
    "duration": 1727,
    "start_time": "2022-04-08T11:36:54.941Z"
   },
   {
    "duration": 6,
    "start_time": "2022-04-08T11:36:56.670Z"
   },
   {
    "duration": 18,
    "start_time": "2022-04-08T11:36:56.678Z"
   },
   {
    "duration": 116,
    "start_time": "2022-04-08T11:36:56.698Z"
   },
   {
    "duration": 0,
    "start_time": "2022-04-08T11:36:56.816Z"
   },
   {
    "duration": 0,
    "start_time": "2022-04-08T11:36:56.818Z"
   },
   {
    "duration": 0,
    "start_time": "2022-04-08T11:36:56.820Z"
   },
   {
    "duration": 0,
    "start_time": "2022-04-08T11:36:56.822Z"
   },
   {
    "duration": 26,
    "start_time": "2022-04-08T11:37:02.092Z"
   },
   {
    "duration": 4,
    "start_time": "2022-04-08T11:39:17.314Z"
   },
   {
    "duration": 1716,
    "start_time": "2022-04-08T11:39:34.211Z"
   },
   {
    "duration": 340,
    "start_time": "2022-04-08T11:41:01.050Z"
   },
   {
    "duration": 2933,
    "start_time": "2022-04-08T11:41:16.495Z"
   },
   {
    "duration": 2552,
    "start_time": "2022-04-08T11:42:20.138Z"
   },
   {
    "duration": 2500,
    "start_time": "2022-04-08T11:42:45.844Z"
   },
   {
    "duration": 2737,
    "start_time": "2022-04-08T11:43:25.041Z"
   },
   {
    "duration": 2400,
    "start_time": "2022-04-08T11:43:32.915Z"
   },
   {
    "duration": 2982,
    "start_time": "2022-04-08T11:43:43.481Z"
   },
   {
    "duration": 26,
    "start_time": "2022-04-08T11:44:13.278Z"
   },
   {
    "duration": 23,
    "start_time": "2022-04-08T11:44:58.269Z"
   },
   {
    "duration": 25,
    "start_time": "2022-04-08T11:45:08.149Z"
   },
   {
    "duration": 24,
    "start_time": "2022-04-08T11:45:18.128Z"
   },
   {
    "duration": 3082,
    "start_time": "2022-04-08T11:46:06.770Z"
   },
   {
    "duration": 2978,
    "start_time": "2022-04-08T11:46:15.749Z"
   },
   {
    "duration": 220,
    "start_time": "2022-04-08T11:47:38.052Z"
   },
   {
    "duration": 2162,
    "start_time": "2022-04-08T11:47:48.562Z"
   },
   {
    "duration": 1954,
    "start_time": "2022-04-08T11:48:24.942Z"
   },
   {
    "duration": 2654,
    "start_time": "2022-04-08T11:48:28.909Z"
   },
   {
    "duration": 472,
    "start_time": "2022-04-08T11:49:05.478Z"
   },
   {
    "duration": 23,
    "start_time": "2022-04-08T11:49:42.549Z"
   },
   {
    "duration": 388,
    "start_time": "2022-04-08T11:49:55.883Z"
   },
   {
    "duration": 432,
    "start_time": "2022-04-08T11:51:36.108Z"
   },
   {
    "duration": 36,
    "start_time": "2022-04-08T11:51:43.853Z"
   },
   {
    "duration": 3682,
    "start_time": "2022-04-08T11:52:00.401Z"
   },
   {
    "duration": 420,
    "start_time": "2022-04-08T11:52:29.454Z"
   },
   {
    "duration": 3752,
    "start_time": "2022-04-08T11:52:37.824Z"
   },
   {
    "duration": 1444,
    "start_time": "2022-04-08T11:53:16.516Z"
   },
   {
    "duration": 1332,
    "start_time": "2022-04-08T11:54:04.951Z"
   },
   {
    "duration": 2065,
    "start_time": "2022-04-08T11:55:59.954Z"
   },
   {
    "duration": 39,
    "start_time": "2022-04-08T11:56:02.022Z"
   },
   {
    "duration": 4,
    "start_time": "2022-04-08T11:56:02.064Z"
   },
   {
    "duration": 21,
    "start_time": "2022-04-08T11:56:02.072Z"
   },
   {
    "duration": 17,
    "start_time": "2022-04-08T11:56:02.096Z"
   },
   {
    "duration": 97,
    "start_time": "2022-04-08T11:56:02.116Z"
   },
   {
    "duration": 15,
    "start_time": "2022-04-08T11:56:02.216Z"
   },
   {
    "duration": 5621,
    "start_time": "2022-04-08T11:56:02.233Z"
   },
   {
    "duration": 1976,
    "start_time": "2022-04-08T11:56:07.856Z"
   },
   {
    "duration": 7,
    "start_time": "2022-04-08T11:56:09.836Z"
   },
   {
    "duration": 22,
    "start_time": "2022-04-08T11:56:09.845Z"
   },
   {
    "duration": 5,
    "start_time": "2022-04-08T11:56:09.869Z"
   },
   {
    "duration": 608,
    "start_time": "2022-04-08T11:56:09.876Z"
   },
   {
    "duration": 5,
    "start_time": "2022-04-08T11:56:10.487Z"
   },
   {
    "duration": 17,
    "start_time": "2022-04-08T11:56:10.495Z"
   },
   {
    "duration": 150588,
    "start_time": "2022-04-08T11:56:10.514Z"
   },
   {
    "duration": 1572,
    "start_time": "2022-04-08T11:58:41.104Z"
   },
   {
    "duration": 26,
    "start_time": "2022-04-08T11:58:42.769Z"
   },
   {
    "duration": 14,
    "start_time": "2022-04-08T11:58:42.797Z"
   },
   {
    "duration": 6,
    "start_time": "2022-04-08T11:58:42.814Z"
   },
   {
    "duration": 1896,
    "start_time": "2022-04-08T11:58:42.822Z"
   },
   {
    "duration": 1638,
    "start_time": "2022-04-08T11:58:44.720Z"
   },
   {
    "duration": 13,
    "start_time": "2022-04-08T11:58:46.368Z"
   },
   {
    "duration": 2057,
    "start_time": "2022-04-08T13:18:16.022Z"
   },
   {
    "duration": 38,
    "start_time": "2022-04-08T13:18:18.082Z"
   },
   {
    "duration": 4,
    "start_time": "2022-04-08T13:18:18.122Z"
   },
   {
    "duration": 16,
    "start_time": "2022-04-08T13:18:18.128Z"
   },
   {
    "duration": 30,
    "start_time": "2022-04-08T13:18:18.148Z"
   },
   {
    "duration": 61,
    "start_time": "2022-04-08T13:18:18.180Z"
   },
   {
    "duration": 35,
    "start_time": "2022-04-08T13:18:18.244Z"
   },
   {
    "duration": 5459,
    "start_time": "2022-04-08T13:18:18.282Z"
   },
   {
    "duration": 2037,
    "start_time": "2022-04-08T13:18:23.743Z"
   },
   {
    "duration": 7,
    "start_time": "2022-04-08T13:18:25.782Z"
   },
   {
    "duration": 23,
    "start_time": "2022-04-08T13:18:25.791Z"
   },
   {
    "duration": 5,
    "start_time": "2022-04-08T13:18:25.816Z"
   },
   {
    "duration": 627,
    "start_time": "2022-04-08T13:18:25.823Z"
   },
   {
    "duration": 14,
    "start_time": "2022-04-08T13:18:26.453Z"
   },
   {
    "duration": 14,
    "start_time": "2022-04-08T13:18:26.469Z"
   },
   {
    "duration": 766,
    "start_time": "2022-04-08T13:18:26.485Z"
   },
   {
    "duration": 1522,
    "start_time": "2022-04-08T13:18:27.253Z"
   },
   {
    "duration": 110,
    "start_time": "2022-04-08T13:18:28.777Z"
   },
   {
    "duration": 18,
    "start_time": "2022-04-08T13:18:28.889Z"
   },
   {
    "duration": 4,
    "start_time": "2022-04-08T13:18:28.909Z"
   },
   {
    "duration": 1736,
    "start_time": "2022-04-08T13:18:28.915Z"
   },
   {
    "duration": 1388,
    "start_time": "2022-04-08T13:18:30.653Z"
   },
   {
    "duration": 25,
    "start_time": "2022-04-08T13:18:32.044Z"
   },
   {
    "duration": 2172,
    "start_time": "2022-04-08T13:26:40.661Z"
   },
   {
    "duration": 1934,
    "start_time": "2022-04-08T13:34:53.895Z"
   },
   {
    "duration": 41,
    "start_time": "2022-04-08T13:34:55.832Z"
   },
   {
    "duration": 4,
    "start_time": "2022-04-08T13:34:55.878Z"
   },
   {
    "duration": 15,
    "start_time": "2022-04-08T13:34:55.886Z"
   },
   {
    "duration": 17,
    "start_time": "2022-04-08T13:34:55.903Z"
   },
   {
    "duration": 104,
    "start_time": "2022-04-08T13:34:55.923Z"
   },
   {
    "duration": 40,
    "start_time": "2022-04-08T13:34:56.029Z"
   },
   {
    "duration": 4,
    "start_time": "2022-04-08T13:34:56.071Z"
   },
   {
    "duration": 2181,
    "start_time": "2022-04-08T13:34:56.078Z"
   },
   {
    "duration": 1943,
    "start_time": "2022-04-08T13:34:58.261Z"
   },
   {
    "duration": 7,
    "start_time": "2022-04-08T13:35:00.207Z"
   },
   {
    "duration": 29,
    "start_time": "2022-04-08T13:35:00.216Z"
   },
   {
    "duration": 6,
    "start_time": "2022-04-08T13:35:00.251Z"
   },
   {
    "duration": 526,
    "start_time": "2022-04-08T13:35:00.260Z"
   },
   {
    "duration": 6,
    "start_time": "2022-04-08T13:35:00.789Z"
   },
   {
    "duration": 29,
    "start_time": "2022-04-08T13:35:00.798Z"
   },
   {
    "duration": 789,
    "start_time": "2022-04-08T13:35:00.830Z"
   },
   {
    "duration": 1655,
    "start_time": "2022-04-08T13:35:01.621Z"
   },
   {
    "duration": 27,
    "start_time": "2022-04-08T13:35:03.369Z"
   },
   {
    "duration": 15,
    "start_time": "2022-04-08T13:35:03.399Z"
   },
   {
    "duration": 1894,
    "start_time": "2022-04-08T13:35:03.416Z"
   },
   {
    "duration": 1409,
    "start_time": "2022-04-08T13:35:05.312Z"
   },
   {
    "duration": 13,
    "start_time": "2022-04-08T13:35:06.724Z"
   },
   {
    "duration": 1501,
    "start_time": "2022-04-08T13:42:43.870Z"
   },
   {
    "duration": 2005,
    "start_time": "2022-04-08T14:15:32.440Z"
   },
   {
    "duration": 37,
    "start_time": "2022-04-08T14:15:34.448Z"
   },
   {
    "duration": 5,
    "start_time": "2022-04-08T14:15:34.488Z"
   },
   {
    "duration": 15,
    "start_time": "2022-04-08T14:15:34.497Z"
   },
   {
    "duration": 16,
    "start_time": "2022-04-08T14:15:34.514Z"
   },
   {
    "duration": 61,
    "start_time": "2022-04-08T14:15:34.568Z"
   },
   {
    "duration": 38,
    "start_time": "2022-04-08T14:15:34.632Z"
   },
   {
    "duration": 124,
    "start_time": "2022-04-08T14:15:34.673Z"
   },
   {
    "duration": 0,
    "start_time": "2022-04-08T14:15:34.801Z"
   },
   {
    "duration": 0,
    "start_time": "2022-04-08T14:15:34.803Z"
   },
   {
    "duration": 0,
    "start_time": "2022-04-08T14:15:34.805Z"
   },
   {
    "duration": 0,
    "start_time": "2022-04-08T14:15:34.807Z"
   },
   {
    "duration": 0,
    "start_time": "2022-04-08T14:15:34.808Z"
   },
   {
    "duration": 0,
    "start_time": "2022-04-08T14:15:34.811Z"
   },
   {
    "duration": 0,
    "start_time": "2022-04-08T14:15:34.813Z"
   },
   {
    "duration": 0,
    "start_time": "2022-04-08T14:15:34.814Z"
   },
   {
    "duration": 0,
    "start_time": "2022-04-08T14:15:34.817Z"
   },
   {
    "duration": 0,
    "start_time": "2022-04-08T14:15:34.819Z"
   },
   {
    "duration": 0,
    "start_time": "2022-04-08T14:15:34.821Z"
   },
   {
    "duration": 0,
    "start_time": "2022-04-08T14:15:34.823Z"
   },
   {
    "duration": 0,
    "start_time": "2022-04-08T14:15:34.825Z"
   },
   {
    "duration": 0,
    "start_time": "2022-04-08T14:15:34.827Z"
   },
   {
    "duration": 0,
    "start_time": "2022-04-08T14:15:34.830Z"
   },
   {
    "duration": 0,
    "start_time": "2022-04-08T14:15:34.832Z"
   },
   {
    "duration": 4,
    "start_time": "2022-04-08T14:15:42.390Z"
   },
   {
    "duration": 167,
    "start_time": "2022-04-08T14:15:45.013Z"
   },
   {
    "duration": 2102,
    "start_time": "2022-04-08T14:15:50.514Z"
   },
   {
    "duration": 179,
    "start_time": "2022-04-08T14:15:53.806Z"
   },
   {
    "duration": 1960,
    "start_time": "2022-04-08T14:17:34.182Z"
   },
   {
    "duration": 41,
    "start_time": "2022-04-08T14:17:36.144Z"
   },
   {
    "duration": 5,
    "start_time": "2022-04-08T14:17:36.187Z"
   },
   {
    "duration": 20,
    "start_time": "2022-04-08T14:17:36.195Z"
   },
   {
    "duration": 14,
    "start_time": "2022-04-08T14:17:36.217Z"
   },
   {
    "duration": 85,
    "start_time": "2022-04-08T14:17:36.234Z"
   },
   {
    "duration": 17,
    "start_time": "2022-04-08T14:17:36.322Z"
   },
   {
    "duration": 111,
    "start_time": "2022-04-08T14:17:36.341Z"
   },
   {
    "duration": 0,
    "start_time": "2022-04-08T14:17:36.456Z"
   },
   {
    "duration": 0,
    "start_time": "2022-04-08T14:17:36.458Z"
   },
   {
    "duration": 0,
    "start_time": "2022-04-08T14:17:36.460Z"
   },
   {
    "duration": 0,
    "start_time": "2022-04-08T14:17:36.462Z"
   },
   {
    "duration": 0,
    "start_time": "2022-04-08T14:17:36.464Z"
   },
   {
    "duration": 0,
    "start_time": "2022-04-08T14:17:36.467Z"
   },
   {
    "duration": 0,
    "start_time": "2022-04-08T14:17:36.468Z"
   },
   {
    "duration": 0,
    "start_time": "2022-04-08T14:17:36.471Z"
   },
   {
    "duration": 0,
    "start_time": "2022-04-08T14:17:36.473Z"
   },
   {
    "duration": 0,
    "start_time": "2022-04-08T14:17:36.475Z"
   },
   {
    "duration": 0,
    "start_time": "2022-04-08T14:17:36.477Z"
   },
   {
    "duration": 0,
    "start_time": "2022-04-08T14:17:36.479Z"
   },
   {
    "duration": 0,
    "start_time": "2022-04-08T14:17:36.481Z"
   },
   {
    "duration": 0,
    "start_time": "2022-04-08T14:17:36.483Z"
   },
   {
    "duration": 0,
    "start_time": "2022-04-08T14:17:36.485Z"
   },
   {
    "duration": 0,
    "start_time": "2022-04-08T14:17:36.487Z"
   },
   {
    "duration": 4,
    "start_time": "2022-04-08T14:18:06.719Z"
   },
   {
    "duration": 2126,
    "start_time": "2022-04-08T14:18:15.491Z"
   },
   {
    "duration": 1385,
    "start_time": "2022-04-08T14:18:19.892Z"
   },
   {
    "duration": 1208,
    "start_time": "2022-04-08T14:18:37.796Z"
   },
   {
    "duration": 1224,
    "start_time": "2022-04-08T14:18:43.313Z"
   },
   {
    "duration": 1329,
    "start_time": "2022-04-08T14:19:42.343Z"
   },
   {
    "duration": 1237,
    "start_time": "2022-04-08T14:20:00.231Z"
   },
   {
    "duration": 1281,
    "start_time": "2022-04-08T14:20:09.423Z"
   },
   {
    "duration": 1594,
    "start_time": "2022-04-08T14:20:44.663Z"
   },
   {
    "duration": 1300,
    "start_time": "2022-04-08T14:20:59.152Z"
   },
   {
    "duration": 28,
    "start_time": "2022-04-08T14:23:56.471Z"
   },
   {
    "duration": 1201,
    "start_time": "2022-04-08T14:24:33.866Z"
   },
   {
    "duration": 1234,
    "start_time": "2022-04-08T14:25:36.214Z"
   },
   {
    "duration": 1587,
    "start_time": "2022-04-08T14:25:53.003Z"
   },
   {
    "duration": 1189,
    "start_time": "2022-04-08T14:31:27.735Z"
   },
   {
    "duration": 1271,
    "start_time": "2022-04-08T14:32:20.903Z"
   },
   {
    "duration": 1680,
    "start_time": "2022-04-08T14:33:13.190Z"
   },
   {
    "duration": 1745,
    "start_time": "2022-04-08T14:33:40.806Z"
   },
   {
    "duration": 847,
    "start_time": "2022-04-08T14:33:52.601Z"
   },
   {
    "duration": 1660,
    "start_time": "2022-04-08T14:34:05.264Z"
   },
   {
    "duration": 1562,
    "start_time": "2022-04-08T14:34:12.209Z"
   },
   {
    "duration": 1660,
    "start_time": "2022-04-08T14:34:32.990Z"
   },
   {
    "duration": 1313,
    "start_time": "2022-04-08T14:34:38.356Z"
   },
   {
    "duration": 1646,
    "start_time": "2022-04-08T14:35:18.637Z"
   },
   {
    "duration": 1580,
    "start_time": "2022-04-08T14:35:29.009Z"
   },
   {
    "duration": 1555,
    "start_time": "2022-04-08T14:35:36.745Z"
   },
   {
    "duration": 1662,
    "start_time": "2022-04-08T14:35:41.200Z"
   },
   {
    "duration": 1588,
    "start_time": "2022-04-08T14:36:56.452Z"
   },
   {
    "duration": 3432,
    "start_time": "2022-04-08T14:37:30.040Z"
   },
   {
    "duration": 180,
    "start_time": "2022-04-08T14:39:34.025Z"
   },
   {
    "duration": 18,
    "start_time": "2022-04-08T14:39:41.477Z"
   },
   {
    "duration": 1271,
    "start_time": "2022-04-08T14:39:50.690Z"
   },
   {
    "duration": 1357,
    "start_time": "2022-04-08T14:40:03.968Z"
   },
   {
    "duration": 1045,
    "start_time": "2022-04-08T14:40:37.183Z"
   },
   {
    "duration": 1288,
    "start_time": "2022-04-08T14:41:58.007Z"
   },
   {
    "duration": 1476,
    "start_time": "2022-04-08T14:42:01.906Z"
   },
   {
    "duration": 241,
    "start_time": "2022-04-08T14:42:25.513Z"
   },
   {
    "duration": 19,
    "start_time": "2022-04-08T14:46:35.735Z"
   },
   {
    "duration": 28,
    "start_time": "2022-04-08T14:46:52.407Z"
   },
   {
    "duration": 18,
    "start_time": "2022-04-08T14:47:38.728Z"
   },
   {
    "duration": 25,
    "start_time": "2022-04-08T14:47:45.403Z"
   },
   {
    "duration": 24,
    "start_time": "2022-04-08T14:48:10.899Z"
   },
   {
    "duration": 31,
    "start_time": "2022-04-08T14:48:21.790Z"
   },
   {
    "duration": 230,
    "start_time": "2022-04-08T14:49:00.325Z"
   },
   {
    "duration": 183,
    "start_time": "2022-04-08T14:49:14.339Z"
   },
   {
    "duration": 1136,
    "start_time": "2022-04-08T14:49:19.538Z"
   },
   {
    "duration": 408,
    "start_time": "2022-04-08T14:51:47.511Z"
   },
   {
    "duration": 2349,
    "start_time": "2022-04-08T14:52:10.181Z"
   },
   {
    "duration": 968,
    "start_time": "2022-04-08T14:56:01.437Z"
   },
   {
    "duration": 1073,
    "start_time": "2022-04-08T14:56:08.779Z"
   },
   {
    "duration": 117,
    "start_time": "2022-04-08T14:56:38.418Z"
   },
   {
    "duration": 1024,
    "start_time": "2022-04-08T14:56:43.435Z"
   },
   {
    "duration": 1966,
    "start_time": "2022-04-08T14:58:06.415Z"
   },
   {
    "duration": 1891,
    "start_time": "2022-04-09T09:04:43.806Z"
   },
   {
    "duration": 44,
    "start_time": "2022-04-09T09:04:45.699Z"
   },
   {
    "duration": 3,
    "start_time": "2022-04-09T09:04:45.745Z"
   },
   {
    "duration": 11,
    "start_time": "2022-04-09T09:04:45.749Z"
   },
   {
    "duration": 10,
    "start_time": "2022-04-09T09:04:45.763Z"
   },
   {
    "duration": 51,
    "start_time": "2022-04-09T09:04:45.775Z"
   },
   {
    "duration": 10,
    "start_time": "2022-04-09T09:04:45.828Z"
   },
   {
    "duration": 3,
    "start_time": "2022-04-09T09:04:45.839Z"
   },
   {
    "duration": 1313,
    "start_time": "2022-04-09T09:04:45.844Z"
   },
   {
    "duration": 769,
    "start_time": "2022-04-09T09:04:47.159Z"
   },
   {
    "duration": 695,
    "start_time": "2022-04-09T09:04:47.930Z"
   },
   {
    "duration": 503,
    "start_time": "2022-04-09T09:04:48.627Z"
   },
   {
    "duration": 1390,
    "start_time": "2022-04-09T09:04:49.132Z"
   },
   {
    "duration": 6,
    "start_time": "2022-04-09T09:04:50.526Z"
   },
   {
    "duration": 16,
    "start_time": "2022-04-09T09:04:50.533Z"
   },
   {
    "duration": 3,
    "start_time": "2022-04-09T09:04:50.551Z"
   },
   {
    "duration": 460,
    "start_time": "2022-04-09T09:04:50.556Z"
   },
   {
    "duration": 4,
    "start_time": "2022-04-09T09:04:51.018Z"
   },
   {
    "duration": 8,
    "start_time": "2022-04-09T09:04:51.024Z"
   },
   {
    "duration": 517,
    "start_time": "2022-04-09T09:04:51.034Z"
   },
   {
    "duration": 1153,
    "start_time": "2022-04-09T09:04:51.552Z"
   },
   {
    "duration": 104,
    "start_time": "2022-04-09T09:04:52.707Z"
   },
   {
    "duration": 10,
    "start_time": "2022-04-09T09:04:52.813Z"
   },
   {
    "duration": 1229,
    "start_time": "2022-04-09T09:04:52.824Z"
   },
   {
    "duration": 769,
    "start_time": "2022-04-09T09:04:54.055Z"
   },
   {
    "duration": 10,
    "start_time": "2022-04-09T09:04:54.826Z"
   },
   {
    "duration": 1793,
    "start_time": "2022-04-09T09:15:53.726Z"
   },
   {
    "duration": 45,
    "start_time": "2022-04-09T09:15:55.522Z"
   },
   {
    "duration": 3,
    "start_time": "2022-04-09T09:15:55.570Z"
   },
   {
    "duration": 11,
    "start_time": "2022-04-09T09:15:55.576Z"
   },
   {
    "duration": 13,
    "start_time": "2022-04-09T09:15:55.588Z"
   },
   {
    "duration": 49,
    "start_time": "2022-04-09T09:15:55.604Z"
   },
   {
    "duration": 14,
    "start_time": "2022-04-09T09:15:55.655Z"
   },
   {
    "duration": 32,
    "start_time": "2022-04-09T09:15:55.671Z"
   },
   {
    "duration": 2451,
    "start_time": "2022-04-09T09:15:55.705Z"
   },
   {
    "duration": 1712,
    "start_time": "2022-04-09T09:17:40.281Z"
   },
   {
    "duration": 43,
    "start_time": "2022-04-09T09:17:41.995Z"
   },
   {
    "duration": 3,
    "start_time": "2022-04-09T09:17:42.040Z"
   },
   {
    "duration": 25,
    "start_time": "2022-04-09T09:17:42.044Z"
   },
   {
    "duration": 28,
    "start_time": "2022-04-09T09:17:42.071Z"
   },
   {
    "duration": 37,
    "start_time": "2022-04-09T09:17:42.100Z"
   },
   {
    "duration": 10,
    "start_time": "2022-04-09T09:17:42.138Z"
   },
   {
    "duration": 20,
    "start_time": "2022-04-09T09:17:42.150Z"
   },
   {
    "duration": 2115,
    "start_time": "2022-04-09T09:17:42.172Z"
   },
   {
    "duration": 124,
    "start_time": "2022-04-09T09:17:44.289Z"
   },
   {
    "duration": 0,
    "start_time": "2022-04-09T09:17:44.415Z"
   },
   {
    "duration": 0,
    "start_time": "2022-04-09T09:17:44.417Z"
   },
   {
    "duration": 0,
    "start_time": "2022-04-09T09:17:44.418Z"
   },
   {
    "duration": 0,
    "start_time": "2022-04-09T09:17:44.419Z"
   },
   {
    "duration": 0,
    "start_time": "2022-04-09T09:17:44.420Z"
   },
   {
    "duration": 0,
    "start_time": "2022-04-09T09:17:44.421Z"
   },
   {
    "duration": 0,
    "start_time": "2022-04-09T09:17:44.422Z"
   },
   {
    "duration": 0,
    "start_time": "2022-04-09T09:17:44.423Z"
   },
   {
    "duration": 0,
    "start_time": "2022-04-09T09:17:44.424Z"
   },
   {
    "duration": 0,
    "start_time": "2022-04-09T09:17:44.425Z"
   },
   {
    "duration": 0,
    "start_time": "2022-04-09T09:17:44.426Z"
   },
   {
    "duration": 0,
    "start_time": "2022-04-09T09:17:44.427Z"
   },
   {
    "duration": 0,
    "start_time": "2022-04-09T09:17:44.428Z"
   },
   {
    "duration": 0,
    "start_time": "2022-04-09T09:17:44.429Z"
   },
   {
    "duration": 0,
    "start_time": "2022-04-09T09:17:44.430Z"
   },
   {
    "duration": 12,
    "start_time": "2022-04-09T09:17:59.209Z"
   },
   {
    "duration": 706,
    "start_time": "2022-04-09T09:18:12.439Z"
   },
   {
    "duration": 1353,
    "start_time": "2022-04-09T09:18:19.785Z"
   },
   {
    "duration": 12,
    "start_time": "2022-04-09T09:19:06.918Z"
   },
   {
    "duration": 993,
    "start_time": "2022-04-09T09:19:13.588Z"
   },
   {
    "duration": 1253,
    "start_time": "2022-04-09T09:19:46.199Z"
   },
   {
    "duration": 1450,
    "start_time": "2022-04-09T09:20:02.542Z"
   },
   {
    "duration": 1455,
    "start_time": "2022-04-09T09:20:07.146Z"
   },
   {
    "duration": 1494,
    "start_time": "2022-04-09T09:20:43.898Z"
   },
   {
    "duration": 5,
    "start_time": "2022-04-09T09:21:05.027Z"
   },
   {
    "duration": 14,
    "start_time": "2022-04-09T09:21:09.242Z"
   },
   {
    "duration": 5,
    "start_time": "2022-04-09T09:21:12.152Z"
   },
   {
    "duration": 347,
    "start_time": "2022-04-09T09:21:18.989Z"
   },
   {
    "duration": 3,
    "start_time": "2022-04-09T09:21:23.673Z"
   },
   {
    "duration": 8,
    "start_time": "2022-04-09T09:21:43.298Z"
   },
   {
    "duration": 1464,
    "start_time": "2022-04-09T09:21:56.837Z"
   },
   {
    "duration": 17,
    "start_time": "2022-04-09T09:22:03.574Z"
   },
   {
    "duration": 10,
    "start_time": "2022-04-09T09:22:29.300Z"
   },
   {
    "duration": 1269,
    "start_time": "2022-04-09T09:22:33.386Z"
   },
   {
    "duration": 862,
    "start_time": "2022-04-09T09:22:39.417Z"
   },
   {
    "duration": 10,
    "start_time": "2022-04-09T09:23:09.446Z"
   },
   {
    "duration": 2451,
    "start_time": "2022-04-09T18:01:57.817Z"
   },
   {
    "duration": 45,
    "start_time": "2022-04-09T18:02:00.270Z"
   },
   {
    "duration": 5,
    "start_time": "2022-04-09T18:02:00.317Z"
   },
   {
    "duration": 18,
    "start_time": "2022-04-09T18:02:00.325Z"
   },
   {
    "duration": 17,
    "start_time": "2022-04-09T18:02:00.345Z"
   },
   {
    "duration": 63,
    "start_time": "2022-04-09T18:02:00.385Z"
   },
   {
    "duration": 44,
    "start_time": "2022-04-09T18:02:00.450Z"
   },
   {
    "duration": 4,
    "start_time": "2022-04-09T18:02:00.497Z"
   },
   {
    "duration": 2501,
    "start_time": "2022-04-09T18:02:00.503Z"
   },
   {
    "duration": 1166,
    "start_time": "2022-04-09T18:02:03.007Z"
   },
   {
    "duration": 2185,
    "start_time": "2022-04-09T18:02:04.175Z"
   },
   {
    "duration": 7,
    "start_time": "2022-04-09T18:02:06.363Z"
   },
   {
    "duration": 26,
    "start_time": "2022-04-09T18:02:06.372Z"
   },
   {
    "duration": 6,
    "start_time": "2022-04-09T18:02:06.400Z"
   },
   {
    "duration": 553,
    "start_time": "2022-04-09T18:02:06.408Z"
   },
   {
    "duration": 21,
    "start_time": "2022-04-09T18:02:06.963Z"
   },
   {
    "duration": 800,
    "start_time": "2022-04-09T18:02:06.986Z"
   },
   {
    "duration": 1696,
    "start_time": "2022-04-09T18:02:07.788Z"
   },
   {
    "duration": 26,
    "start_time": "2022-04-09T18:02:09.486Z"
   },
   {
    "duration": 2230,
    "start_time": "2022-04-09T18:02:09.514Z"
   },
   {
    "duration": 1334,
    "start_time": "2022-04-09T18:02:11.747Z"
   },
   {
    "duration": 14,
    "start_time": "2022-04-09T18:02:13.084Z"
   },
   {
    "duration": 3068,
    "start_time": "2022-04-09T18:28:47.736Z"
   },
   {
    "duration": 46,
    "start_time": "2022-04-09T18:28:50.807Z"
   },
   {
    "duration": 5,
    "start_time": "2022-04-09T18:28:50.856Z"
   },
   {
    "duration": 25,
    "start_time": "2022-04-09T18:28:50.865Z"
   },
   {
    "duration": 15,
    "start_time": "2022-04-09T18:28:50.892Z"
   },
   {
    "duration": 84,
    "start_time": "2022-04-09T18:28:50.909Z"
   },
   {
    "duration": 16,
    "start_time": "2022-04-09T18:28:50.995Z"
   },
   {
    "duration": 4,
    "start_time": "2022-04-09T18:28:51.013Z"
   },
   {
    "duration": 2582,
    "start_time": "2022-04-09T18:28:51.019Z"
   },
   {
    "duration": 1141,
    "start_time": "2022-04-09T18:28:53.605Z"
   },
   {
    "duration": 2132,
    "start_time": "2022-04-09T18:28:54.748Z"
   },
   {
    "duration": 7,
    "start_time": "2022-04-09T18:28:56.883Z"
   },
   {
    "duration": 23,
    "start_time": "2022-04-09T18:28:56.892Z"
   },
   {
    "duration": 5,
    "start_time": "2022-04-09T18:28:56.917Z"
   },
   {
    "duration": 562,
    "start_time": "2022-04-09T18:28:56.924Z"
   },
   {
    "duration": 12,
    "start_time": "2022-04-09T18:28:57.489Z"
   },
   {
    "duration": 167610,
    "start_time": "2022-04-09T18:28:57.503Z"
   },
   {
    "duration": 1668,
    "start_time": "2022-04-09T18:31:45.116Z"
   },
   {
    "duration": 27,
    "start_time": "2022-04-09T18:31:46.786Z"
   },
   {
    "duration": 2187,
    "start_time": "2022-04-09T18:31:46.816Z"
   },
   {
    "duration": 1291,
    "start_time": "2022-04-09T18:31:49.006Z"
   },
   {
    "duration": 16,
    "start_time": "2022-04-09T18:31:50.300Z"
   },
   {
    "duration": 2137,
    "start_time": "2022-04-10T08:27:05.926Z"
   },
   {
    "duration": 9,
    "start_time": "2022-04-10T08:35:27.987Z"
   },
   {
    "duration": 42,
    "start_time": "2022-04-10T08:35:29.239Z"
   },
   {
    "duration": 5,
    "start_time": "2022-04-10T08:35:29.735Z"
   },
   {
    "duration": 14,
    "start_time": "2022-04-10T08:35:30.038Z"
   },
   {
    "duration": 17,
    "start_time": "2022-04-10T08:35:30.278Z"
   },
   {
    "duration": 69,
    "start_time": "2022-04-10T08:35:30.878Z"
   },
   {
    "duration": 18,
    "start_time": "2022-04-10T08:35:31.294Z"
   },
   {
    "duration": 5,
    "start_time": "2022-04-10T08:35:31.598Z"
   },
   {
    "duration": 3954,
    "start_time": "2022-04-10T08:35:31.790Z"
   },
   {
    "duration": 1692,
    "start_time": "2022-04-10T08:35:35.748Z"
   },
   {
    "duration": 3093,
    "start_time": "2022-04-10T08:35:37.443Z"
   },
   {
    "duration": 9,
    "start_time": "2022-04-10T08:35:40.540Z"
   },
   {
    "duration": 32,
    "start_time": "2022-04-10T08:35:40.552Z"
   },
   {
    "duration": 8,
    "start_time": "2022-04-10T08:35:40.586Z"
   },
   {
    "duration": 817,
    "start_time": "2022-04-10T08:35:40.596Z"
   },
   {
    "duration": 16,
    "start_time": "2022-04-10T08:35:41.416Z"
   },
   {
    "duration": 213971,
    "start_time": "2022-04-10T08:35:41.435Z"
   },
   {
    "duration": 1580,
    "start_time": "2022-04-10T08:39:15.411Z"
   },
   {
    "duration": 122,
    "start_time": "2022-04-10T08:39:16.994Z"
   },
   {
    "duration": 2107,
    "start_time": "2022-04-10T08:39:17.119Z"
   },
   {
    "duration": 1866,
    "start_time": "2022-04-10T08:41:32.322Z"
   },
   {
    "duration": 26,
    "start_time": "2022-04-10T08:41:34.191Z"
   },
   {
    "duration": 2080,
    "start_time": "2022-04-10T08:41:36.345Z"
   },
   {
    "duration": 1622,
    "start_time": "2022-04-10T08:41:38.428Z"
   },
   {
    "duration": 16,
    "start_time": "2022-04-10T08:41:40.053Z"
   },
   {
    "duration": 40,
    "start_time": "2022-04-10T08:51:32.386Z"
   },
   {
    "duration": 5,
    "start_time": "2022-04-10T08:51:36.746Z"
   },
   {
    "duration": 13,
    "start_time": "2022-04-10T08:51:42.602Z"
   },
   {
    "duration": 96,
    "start_time": "2022-04-10T09:04:37.199Z"
   },
   {
    "duration": 105,
    "start_time": "2022-04-10T09:34:18.219Z"
   },
   {
    "duration": 2297,
    "start_time": "2022-04-10T10:01:35.600Z"
   },
   {
    "duration": 1412,
    "start_time": "2022-04-10T10:01:37.900Z"
   },
   {
    "duration": 27,
    "start_time": "2022-04-10T10:03:48.047Z"
   },
   {
    "duration": 232,
    "start_time": "2022-04-10T10:10:37.143Z"
   },
   {
    "duration": 204,
    "start_time": "2022-04-11T05:51:09.873Z"
   },
   {
    "duration": 2191,
    "start_time": "2022-04-11T05:51:13.894Z"
   },
   {
    "duration": 45,
    "start_time": "2022-04-11T05:52:00.693Z"
   },
   {
    "duration": 5,
    "start_time": "2022-04-11T05:52:03.733Z"
   },
   {
    "duration": 14,
    "start_time": "2022-04-11T05:52:04.164Z"
   },
   {
    "duration": 17,
    "start_time": "2022-04-11T05:52:05.038Z"
   },
   {
    "duration": 64,
    "start_time": "2022-04-11T05:52:50.925Z"
   },
   {
    "duration": 19,
    "start_time": "2022-04-11T05:52:53.322Z"
   },
   {
    "duration": 4,
    "start_time": "2022-04-11T05:53:10.938Z"
   },
   {
    "duration": 2436,
    "start_time": "2022-04-11T05:53:13.294Z"
   },
   {
    "duration": 2410,
    "start_time": "2022-04-11T05:55:00.174Z"
   },
   {
    "duration": 168,
    "start_time": "2022-04-11T05:55:20.169Z"
   },
   {
    "duration": 2311,
    "start_time": "2022-04-11T05:56:09.841Z"
   },
   {
    "duration": 1956,
    "start_time": "2022-04-11T05:56:21.503Z"
   },
   {
    "duration": 1990,
    "start_time": "2022-04-11T05:56:44.993Z"
   },
   {
    "duration": 2016,
    "start_time": "2022-04-11T05:58:34.656Z"
   },
   {
    "duration": 2122,
    "start_time": "2022-04-11T05:58:49.076Z"
   },
   {
    "duration": 196,
    "start_time": "2022-04-11T05:59:11.783Z"
   },
   {
    "duration": 1317,
    "start_time": "2022-04-11T05:59:14.389Z"
   },
   {
    "duration": 2135,
    "start_time": "2022-04-11T05:59:25.541Z"
   },
   {
    "duration": 30,
    "start_time": "2022-04-11T06:00:10.130Z"
   },
   {
    "duration": 26,
    "start_time": "2022-04-11T06:00:24.379Z"
   },
   {
    "duration": 2227,
    "start_time": "2022-04-11T06:00:31.023Z"
   },
   {
    "duration": 1870,
    "start_time": "2022-04-11T06:00:42.798Z"
   },
   {
    "duration": 2337,
    "start_time": "2022-04-11T06:01:54.912Z"
   },
   {
    "duration": 1915,
    "start_time": "2022-04-11T06:02:01.713Z"
   },
   {
    "duration": 2203,
    "start_time": "2022-04-11T06:02:12.989Z"
   },
   {
    "duration": 233,
    "start_time": "2022-04-11T06:02:56.497Z"
   },
   {
    "duration": 27,
    "start_time": "2022-04-11T06:04:12.667Z"
   },
   {
    "duration": 26,
    "start_time": "2022-04-11T06:04:18.720Z"
   },
   {
    "duration": 199,
    "start_time": "2022-04-11T06:05:13.885Z"
   },
   {
    "duration": 2233,
    "start_time": "2022-04-11T06:05:17.269Z"
   },
   {
    "duration": 2090,
    "start_time": "2022-04-11T06:05:24.108Z"
   },
   {
    "duration": 2192,
    "start_time": "2022-04-11T06:05:27.153Z"
   },
   {
    "duration": 2279,
    "start_time": "2022-04-11T06:06:59.456Z"
   },
   {
    "duration": 2153,
    "start_time": "2022-04-11T06:07:24.801Z"
   },
   {
    "duration": 1963,
    "start_time": "2022-04-11T06:07:32.066Z"
   },
   {
    "duration": 4,
    "start_time": "2022-04-11T06:08:47.388Z"
   },
   {
    "duration": 978,
    "start_time": "2022-04-11T06:08:51.651Z"
   },
   {
    "duration": 2103,
    "start_time": "2022-04-11T06:09:29.089Z"
   },
   {
    "duration": 1286,
    "start_time": "2022-04-11T06:09:33.479Z"
   },
   {
    "duration": 25,
    "start_time": "2022-04-11T06:13:30.692Z"
   },
   {
    "duration": 6,
    "start_time": "2022-04-11T06:13:34.807Z"
   },
   {
    "duration": 698,
    "start_time": "2022-04-11T06:13:36.115Z"
   },
   {
    "duration": 24,
    "start_time": "2022-04-11T06:14:57.117Z"
   },
   {
    "duration": 6,
    "start_time": "2022-04-11T06:15:00.107Z"
   },
   {
    "duration": 716,
    "start_time": "2022-04-11T06:15:00.723Z"
   },
   {
    "duration": 1156,
    "start_time": "2022-04-11T06:36:44.115Z"
   },
   {
    "duration": 2131,
    "start_time": "2022-04-11T06:37:10.293Z"
   },
   {
    "duration": 3417,
    "start_time": "2022-04-11T06:37:23.952Z"
   },
   {
    "duration": 2792,
    "start_time": "2022-04-11T06:37:46.359Z"
   },
   {
    "duration": 2025,
    "start_time": "2022-04-11T06:38:48.764Z"
   },
   {
    "duration": 2164,
    "start_time": "2022-04-11T06:39:21.794Z"
   },
   {
    "duration": 1983,
    "start_time": "2022-04-11T06:39:31.752Z"
   },
   {
    "duration": 2354,
    "start_time": "2022-04-11T06:40:44.593Z"
   },
   {
    "duration": 31,
    "start_time": "2022-04-11T06:40:58.065Z"
   },
   {
    "duration": 2258,
    "start_time": "2022-04-11T06:41:29.492Z"
   },
   {
    "duration": 7,
    "start_time": "2022-04-11T06:44:11.615Z"
   },
   {
    "duration": 22,
    "start_time": "2022-04-11T06:44:20.035Z"
   },
   {
    "duration": 20,
    "start_time": "2022-04-11T06:45:30.716Z"
   },
   {
    "duration": 6,
    "start_time": "2022-04-11T06:45:34.210Z"
   },
   {
    "duration": 12,
    "start_time": "2022-04-11T06:46:37.781Z"
   },
   {
    "duration": 1606,
    "start_time": "2022-04-11T06:46:43.441Z"
   },
   {
    "duration": 25,
    "start_time": "2022-04-11T06:46:45.050Z"
   },
   {
    "duration": 25,
    "start_time": "2022-04-11T06:47:41.297Z"
   },
   {
    "duration": 2121,
    "start_time": "2022-04-11T06:48:51.868Z"
   },
   {
    "duration": 1685,
    "start_time": "2022-04-11T06:48:55.116Z"
   },
   {
    "duration": 2057,
    "start_time": "2022-04-11T06:49:51.268Z"
   },
   {
    "duration": 47,
    "start_time": "2022-04-11T06:49:53.329Z"
   },
   {
    "duration": 4,
    "start_time": "2022-04-11T06:49:53.379Z"
   },
   {
    "duration": 16,
    "start_time": "2022-04-11T06:49:53.386Z"
   },
   {
    "duration": 43,
    "start_time": "2022-04-11T06:49:53.404Z"
   },
   {
    "duration": 64,
    "start_time": "2022-04-11T06:49:53.449Z"
   },
   {
    "duration": 40,
    "start_time": "2022-04-11T06:49:53.516Z"
   },
   {
    "duration": 4,
    "start_time": "2022-04-11T06:49:53.558Z"
   },
   {
    "duration": 2045,
    "start_time": "2022-04-11T06:49:53.564Z"
   },
   {
    "duration": 199,
    "start_time": "2022-04-11T06:49:55.613Z"
   },
   {
    "duration": 0,
    "start_time": "2022-04-11T06:49:55.814Z"
   },
   {
    "duration": 0,
    "start_time": "2022-04-11T06:49:55.816Z"
   },
   {
    "duration": 0,
    "start_time": "2022-04-11T06:49:55.817Z"
   },
   {
    "duration": 1,
    "start_time": "2022-04-11T06:49:55.818Z"
   },
   {
    "duration": 0,
    "start_time": "2022-04-11T06:49:55.821Z"
   },
   {
    "duration": 0,
    "start_time": "2022-04-11T06:49:55.822Z"
   },
   {
    "duration": 0,
    "start_time": "2022-04-11T06:49:55.824Z"
   },
   {
    "duration": 0,
    "start_time": "2022-04-11T06:49:55.825Z"
   },
   {
    "duration": 0,
    "start_time": "2022-04-11T06:49:55.827Z"
   },
   {
    "duration": 0,
    "start_time": "2022-04-11T06:49:55.829Z"
   },
   {
    "duration": 0,
    "start_time": "2022-04-11T06:49:55.830Z"
   },
   {
    "duration": 0,
    "start_time": "2022-04-11T06:49:55.832Z"
   },
   {
    "duration": 0,
    "start_time": "2022-04-11T06:49:55.833Z"
   },
   {
    "duration": 1343,
    "start_time": "2022-04-11T06:56:02.765Z"
   },
   {
    "duration": 30,
    "start_time": "2022-04-11T06:56:15.575Z"
   },
   {
    "duration": 1989,
    "start_time": "2022-04-11T06:56:16.174Z"
   },
   {
    "duration": 6,
    "start_time": "2022-04-11T06:56:22.879Z"
   },
   {
    "duration": 29,
    "start_time": "2022-04-11T06:56:24.661Z"
   },
   {
    "duration": 6,
    "start_time": "2022-04-11T06:56:25.647Z"
   },
   {
    "duration": 513,
    "start_time": "2022-04-11T06:56:26.000Z"
   },
   {
    "duration": 13,
    "start_time": "2022-04-11T06:56:27.807Z"
   },
   {
    "duration": 162054,
    "start_time": "2022-04-11T06:56:28.001Z"
   },
   {
    "duration": 1990,
    "start_time": "2022-04-11T06:59:10.057Z"
   },
   {
    "duration": 29,
    "start_time": "2022-04-11T06:59:12.049Z"
   },
   {
    "duration": 2115,
    "start_time": "2022-04-11T06:59:12.081Z"
   },
   {
    "duration": 1499,
    "start_time": "2022-04-11T06:59:14.198Z"
   },
   {
    "duration": 16,
    "start_time": "2022-04-11T07:00:54.604Z"
   },
   {
    "duration": 2077,
    "start_time": "2022-04-11T07:01:12.852Z"
   },
   {
    "duration": 51,
    "start_time": "2022-04-11T07:01:14.932Z"
   },
   {
    "duration": 4,
    "start_time": "2022-04-11T07:01:14.986Z"
   },
   {
    "duration": 21,
    "start_time": "2022-04-11T07:01:14.993Z"
   },
   {
    "duration": 55,
    "start_time": "2022-04-11T07:01:15.017Z"
   },
   {
    "duration": 83,
    "start_time": "2022-04-11T07:01:15.074Z"
   },
   {
    "duration": 16,
    "start_time": "2022-04-11T07:01:15.159Z"
   },
   {
    "duration": 4,
    "start_time": "2022-04-11T07:01:15.177Z"
   },
   {
    "duration": 2299,
    "start_time": "2022-04-11T07:01:15.184Z"
   },
   {
    "duration": 1340,
    "start_time": "2022-04-11T07:01:17.485Z"
   },
   {
    "duration": 39,
    "start_time": "2022-04-11T07:01:18.827Z"
   },
   {
    "duration": 2596,
    "start_time": "2022-04-11T07:01:18.868Z"
   },
   {
    "duration": 9,
    "start_time": "2022-04-11T07:01:21.467Z"
   },
   {
    "duration": 22,
    "start_time": "2022-04-11T07:01:21.481Z"
   },
   {
    "duration": 7,
    "start_time": "2022-04-11T07:01:21.505Z"
   },
   {
    "duration": 538,
    "start_time": "2022-04-11T07:01:21.515Z"
   },
   {
    "duration": 12,
    "start_time": "2022-04-11T07:01:22.055Z"
   },
   {
    "duration": 166302,
    "start_time": "2022-04-11T07:01:22.069Z"
   },
   {
    "duration": 979,
    "start_time": "2022-04-11T07:04:08.373Z"
   },
   {
    "duration": 109,
    "start_time": "2022-04-11T07:04:09.354Z"
   },
   {
    "duration": 2095,
    "start_time": "2022-04-11T07:04:09.465Z"
   },
   {
    "duration": 1483,
    "start_time": "2022-04-11T07:04:11.562Z"
   },
   {
    "duration": 13,
    "start_time": "2022-04-11T07:04:13.047Z"
   },
   {
    "duration": 113,
    "start_time": "2022-04-11T15:41:06.759Z"
   },
   {
    "duration": 111,
    "start_time": "2022-04-11T15:41:49.328Z"
   }
  ],
  "kernelspec": {
   "display_name": "Python 3 (ipykernel)",
   "language": "python",
   "name": "python3"
  },
  "language_info": {
   "codemirror_mode": {
    "name": "ipython",
    "version": 3
   },
   "file_extension": ".py",
   "mimetype": "text/x-python",
   "name": "python",
   "nbconvert_exporter": "python",
   "pygments_lexer": "ipython3",
   "version": "3.9.7"
  },
  "toc": {
   "base_numbering": 1,
   "nav_menu": {},
   "number_sections": true,
   "sideBar": true,
   "skip_h1_title": true,
   "title_cell": "Table of Contents",
   "title_sidebar": "Contents",
   "toc_cell": false,
   "toc_position": {},
   "toc_section_display": true,
   "toc_window_display": true
  }
 },
 "nbformat": 4,
 "nbformat_minor": 2
}
